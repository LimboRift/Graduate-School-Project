{
 "cells": [
  {
   "cell_type": "markdown",
   "metadata": {},
   "source": [
    "# Load Data and Final Clean"
   ]
  },
  {
   "cell_type": "code",
   "execution_count": 1,
   "metadata": {},
   "outputs": [],
   "source": [
    "df <- read.csv(file=\"data_010820.csv\",sep=\",\",header=TRUE)"
   ]
  },
  {
   "cell_type": "code",
   "execution_count": 3,
   "metadata": {
    "scrolled": true
   },
   "outputs": [
    {
     "data": {
      "text/html": [
       "<ol class=list-inline>\n",
       "\t<li>'X'</li>\n",
       "\t<li>'X1st.Term.Funding'</li>\n",
       "\t<li>'X2nd.Term.Funding'</li>\n",
       "\t<li>'X3rd.Term.Funding'</li>\n",
       "\t<li>'X4th.Term.Funding'</li>\n",
       "\t<li>'Start.age'</li>\n",
       "\t<li>'College'</li>\n",
       "\t<li>'Current.Age'</li>\n",
       "\t<li>'Degree'</li>\n",
       "\t<li>'Gender'</li>\n",
       "\t<li>'Grad.Funding.Indicator'</li>\n",
       "\t<li>'ID'</li>\n",
       "\t<li>'Citizenship'</li>\n",
       "\t<li>'Major.ID'</li>\n",
       "\t<li>'Major'</li>\n",
       "\t<li>'Net.Cost.After.Any.Funding'</li>\n",
       "\t<li>'Program'</li>\n",
       "\t<li>'Prep.Level'</li>\n",
       "\t<li>'Total.Charges'</li>\n",
       "\t<li>'Total.Funding.Amount'</li>\n",
       "\t<li>'Y'</li>\n",
       "\t<li>'PC1'</li>\n",
       "\t<li>'PC2'</li>\n",
       "\t<li>'PC3'</li>\n",
       "\t<li>'Term.1.GPA'</li>\n",
       "\t<li>'Term.2.GPA'</li>\n",
       "\t<li>'Term.3.GPA'</li>\n",
       "\t<li>'Term.4.GPA'</li>\n",
       "\t<li>'Term.5.GPA'</li>\n",
       "\t<li>'Term.6.GPA'</li>\n",
       "\t<li>'Term.7.GPA'</li>\n",
       "\t<li>'Term.8.GPA'</li>\n",
       "\t<li>'Gap'</li>\n",
       "\t<li>'Slope'</li>\n",
       "\t<li>'Valid.term'</li>\n",
       "\t<li>'Average'</li>\n",
       "\t<li>'Academic.Period..Years.'</li>\n",
       "</ol>\n"
      ],
      "text/latex": [
       "\\begin{enumerate*}\n",
       "\\item 'X'\n",
       "\\item 'X1st.Term.Funding'\n",
       "\\item 'X2nd.Term.Funding'\n",
       "\\item 'X3rd.Term.Funding'\n",
       "\\item 'X4th.Term.Funding'\n",
       "\\item 'Start.age'\n",
       "\\item 'College'\n",
       "\\item 'Current.Age'\n",
       "\\item 'Degree'\n",
       "\\item 'Gender'\n",
       "\\item 'Grad.Funding.Indicator'\n",
       "\\item 'ID'\n",
       "\\item 'Citizenship'\n",
       "\\item 'Major.ID'\n",
       "\\item 'Major'\n",
       "\\item 'Net.Cost.After.Any.Funding'\n",
       "\\item 'Program'\n",
       "\\item 'Prep.Level'\n",
       "\\item 'Total.Charges'\n",
       "\\item 'Total.Funding.Amount'\n",
       "\\item 'Y'\n",
       "\\item 'PC1'\n",
       "\\item 'PC2'\n",
       "\\item 'PC3'\n",
       "\\item 'Term.1.GPA'\n",
       "\\item 'Term.2.GPA'\n",
       "\\item 'Term.3.GPA'\n",
       "\\item 'Term.4.GPA'\n",
       "\\item 'Term.5.GPA'\n",
       "\\item 'Term.6.GPA'\n",
       "\\item 'Term.7.GPA'\n",
       "\\item 'Term.8.GPA'\n",
       "\\item 'Gap'\n",
       "\\item 'Slope'\n",
       "\\item 'Valid.term'\n",
       "\\item 'Average'\n",
       "\\item 'Academic.Period..Years.'\n",
       "\\end{enumerate*}\n"
      ],
      "text/markdown": [
       "1. 'X'\n",
       "2. 'X1st.Term.Funding'\n",
       "3. 'X2nd.Term.Funding'\n",
       "4. 'X3rd.Term.Funding'\n",
       "5. 'X4th.Term.Funding'\n",
       "6. 'Start.age'\n",
       "7. 'College'\n",
       "8. 'Current.Age'\n",
       "9. 'Degree'\n",
       "10. 'Gender'\n",
       "11. 'Grad.Funding.Indicator'\n",
       "12. 'ID'\n",
       "13. 'Citizenship'\n",
       "14. 'Major.ID'\n",
       "15. 'Major'\n",
       "16. 'Net.Cost.After.Any.Funding'\n",
       "17. 'Program'\n",
       "18. 'Prep.Level'\n",
       "19. 'Total.Charges'\n",
       "20. 'Total.Funding.Amount'\n",
       "21. 'Y'\n",
       "22. 'PC1'\n",
       "23. 'PC2'\n",
       "24. 'PC3'\n",
       "25. 'Term.1.GPA'\n",
       "26. 'Term.2.GPA'\n",
       "27. 'Term.3.GPA'\n",
       "28. 'Term.4.GPA'\n",
       "29. 'Term.5.GPA'\n",
       "30. 'Term.6.GPA'\n",
       "31. 'Term.7.GPA'\n",
       "32. 'Term.8.GPA'\n",
       "33. 'Gap'\n",
       "34. 'Slope'\n",
       "35. 'Valid.term'\n",
       "36. 'Average'\n",
       "37. 'Academic.Period..Years.'\n",
       "\n",
       "\n"
      ],
      "text/plain": [
       " [1] \"X\"                          \"X1st.Term.Funding\"         \n",
       " [3] \"X2nd.Term.Funding\"          \"X3rd.Term.Funding\"         \n",
       " [5] \"X4th.Term.Funding\"          \"Start.age\"                 \n",
       " [7] \"College\"                    \"Current.Age\"               \n",
       " [9] \"Degree\"                     \"Gender\"                    \n",
       "[11] \"Grad.Funding.Indicator\"     \"ID\"                        \n",
       "[13] \"Citizenship\"                \"Major.ID\"                  \n",
       "[15] \"Major\"                      \"Net.Cost.After.Any.Funding\"\n",
       "[17] \"Program\"                    \"Prep.Level\"                \n",
       "[19] \"Total.Charges\"              \"Total.Funding.Amount\"      \n",
       "[21] \"Y\"                          \"PC1\"                       \n",
       "[23] \"PC2\"                        \"PC3\"                       \n",
       "[25] \"Term.1.GPA\"                 \"Term.2.GPA\"                \n",
       "[27] \"Term.3.GPA\"                 \"Term.4.GPA\"                \n",
       "[29] \"Term.5.GPA\"                 \"Term.6.GPA\"                \n",
       "[31] \"Term.7.GPA\"                 \"Term.8.GPA\"                \n",
       "[33] \"Gap\"                        \"Slope\"                     \n",
       "[35] \"Valid.term\"                 \"Average\"                   \n",
       "[37] \"Academic.Period..Years.\"   "
      ]
     },
     "metadata": {},
     "output_type": "display_data"
    },
    {
     "data": {
      "text/html": [
       "<ol class=list-inline>\n",
       "\t<li>2470</li>\n",
       "\t<li>37</li>\n",
       "</ol>\n"
      ],
      "text/latex": [
       "\\begin{enumerate*}\n",
       "\\item 2470\n",
       "\\item 37\n",
       "\\end{enumerate*}\n"
      ],
      "text/markdown": [
       "1. 2470\n",
       "2. 37\n",
       "\n",
       "\n"
      ],
      "text/plain": [
       "[1] 2470   37"
      ]
     },
     "metadata": {},
     "output_type": "display_data"
    }
   ],
   "source": [
    "colnames(df)\n",
    "dim(df)"
   ]
  },
  {
   "cell_type": "code",
   "execution_count": 4,
   "metadata": {},
   "outputs": [],
   "source": [
    "colnames(df)[16] = 'net_cost'\n",
    "colnames(df)[34] = 'GPA_trend'\n",
    "colnames(df)[37] = 'academic_period'\n",
    "df$net_cost = df$net_cost/10000"
   ]
  },
  {
   "cell_type": "markdown",
   "metadata": {},
   "source": [
    "## Seperate by School"
   ]
  },
  {
   "cell_type": "markdown",
   "metadata": {},
   "source": [
    "Different Schools"
   ]
  },
  {
   "cell_type": "code",
   "execution_count": 5,
   "metadata": {},
   "outputs": [
    {
     "data": {
      "text/html": [
       "<ol class=list-inline>\n",
       "\t<li>'GD CCPA'</li>\n",
       "\t<li>'GD Education'</li>\n",
       "\t<li>'GD Grad School'</li>\n",
       "\t<li>'GD Harpur'</li>\n",
       "\t<li>'GD Management'</li>\n",
       "\t<li>'GD Nursing'</li>\n",
       "\t<li>'GD Watson'</li>\n",
       "</ol>\n"
      ],
      "text/latex": [
       "\\begin{enumerate*}\n",
       "\\item 'GD CCPA'\n",
       "\\item 'GD Education'\n",
       "\\item 'GD Grad School'\n",
       "\\item 'GD Harpur'\n",
       "\\item 'GD Management'\n",
       "\\item 'GD Nursing'\n",
       "\\item 'GD Watson'\n",
       "\\end{enumerate*}\n"
      ],
      "text/markdown": [
       "1. 'GD CCPA'\n",
       "2. 'GD Education'\n",
       "3. 'GD Grad School'\n",
       "4. 'GD Harpur'\n",
       "5. 'GD Management'\n",
       "6. 'GD Nursing'\n",
       "7. 'GD Watson'\n",
       "\n",
       "\n"
      ],
      "text/plain": [
       "[1] \"GD CCPA\"        \"GD Education\"   \"GD Grad School\" \"GD Harpur\"     \n",
       "[5] \"GD Management\"  \"GD Nursing\"     \"GD Watson\"     "
      ]
     },
     "metadata": {},
     "output_type": "display_data"
    }
   ],
   "source": [
    "levels(factor(df$College))"
   ]
  },
  {
   "cell_type": "code",
   "execution_count": 11,
   "metadata": {},
   "outputs": [],
   "source": [
    "#Harpuer_df = df[which(df$College %in% c(\"GD Harpur, GD Education, GD Grad School\",\"GD CCPA\")),]\n",
    "Harpuer_df = df[which(df$College %in% c(\"GD Harpur\")),]\n",
    "Management_df = df[which(df$College==\"GD Management\"),]\n",
    "Nursing_df = df[which(df$College==\"GD Nursing\"),]\n",
    "Watson_df = df[which(df$College==\"GD Watson\"),]"
   ]
  },
  {
   "cell_type": "code",
   "execution_count": 24,
   "metadata": {
    "scrolled": false
   },
   "outputs": [
    {
     "data": {
      "text/html": [
       "<ol class=list-inline>\n",
       "\t<li>'Anthropology'</li>\n",
       "\t<li>'Art History'</li>\n",
       "\t<li>'Art History Combined MA PhD'</li>\n",
       "\t<li>'Behavioral Neuroscience'</li>\n",
       "\t<li>'Biological Sciences'</li>\n",
       "\t<li>'Biological Sciences EEB'</li>\n",
       "\t<li>'Biomedical Engineering'</li>\n",
       "\t<li>'Chemistry'</li>\n",
       "\t<li>'Clinical Psychology'</li>\n",
       "\t<li>'Cognitive Psychology'</li>\n",
       "\t<li>'Community and Public Affairs'</li>\n",
       "\t<li>'Community Health NP'</li>\n",
       "\t<li>'Comparative Literature'</li>\n",
       "\t<li>'Computer Science'</li>\n",
       "\t<li>'Economics'</li>\n",
       "\t<li>'Educational Theory and Practic'</li>\n",
       "\t<li>'Electrical and Computer Engr'</li>\n",
       "\t<li>'Electrical Engineering'</li>\n",
       "\t<li>'English'</li>\n",
       "\t<li>'Family Nurse Practitioner'</li>\n",
       "\t<li>'Family Psych Mental Health NP'</li>\n",
       "\t<li>'Geology'</li>\n",
       "\t<li>'History'</li>\n",
       "\t<li>'Industrial and Systems Enginee'</li>\n",
       "\t<li>'Management PHD'</li>\n",
       "\t<li>'Material Sci and Eng-Engineerg'</li>\n",
       "\t<li>'Materials Engineering'</li>\n",
       "\t<li>'Materials Science and Engineer'</li>\n",
       "\t<li>'Materials Science and Engr'</li>\n",
       "\t<li>'Mathematics'</li>\n",
       "\t<li>'Mathematics/Economics'</li>\n",
       "\t<li>'Mechanical Engineering'</li>\n",
       "\t<li>'Nursing'</li>\n",
       "\t<li>'Philosophy Interpretation and'</li>\n",
       "\t<li>'Philosophy SPEL'</li>\n",
       "\t<li>'Physics'</li>\n",
       "\t<li>'Political Science'</li>\n",
       "\t<li>'Sociology'</li>\n",
       "\t<li>'Systems Science'</li>\n",
       "\t<li>'Systems Science/Biomedical Engineering'</li>\n",
       "\t<li>'Systems Science/EE'</li>\n",
       "\t<li>'Translation Studies'</li>\n",
       "\t<li>'X Geology'</li>\n",
       "\t<li>'X Gerontological NP'</li>\n",
       "\t<li>'XGerontolog Clin Nurse Special'</li>\n",
       "</ol>\n"
      ],
      "text/latex": [
       "\\begin{enumerate*}\n",
       "\\item 'Anthropology'\n",
       "\\item 'Art History'\n",
       "\\item 'Art History Combined MA PhD'\n",
       "\\item 'Behavioral Neuroscience'\n",
       "\\item 'Biological Sciences'\n",
       "\\item 'Biological Sciences EEB'\n",
       "\\item 'Biomedical Engineering'\n",
       "\\item 'Chemistry'\n",
       "\\item 'Clinical Psychology'\n",
       "\\item 'Cognitive Psychology'\n",
       "\\item 'Community and Public Affairs'\n",
       "\\item 'Community Health NP'\n",
       "\\item 'Comparative Literature'\n",
       "\\item 'Computer Science'\n",
       "\\item 'Economics'\n",
       "\\item 'Educational Theory and Practic'\n",
       "\\item 'Electrical and Computer Engr'\n",
       "\\item 'Electrical Engineering'\n",
       "\\item 'English'\n",
       "\\item 'Family Nurse Practitioner'\n",
       "\\item 'Family Psych Mental Health NP'\n",
       "\\item 'Geology'\n",
       "\\item 'History'\n",
       "\\item 'Industrial and Systems Enginee'\n",
       "\\item 'Management PHD'\n",
       "\\item 'Material Sci and Eng-Engineerg'\n",
       "\\item 'Materials Engineering'\n",
       "\\item 'Materials Science and Engineer'\n",
       "\\item 'Materials Science and Engr'\n",
       "\\item 'Mathematics'\n",
       "\\item 'Mathematics/Economics'\n",
       "\\item 'Mechanical Engineering'\n",
       "\\item 'Nursing'\n",
       "\\item 'Philosophy Interpretation and'\n",
       "\\item 'Philosophy SPEL'\n",
       "\\item 'Physics'\n",
       "\\item 'Political Science'\n",
       "\\item 'Sociology'\n",
       "\\item 'Systems Science'\n",
       "\\item 'Systems Science/Biomedical Engineering'\n",
       "\\item 'Systems Science/EE'\n",
       "\\item 'Translation Studies'\n",
       "\\item 'X Geology'\n",
       "\\item 'X Gerontological NP'\n",
       "\\item 'XGerontolog Clin Nurse Special'\n",
       "\\end{enumerate*}\n"
      ],
      "text/markdown": [
       "1. 'Anthropology'\n",
       "2. 'Art History'\n",
       "3. 'Art History Combined MA PhD'\n",
       "4. 'Behavioral Neuroscience'\n",
       "5. 'Biological Sciences'\n",
       "6. 'Biological Sciences EEB'\n",
       "7. 'Biomedical Engineering'\n",
       "8. 'Chemistry'\n",
       "9. 'Clinical Psychology'\n",
       "10. 'Cognitive Psychology'\n",
       "11. 'Community and Public Affairs'\n",
       "12. 'Community Health NP'\n",
       "13. 'Comparative Literature'\n",
       "14. 'Computer Science'\n",
       "15. 'Economics'\n",
       "16. 'Educational Theory and Practic'\n",
       "17. 'Electrical and Computer Engr'\n",
       "18. 'Electrical Engineering'\n",
       "19. 'English'\n",
       "20. 'Family Nurse Practitioner'\n",
       "21. 'Family Psych Mental Health NP'\n",
       "22. 'Geology'\n",
       "23. 'History'\n",
       "24. 'Industrial and Systems Enginee'\n",
       "25. 'Management PHD'\n",
       "26. 'Material Sci and Eng-Engineerg'\n",
       "27. 'Materials Engineering'\n",
       "28. 'Materials Science and Engineer'\n",
       "29. 'Materials Science and Engr'\n",
       "30. 'Mathematics'\n",
       "31. 'Mathematics/Economics'\n",
       "32. 'Mechanical Engineering'\n",
       "33. 'Nursing'\n",
       "34. 'Philosophy Interpretation and'\n",
       "35. 'Philosophy SPEL'\n",
       "36. 'Physics'\n",
       "37. 'Political Science'\n",
       "38. 'Sociology'\n",
       "39. 'Systems Science'\n",
       "40. 'Systems Science/Biomedical Engineering'\n",
       "41. 'Systems Science/EE'\n",
       "42. 'Translation Studies'\n",
       "43. 'X Geology'\n",
       "44. 'X Gerontological NP'\n",
       "45. 'XGerontolog Clin Nurse Special'\n",
       "\n",
       "\n"
      ],
      "text/plain": [
       " [1] \"Anthropology\"                          \n",
       " [2] \"Art History\"                           \n",
       " [3] \"Art History Combined MA PhD\"           \n",
       " [4] \"Behavioral Neuroscience\"               \n",
       " [5] \"Biological Sciences\"                   \n",
       " [6] \"Biological Sciences EEB\"               \n",
       " [7] \"Biomedical Engineering\"                \n",
       " [8] \"Chemistry\"                             \n",
       " [9] \"Clinical Psychology\"                   \n",
       "[10] \"Cognitive Psychology\"                  \n",
       "[11] \"Community and Public Affairs\"          \n",
       "[12] \"Community Health NP\"                   \n",
       "[13] \"Comparative Literature\"                \n",
       "[14] \"Computer Science\"                      \n",
       "[15] \"Economics\"                             \n",
       "[16] \"Educational Theory and Practic\"        \n",
       "[17] \"Electrical and Computer Engr\"          \n",
       "[18] \"Electrical Engineering\"                \n",
       "[19] \"English\"                               \n",
       "[20] \"Family Nurse Practitioner\"             \n",
       "[21] \"Family Psych Mental Health NP\"         \n",
       "[22] \"Geology\"                               \n",
       "[23] \"History\"                               \n",
       "[24] \"Industrial and Systems Enginee\"        \n",
       "[25] \"Management PHD\"                        \n",
       "[26] \"Material Sci and Eng-Engineerg\"        \n",
       "[27] \"Materials Engineering\"                 \n",
       "[28] \"Materials Science and Engineer\"        \n",
       "[29] \"Materials Science and Engr\"            \n",
       "[30] \"Mathematics\"                           \n",
       "[31] \"Mathematics/Economics\"                 \n",
       "[32] \"Mechanical Engineering\"                \n",
       "[33] \"Nursing\"                               \n",
       "[34] \"Philosophy Interpretation and\"         \n",
       "[35] \"Philosophy SPEL\"                       \n",
       "[36] \"Physics\"                               \n",
       "[37] \"Political Science\"                     \n",
       "[38] \"Sociology\"                             \n",
       "[39] \"Systems Science\"                       \n",
       "[40] \"Systems Science/Biomedical Engineering\"\n",
       "[41] \"Systems Science/EE\"                    \n",
       "[42] \"Translation Studies\"                   \n",
       "[43] \"X Geology\"                             \n",
       "[44] \"X Gerontological NP\"                   \n",
       "[45] \"XGerontolog Clin Nurse Special\"        "
      ]
     },
     "metadata": {},
     "output_type": "display_data"
    }
   ],
   "source": [
    "levels(Management_df$Major)"
   ]
  },
  {
   "cell_type": "code",
   "execution_count": 72,
   "metadata": {},
   "outputs": [
    {
     "data": {
      "text/html": [
       "<table>\n",
       "<thead><tr><th scope=col>School</th><th scope=col>Total</th><th scope=col>Successful.Graduates</th><th scope=col>Unsuccessful.Graduates</th></tr></thead>\n",
       "<tbody>\n",
       "\t<tr><td>Harpur   </td><td>1606     </td><td>961      </td><td>645      </td></tr>\n",
       "\t<tr><td>CCPA     </td><td>  26     </td><td> 12      </td><td> 14      </td></tr>\n",
       "\t<tr><td>Education</td><td>  75     </td><td> 42      </td><td> 33      </td></tr>\n",
       "\t<tr><td>Grad     </td><td>  73     </td><td> 62      </td><td> 11      </td></tr>\n",
       "\t<tr><td>SOM      </td><td>  58     </td><td> 38      </td><td> 20      </td></tr>\n",
       "\t<tr><td>Nursing  </td><td> 117     </td><td> 72      </td><td> 45      </td></tr>\n",
       "\t<tr><td>Watson   </td><td> 515     </td><td>343      </td><td>172      </td></tr>\n",
       "</tbody>\n",
       "</table>\n"
      ],
      "text/latex": [
       "\\begin{tabular}{r|llll}\n",
       " School & Total & Successful.Graduates & Unsuccessful.Graduates\\\\\n",
       "\\hline\n",
       "\t Harpur    & 1606      & 961       & 645      \\\\\n",
       "\t CCPA      &   26      &  12       &  14      \\\\\n",
       "\t Education &   75      &  42       &  33      \\\\\n",
       "\t Grad      &   73      &  62       &  11      \\\\\n",
       "\t SOM       &   58      &  38       &  20      \\\\\n",
       "\t Nursing   &  117      &  72       &  45      \\\\\n",
       "\t Watson    &  515      & 343       & 172      \\\\\n",
       "\\end{tabular}\n"
      ],
      "text/markdown": [
       "\n",
       "| School | Total | Successful.Graduates | Unsuccessful.Graduates |\n",
       "|---|---|---|---|\n",
       "| Harpur    | 1606      | 961       | 645       |\n",
       "| CCPA      |   26      |  12       |  14       |\n",
       "| Education |   75      |  42       |  33       |\n",
       "| Grad      |   73      |  62       |  11       |\n",
       "| SOM       |   58      |  38       |  20       |\n",
       "| Nursing   |  117      |  72       |  45       |\n",
       "| Watson    |  515      | 343       | 172       |\n",
       "\n"
      ],
      "text/plain": [
       "  School    Total Successful.Graduates Unsuccessful.Graduates\n",
       "1 Harpur    1606  961                  645                   \n",
       "2 CCPA        26   12                   14                   \n",
       "3 Education   75   42                   33                   \n",
       "4 Grad        73   62                   11                   \n",
       "5 SOM         58   38                   20                   \n",
       "6 Nursing    117   72                   45                   \n",
       "7 Watson     515  343                  172                   "
      ]
     },
     "metadata": {},
     "output_type": "display_data"
    }
   ],
   "source": [
    "a_n = dim(Harpuer_df)[1]\n",
    "a_1 = sum(Harpuer_df$Y)\n",
    "a_0 = a_n - a_1\n",
    "b_n = dim(CCPA_df)[1]\n",
    "b_1 = sum(CCPA_df$Y)\n",
    "b_0 = b_n - b_1\n",
    "c_n = dim(Education_df)[1]\n",
    "c_1 = sum(Education_df$Y)\n",
    "c_0 = c_n - c_1\n",
    "d_n = dim(Grad_df)[1]\n",
    "d_1 = sum(Grad_df$Y)\n",
    "d_0 = d_n - d_1\n",
    "e_n = dim(Management_df)[1]\n",
    "e_1 = sum(Management_df$Y)\n",
    "e_0 = e_n - e_1\n",
    "f_n = dim(Nursing_df)[1]\n",
    "f_1 = sum(Nursing_df$Y)\n",
    "f_0 = f_n - f_1\n",
    "g_n = dim(Watson_df)[1]\n",
    "g_1 = sum(Watson_df$Y)\n",
    "g_0 = g_n - g_1\n",
    "School = c(\"Harpur\",\"CCPA\",\"Education\",\"Grad\",\"SOM\",\"Nursing\",\"Watson\")\n",
    "sch_total = c(a_n,b_n,c_n,d_n,e_n,f_n,g_n)\n",
    "succ_total = c(a_1,b_1,c_1,d_1,e_1,f_1,g_1)\n",
    "unsucc_total = c(a_0,b_0,c_0,d_0,e_0,f_0,g_0)\n",
    "data.frame(\"School\"=School,\"Total\"=sch_total,\"Successful Graduates\"=succ_total,\"Unsuccessful Graduates\"=unsucc_total)"
   ]
  },
  {
   "cell_type": "markdown",
   "metadata": {},
   "source": [
    "# Harpur Analysis"
   ]
  },
  {
   "cell_type": "markdown",
   "metadata": {},
   "source": [
    "Won't use Degree column since it does not accurately show the student's major"
   ]
  },
  {
   "cell_type": "markdown",
   "metadata": {},
   "source": [
    "<b> Logistic regression model:"
   ]
  },
  {
   "cell_type": "code",
   "execution_count": 73,
   "metadata": {},
   "outputs": [
    {
     "data": {
      "text/plain": [
       "\n",
       "Call:\n",
       "glm(formula = Y ~ Start.age + factor(Gender) + factor(Grad.Funding.Indicator) + \n",
       "    Citizenship + net_cost + PC1 + PC2 + PC3 + factor(Gap) + \n",
       "    GPA_trend + academic_period, family = \"binomial\", data = Harpuer_df)\n",
       "\n",
       "Deviance Residuals: \n",
       "    Min       1Q   Median       3Q      Max  \n",
       "-3.0966  -0.9420   0.5913   0.8977   2.0387  \n",
       "\n",
       "Coefficients:\n",
       "                                              Estimate Std. Error z value\n",
       "(Intercept)                                  -1.076450   0.509903  -2.111\n",
       "Start.age                                     0.002942   0.009686   0.304\n",
       "factor(Gender)Male                            0.024552   0.114791   0.214\n",
       "factor(Grad.Funding.Indicator)1               1.005712   0.153767   6.540\n",
       "CitizenshipAmerican Indian or Alaskan Native -1.929077   0.919019  -2.099\n",
       "CitizenshipAsia                              -0.058179   0.383520  -0.152\n",
       "CitizenshipAsian                             -1.178367   0.465538  -2.531\n",
       "CitizenshipBlack or African American         -0.526495   0.476590  -1.105\n",
       "CitizenshipChina                             -0.118200   0.393615  -0.300\n",
       "CitizenshipEurope                            -0.228634   0.469058  -0.487\n",
       "CitizenshipHispanic or Latino                -0.771643   0.415624  -1.857\n",
       "CitizenshipIndia                              0.112487   0.532884   0.211\n",
       "CitizenshipNorth America                     -0.466023   0.622712  -0.748\n",
       "CitizenshipSouth America                     -0.163141   0.570457  -0.286\n",
       "CitizenshipUnknown                           -0.463142   0.405662  -1.142\n",
       "CitizenshipWhite                             -0.501122   0.350403  -1.430\n",
       "net_cost                                      0.003807   0.023947   0.159\n",
       "PC1                                          -0.070473   0.027947  -2.522\n",
       "PC2                                          -0.262414   0.041287  -6.356\n",
       "PC3                                           0.414561   0.266914   1.553\n",
       "factor(Gap)1                                  0.336564   0.248949   1.352\n",
       "GPA_trend                                     0.910214   0.696512   1.307\n",
       "academic_period                               0.222684   0.022809   9.763\n",
       "                                             Pr(>|z|)    \n",
       "(Intercept)                                    0.0348 *  \n",
       "Start.age                                      0.7613    \n",
       "factor(Gender)Male                             0.8306    \n",
       "factor(Grad.Funding.Indicator)1              6.13e-11 ***\n",
       "CitizenshipAmerican Indian or Alaskan Native   0.0358 *  \n",
       "CitizenshipAsia                                0.8794    \n",
       "CitizenshipAsian                               0.0114 *  \n",
       "CitizenshipBlack or African American           0.2693    \n",
       "CitizenshipChina                               0.7640    \n",
       "CitizenshipEurope                              0.6260    \n",
       "CitizenshipHispanic or Latino                  0.0634 .  \n",
       "CitizenshipIndia                               0.8328    \n",
       "CitizenshipNorth America                       0.4542    \n",
       "CitizenshipSouth America                       0.7749    \n",
       "CitizenshipUnknown                             0.2536    \n",
       "CitizenshipWhite                               0.1527    \n",
       "net_cost                                       0.8737    \n",
       "PC1                                            0.0117 *  \n",
       "PC2                                          2.07e-10 ***\n",
       "PC3                                            0.1204    \n",
       "factor(Gap)1                                   0.1764    \n",
       "GPA_trend                                      0.1913    \n",
       "academic_period                               < 2e-16 ***\n",
       "---\n",
       "Signif. codes:  0 '***' 0.001 '**' 0.01 '*' 0.05 '.' 0.1 ' ' 1\n",
       "\n",
       "(Dispersion parameter for binomial family taken to be 1)\n",
       "\n",
       "    Null deviance: 2163.8  on 1605  degrees of freedom\n",
       "Residual deviance: 1829.3  on 1583  degrees of freedom\n",
       "AIC: 1875.3\n",
       "\n",
       "Number of Fisher Scoring iterations: 4\n"
      ]
     },
     "metadata": {},
     "output_type": "display_data"
    }
   ],
   "source": [
    "log_mod_h = glm(Y~Start.age+factor(Gender)+factor(Grad.Funding.Indicator)+Citizenship+\n",
    "                net_cost+PC1+PC2+PC3+factor(Gap)+GPA_trend+academic_period,\n",
    "                data=Harpuer_df,family=\"binomial\")\n",
    "summary(log_mod_h)"
   ]
  },
  {
   "cell_type": "markdown",
   "metadata": {},
   "source": [
    "<b> Significant Variables of logistic regression model: "
   ]
  },
  {
   "cell_type": "code",
   "execution_count": 74,
   "metadata": {
    "scrolled": true
   },
   "outputs": [
    {
     "data": {
      "text/html": [
       "<table>\n",
       "<thead><tr><th></th><th scope=col>Estimate</th><th scope=col>Pr(&gt;|z|)</th></tr></thead>\n",
       "<tbody>\n",
       "\t<tr><th scope=row>(Intercept)</th><td>-1.07645</td><td>0.03476 </td></tr>\n",
       "\t<tr><th scope=row>factor(Grad.Funding.Indicator)1</th><td> 1.00571</td><td>0.00000 </td></tr>\n",
       "\t<tr><th scope=row>CitizenshipAmerican Indian or Alaskan Native</th><td>-1.92908</td><td>0.03581 </td></tr>\n",
       "\t<tr><th scope=row>CitizenshipAsian</th><td>-1.17837</td><td>0.01137 </td></tr>\n",
       "\t<tr><th scope=row>PC1</th><td>-0.07047</td><td>0.01168 </td></tr>\n",
       "\t<tr><th scope=row>PC2</th><td>-0.26241</td><td>0.00000 </td></tr>\n",
       "\t<tr><th scope=row>academic_period</th><td> 0.22268</td><td>0.00000 </td></tr>\n",
       "</tbody>\n",
       "</table>\n"
      ],
      "text/latex": [
       "\\begin{tabular}{r|ll}\n",
       "  & Estimate & Pr(>\\textbar{}z\\textbar{})\\\\\n",
       "\\hline\n",
       "\t(Intercept) & -1.07645 & 0.03476 \\\\\n",
       "\tfactor(Grad.Funding.Indicator)1 &  1.00571 & 0.00000 \\\\\n",
       "\tCitizenshipAmerican Indian or Alaskan Native & -1.92908 & 0.03581 \\\\\n",
       "\tCitizenshipAsian & -1.17837 & 0.01137 \\\\\n",
       "\tPC1 & -0.07047 & 0.01168 \\\\\n",
       "\tPC2 & -0.26241 & 0.00000 \\\\\n",
       "\tacademic\\_period &  0.22268 & 0.00000 \\\\\n",
       "\\end{tabular}\n"
      ],
      "text/markdown": [
       "\n",
       "| <!--/--> | Estimate | Pr(>|z|) |\n",
       "|---|---|---|\n",
       "| (Intercept) | -1.07645 | 0.03476  |\n",
       "| factor(Grad.Funding.Indicator)1 |  1.00571 | 0.00000  |\n",
       "| CitizenshipAmerican Indian or Alaskan Native | -1.92908 | 0.03581  |\n",
       "| CitizenshipAsian | -1.17837 | 0.01137  |\n",
       "| PC1 | -0.07047 | 0.01168  |\n",
       "| PC2 | -0.26241 | 0.00000  |\n",
       "| academic_period |  0.22268 | 0.00000  |\n",
       "\n"
      ],
      "text/plain": [
       "                                             Estimate Pr(>|z|)\n",
       "(Intercept)                                  -1.07645 0.03476 \n",
       "factor(Grad.Funding.Indicator)1               1.00571 0.00000 \n",
       "CitizenshipAmerican Indian or Alaskan Native -1.92908 0.03581 \n",
       "CitizenshipAsian                             -1.17837 0.01137 \n",
       "PC1                                          -0.07047 0.01168 \n",
       "PC2                                          -0.26241 0.00000 \n",
       "academic_period                               0.22268 0.00000 "
      ]
     },
     "metadata": {},
     "output_type": "display_data"
    }
   ],
   "source": [
    "round(summary(log_mod_h)$coeff[which(summary(log_mod_h)$coef[,4] <= .05),c(1,4)],5)"
   ]
  },
  {
   "cell_type": "markdown",
   "metadata": {},
   "source": [
    "Things we need\n",
    "-  Run AIC/BIC stepwise model selection for Harpur and summarize results\n",
    "-  Repeat for the other schools"
   ]
  },
  {
   "cell_type": "markdown",
   "metadata": {},
   "source": [
    "<b> Backward AIC:"
   ]
  },
  {
   "cell_type": "code",
   "execution_count": 75,
   "metadata": {},
   "outputs": [
    {
     "name": "stdout",
     "output_type": "stream",
     "text": [
      "Start:  AIC=1875.28\n",
      "Y ~ Start.age + factor(Gender) + factor(Grad.Funding.Indicator) + \n",
      "    Citizenship + net_cost + PC1 + PC2 + PC3 + factor(Gap) + \n",
      "    GPA_trend + academic_period\n",
      "\n",
      "                                 Df Deviance    AIC\n",
      "- net_cost                        1   1829.3 1873.3\n",
      "- factor(Gender)                  1   1829.3 1873.3\n",
      "- Start.age                       1   1829.4 1873.4\n",
      "- Citizenship                    12   1851.4 1873.4\n",
      "- GPA_trend                       1   1831.0 1875.0\n",
      "- factor(Gap)                     1   1831.2 1875.2\n",
      "<none>                                1829.3 1875.3\n",
      "- PC3                             1   1832.7 1876.7\n",
      "- PC1                             1   1835.7 1879.7\n",
      "- PC2                             1   1872.0 1916.0\n",
      "- factor(Grad.Funding.Indicator)  1   1874.1 1918.1\n",
      "- academic_period                 1   1949.4 1993.4\n",
      "\n",
      "Step:  AIC=1873.3\n",
      "Y ~ Start.age + factor(Gender) + factor(Grad.Funding.Indicator) + \n",
      "    Citizenship + PC1 + PC2 + PC3 + factor(Gap) + GPA_trend + \n",
      "    academic_period\n",
      "\n",
      "                                 Df Deviance    AIC\n",
      "- factor(Gender)                  1   1829.3 1871.3\n",
      "- Start.age                       1   1829.4 1871.4\n",
      "- Citizenship                    12   1851.5 1871.5\n",
      "- GPA_trend                       1   1831.1 1873.1\n",
      "- factor(Gap)                     1   1831.2 1873.2\n",
      "<none>                                1829.3 1873.3\n",
      "- PC3                             1   1832.7 1874.7\n",
      "- PC1                             1   1835.7 1877.7\n",
      "- PC2                             1   1872.2 1914.2\n",
      "- factor(Grad.Funding.Indicator)  1   1874.4 1916.4\n",
      "- academic_period                 1   1954.0 1996.0\n",
      "\n",
      "Step:  AIC=1871.35\n",
      "Y ~ Start.age + factor(Grad.Funding.Indicator) + Citizenship + \n",
      "    PC1 + PC2 + PC3 + factor(Gap) + GPA_trend + academic_period\n",
      "\n",
      "                                 Df Deviance    AIC\n",
      "- Start.age                       1   1829.5 1869.5\n",
      "- Citizenship                    12   1851.6 1869.6\n",
      "- GPA_trend                       1   1831.1 1871.1\n",
      "- factor(Gap)                     1   1831.2 1871.2\n",
      "<none>                                1829.3 1871.3\n",
      "- PC3                             1   1832.7 1872.7\n",
      "- PC1                             1   1835.8 1875.8\n",
      "- PC2                             1   1872.2 1912.2\n",
      "- factor(Grad.Funding.Indicator)  1   1874.6 1914.6\n",
      "- academic_period                 1   1954.2 1994.2\n",
      "\n",
      "Step:  AIC=1869.46\n",
      "Y ~ factor(Grad.Funding.Indicator) + Citizenship + PC1 + PC2 + \n",
      "    PC3 + factor(Gap) + GPA_trend + academic_period\n",
      "\n",
      "                                 Df Deviance    AIC\n",
      "- Citizenship                    12   1851.8 1867.8\n",
      "- GPA_trend                       1   1831.2 1869.2\n",
      "- factor(Gap)                     1   1831.3 1869.3\n",
      "<none>                                1829.5 1869.5\n",
      "- PC3                             1   1833.0 1871.0\n",
      "- PC1                             1   1835.9 1873.9\n",
      "- PC2                             1   1872.9 1910.9\n",
      "- factor(Grad.Funding.Indicator)  1   1876.1 1914.1\n",
      "- academic_period                 1   1954.3 1992.3\n",
      "\n",
      "Step:  AIC=1867.77\n",
      "Y ~ factor(Grad.Funding.Indicator) + PC1 + PC2 + PC3 + factor(Gap) + \n",
      "    GPA_trend + academic_period\n",
      "\n",
      "                                 Df Deviance    AIC\n",
      "- factor(Gap)                     1   1852.9 1866.9\n",
      "- GPA_trend                       1   1853.7 1867.7\n",
      "<none>                                1851.8 1867.8\n",
      "- PC3                             1   1853.9 1867.9\n",
      "- PC1                             1   1858.2 1872.2\n",
      "- factor(Grad.Funding.Indicator)  1   1899.6 1913.6\n",
      "- PC2                             1   1900.9 1914.9\n",
      "- academic_period                 1   1971.1 1985.1\n",
      "\n",
      "Step:  AIC=1866.88\n",
      "Y ~ factor(Grad.Funding.Indicator) + PC1 + PC2 + PC3 + GPA_trend + \n",
      "    academic_period\n",
      "\n",
      "                                 Df Deviance    AIC\n",
      "- GPA_trend                       1   1854.8 1866.8\n",
      "<none>                                1852.9 1866.9\n",
      "- PC3                             1   1855.0 1867.0\n",
      "- PC1                             1   1859.2 1871.2\n",
      "- factor(Grad.Funding.Indicator)  1   1900.7 1912.7\n",
      "- PC2                             1   1902.4 1914.4\n",
      "- academic_period                 1   1982.7 1994.7\n",
      "\n",
      "Step:  AIC=1866.78\n",
      "Y ~ factor(Grad.Funding.Indicator) + PC1 + PC2 + PC3 + academic_period\n",
      "\n",
      "                                 Df Deviance    AIC\n",
      "<none>                                1854.8 1866.8\n",
      "- PC3                             1   1856.9 1866.9\n",
      "- PC1                             1   1861.1 1871.1\n",
      "- factor(Grad.Funding.Indicator)  1   1902.3 1912.3\n",
      "- PC2                             1   1903.6 1913.6\n",
      "- academic_period                 1   1991.1 2001.1\n"
     ]
    }
   ],
   "source": [
    "library('MASS')\n",
    "log_mod_h_aic = stepAIC(log_mod_h, direction = 'backward')"
   ]
  },
  {
   "cell_type": "markdown",
   "metadata": {},
   "source": [
    "<b> Significant variables backward BIC selects:"
   ]
  },
  {
   "cell_type": "code",
   "execution_count": 76,
   "metadata": {
    "scrolled": true
   },
   "outputs": [
    {
     "data": {
      "text/html": [
       "<table>\n",
       "<thead><tr><th></th><th scope=col>Estimate</th><th scope=col>Pr(&gt;|z|)</th></tr></thead>\n",
       "<tbody>\n",
       "\t<tr><th scope=row>(Intercept)</th><td>-1.36412</td><td>0.00000 </td></tr>\n",
       "\t<tr><th scope=row>factor(Grad.Funding.Indicator)1</th><td> 0.99276</td><td>0.00000 </td></tr>\n",
       "\t<tr><th scope=row>PC1</th><td>-0.06858</td><td>0.01239 </td></tr>\n",
       "\t<tr><th scope=row>PC2</th><td>-0.26974</td><td>0.00000 </td></tr>\n",
       "\t<tr><th scope=row>academic_period</th><td> 0.22377</td><td>0.00000 </td></tr>\n",
       "</tbody>\n",
       "</table>\n"
      ],
      "text/latex": [
       "\\begin{tabular}{r|ll}\n",
       "  & Estimate & Pr(>\\textbar{}z\\textbar{})\\\\\n",
       "\\hline\n",
       "\t(Intercept) & -1.36412 & 0.00000 \\\\\n",
       "\tfactor(Grad.Funding.Indicator)1 &  0.99276 & 0.00000 \\\\\n",
       "\tPC1 & -0.06858 & 0.01239 \\\\\n",
       "\tPC2 & -0.26974 & 0.00000 \\\\\n",
       "\tacademic\\_period &  0.22377 & 0.00000 \\\\\n",
       "\\end{tabular}\n"
      ],
      "text/markdown": [
       "\n",
       "| <!--/--> | Estimate | Pr(>|z|) |\n",
       "|---|---|---|\n",
       "| (Intercept) | -1.36412 | 0.00000  |\n",
       "| factor(Grad.Funding.Indicator)1 |  0.99276 | 0.00000  |\n",
       "| PC1 | -0.06858 | 0.01239  |\n",
       "| PC2 | -0.26974 | 0.00000  |\n",
       "| academic_period |  0.22377 | 0.00000  |\n",
       "\n"
      ],
      "text/plain": [
       "                                Estimate Pr(>|z|)\n",
       "(Intercept)                     -1.36412 0.00000 \n",
       "factor(Grad.Funding.Indicator)1  0.99276 0.00000 \n",
       "PC1                             -0.06858 0.01239 \n",
       "PC2                             -0.26974 0.00000 \n",
       "academic_period                  0.22377 0.00000 "
      ]
     },
     "metadata": {},
     "output_type": "display_data"
    }
   ],
   "source": [
    "round(summary(log_mod_h_aic)$coeff[which(summary(log_mod_h_aic)$coef[,4] <= .05),c(1,4)],5)"
   ]
  },
  {
   "cell_type": "markdown",
   "metadata": {},
   "source": [
    "<b> Backward BIC"
   ]
  },
  {
   "cell_type": "code",
   "execution_count": 77,
   "metadata": {
    "scrolled": true
   },
   "outputs": [
    {
     "name": "stdout",
     "output_type": "stream",
     "text": [
      "Start:  AIC=1999.05\n",
      "Y ~ Start.age + factor(Gender) + factor(Grad.Funding.Indicator) + \n",
      "    Citizenship + net_cost + PC1 + PC2 + PC3 + factor(Gap) + \n",
      "    GPA_trend + academic_period\n",
      "\n",
      "                                 Df Deviance    AIC\n",
      "- Citizenship                    12   1851.4 1932.6\n",
      "- net_cost                        1   1829.3 1991.7\n",
      "- factor(Gender)                  1   1829.3 1991.7\n",
      "- Start.age                       1   1829.4 1991.8\n",
      "- GPA_trend                       1   1831.0 1993.4\n",
      "- factor(Gap)                     1   1831.2 1993.6\n",
      "- PC3                             1   1832.7 1995.0\n",
      "- PC1                             1   1835.7 1998.1\n",
      "<none>                                1829.3 1999.0\n",
      "- PC2                             1   1872.0 2034.4\n",
      "- factor(Grad.Funding.Indicator)  1   1874.1 2036.5\n",
      "- academic_period                 1   1949.4 2111.8\n",
      "\n",
      "Step:  AIC=1932.63\n",
      "Y ~ Start.age + factor(Gender) + factor(Grad.Funding.Indicator) + \n",
      "    net_cost + PC1 + PC2 + PC3 + factor(Gap) + GPA_trend + academic_period\n",
      "\n",
      "                                 Df Deviance    AIC\n",
      "- net_cost                        1   1851.5 1925.3\n",
      "- factor(Gender)                  1   1851.5 1925.4\n",
      "- Start.age                       1   1851.6 1925.4\n",
      "- factor(Gap)                     1   1852.5 1926.4\n",
      "- GPA_trend                       1   1853.5 1927.3\n",
      "- PC3                             1   1853.5 1927.4\n",
      "- PC1                             1   1857.8 1931.7\n",
      "<none>                                1851.4 1932.6\n",
      "- factor(Grad.Funding.Indicator)  1   1897.8 1971.6\n",
      "- PC2                             1   1899.6 1973.4\n",
      "- academic_period                 1   1967.5 2041.3\n",
      "\n",
      "Step:  AIC=1925.34\n",
      "Y ~ Start.age + factor(Gender) + factor(Grad.Funding.Indicator) + \n",
      "    PC1 + PC2 + PC3 + factor(Gap) + GPA_trend + academic_period\n",
      "\n",
      "                                 Df Deviance    AIC\n",
      "- Start.age                       1   1851.6 1918.1\n",
      "- factor(Gender)                  1   1851.6 1918.1\n",
      "- factor(Gap)                     1   1852.7 1919.1\n",
      "- GPA_trend                       1   1853.5 1920.0\n",
      "- PC3                             1   1853.6 1920.0\n",
      "- PC1                             1   1857.9 1924.3\n",
      "<none>                                1851.5 1925.3\n",
      "- factor(Grad.Funding.Indicator)  1   1897.8 1964.2\n",
      "- PC2                             1   1899.6 1966.0\n",
      "- academic_period                 1   1970.9 2037.3\n",
      "\n",
      "Step:  AIC=1918.07\n",
      "Y ~ factor(Gender) + factor(Grad.Funding.Indicator) + PC1 + PC2 + \n",
      "    PC3 + factor(Gap) + GPA_trend + academic_period\n",
      "\n",
      "                                 Df Deviance    AIC\n",
      "- factor(Gender)                  1   1851.8 1910.8\n",
      "- factor(Gap)                     1   1852.8 1911.8\n",
      "- GPA_trend                       1   1853.6 1912.7\n",
      "- PC3                             1   1853.8 1912.8\n",
      "- PC1                             1   1858.0 1917.1\n",
      "<none>                                1851.6 1918.1\n",
      "- factor(Grad.Funding.Indicator)  1   1899.3 1958.3\n",
      "- PC2                             1   1900.8 1959.9\n",
      "- academic_period                 1   1971.0 2030.0\n",
      "\n",
      "Step:  AIC=1910.82\n",
      "Y ~ factor(Grad.Funding.Indicator) + PC1 + PC2 + PC3 + factor(Gap) + \n",
      "    GPA_trend + academic_period\n",
      "\n",
      "                                 Df Deviance    AIC\n",
      "- factor(Gap)                     1   1852.9 1904.5\n",
      "- GPA_trend                       1   1853.7 1905.4\n",
      "- PC3                             1   1853.9 1905.6\n",
      "- PC1                             1   1858.2 1909.8\n",
      "<none>                                1851.8 1910.8\n",
      "- factor(Grad.Funding.Indicator)  1   1899.6 1951.3\n",
      "- PC2                             1   1900.9 1952.5\n",
      "- academic_period                 1   1971.1 2022.8\n",
      "\n",
      "Step:  AIC=1904.55\n",
      "Y ~ factor(Grad.Funding.Indicator) + PC1 + PC2 + PC3 + GPA_trend + \n",
      "    academic_period\n",
      "\n",
      "                                 Df Deviance    AIC\n",
      "- GPA_trend                       1   1854.8 1899.1\n",
      "- PC3                             1   1855.0 1899.3\n",
      "- PC1                             1   1859.2 1903.5\n",
      "<none>                                1852.9 1904.5\n",
      "- factor(Grad.Funding.Indicator)  1   1900.7 1945.0\n",
      "- PC2                             1   1902.4 1946.7\n",
      "- academic_period                 1   1982.7 2027.0\n",
      "\n",
      "Step:  AIC=1899.07\n",
      "Y ~ factor(Grad.Funding.Indicator) + PC1 + PC2 + PC3 + academic_period\n",
      "\n",
      "                                 Df Deviance    AIC\n",
      "- PC3                             1   1856.9 1893.8\n",
      "- PC1                             1   1861.1 1898.0\n",
      "<none>                                1854.8 1899.1\n",
      "- factor(Grad.Funding.Indicator)  1   1902.3 1939.2\n",
      "- PC2                             1   1903.6 1940.5\n",
      "- academic_period                 1   1991.1 2028.0\n",
      "\n",
      "Step:  AIC=1893.83\n",
      "Y ~ factor(Grad.Funding.Indicator) + PC1 + PC2 + academic_period\n",
      "\n",
      "                                 Df Deviance    AIC\n",
      "- PC1                             1   1863.1 1892.7\n",
      "<none>                                1856.9 1893.8\n",
      "- PC2                             1   1903.6 1933.2\n",
      "- factor(Grad.Funding.Indicator)  1   1904.9 1934.4\n",
      "- academic_period                 1   1991.3 2020.8\n",
      "\n",
      "Step:  AIC=1892.65\n",
      "Y ~ factor(Grad.Funding.Indicator) + PC2 + academic_period\n",
      "\n",
      "                                 Df Deviance    AIC\n",
      "<none>                                1863.1 1892.7\n",
      "- PC2                             1   1908.2 1930.4\n",
      "- factor(Grad.Funding.Indicator)  1   1912.7 1934.8\n",
      "- academic_period                 1   2008.4 2030.5\n"
     ]
    }
   ],
   "source": [
    "log_mod_h_bic = stepAIC(log_mod_h, direction = \"backward\", k = log(a_n))"
   ]
  },
  {
   "cell_type": "markdown",
   "metadata": {},
   "source": [
    "<b> Significant variables backward BIC selects:"
   ]
  },
  {
   "cell_type": "code",
   "execution_count": 66,
   "metadata": {},
   "outputs": [
    {
     "data": {
      "text/html": [
       "<table>\n",
       "<thead><tr><th></th><th scope=col>Estimate</th><th scope=col>Pr(&gt;|z|)</th></tr></thead>\n",
       "<tbody>\n",
       "\t<tr><th scope=row>(Intercept)</th><td>-1.42580</td><td>0       </td></tr>\n",
       "\t<tr><th scope=row>factor(Grad.Funding.Indicator)1</th><td> 1.01422</td><td>0       </td></tr>\n",
       "\t<tr><th scope=row>PC2</th><td>-0.24977</td><td>0       </td></tr>\n",
       "\t<tr><th scope=row>academic_period</th><td> 0.22815</td><td>0       </td></tr>\n",
       "</tbody>\n",
       "</table>\n"
      ],
      "text/latex": [
       "\\begin{tabular}{r|ll}\n",
       "  & Estimate & Pr(>\\textbar{}z\\textbar{})\\\\\n",
       "\\hline\n",
       "\t(Intercept) & -1.42580 & 0       \\\\\n",
       "\tfactor(Grad.Funding.Indicator)1 &  1.01422 & 0       \\\\\n",
       "\tPC2 & -0.24977 & 0       \\\\\n",
       "\tacademic\\_period &  0.22815 & 0       \\\\\n",
       "\\end{tabular}\n"
      ],
      "text/markdown": [
       "\n",
       "| <!--/--> | Estimate | Pr(>|z|) |\n",
       "|---|---|---|\n",
       "| (Intercept) | -1.42580 | 0        |\n",
       "| factor(Grad.Funding.Indicator)1 |  1.01422 | 0        |\n",
       "| PC2 | -0.24977 | 0        |\n",
       "| academic_period |  0.22815 | 0        |\n",
       "\n"
      ],
      "text/plain": [
       "                                Estimate Pr(>|z|)\n",
       "(Intercept)                     -1.42580 0       \n",
       "factor(Grad.Funding.Indicator)1  1.01422 0       \n",
       "PC2                             -0.24977 0       \n",
       "academic_period                  0.22815 0       "
      ]
     },
     "metadata": {},
     "output_type": "display_data"
    }
   ],
   "source": [
    "round(summary(log_mod_h_bic)$coeff[which(summary(log_mod_h_bic)$coef[,4] <= .05),c(1,4)],5)"
   ]
  },
  {
   "cell_type": "markdown",
   "metadata": {},
   "source": [
    "# Management Analysis"
   ]
  },
  {
   "cell_type": "code",
   "execution_count": 11,
   "metadata": {},
   "outputs": [
    {
     "data": {
      "text/plain": [
       "\n",
       "Call:\n",
       "glm(formula = Y ~ Start.age + factor(Gender) + Net.Cost.After.Any.Funding + \n",
       "    PC1 + PC2 + PC3 + factor(Gap) + Slope, family = \"binomial\", \n",
       "    data = Management_df)\n",
       "\n",
       "Deviance Residuals: \n",
       "    Min       1Q   Median       3Q      Max  \n",
       "-2.0067  -0.5098   0.1893   0.6294   1.8714  \n",
       "\n",
       "Coefficients:\n",
       "                             Estimate Std. Error z value Pr(>|z|)   \n",
       "(Intercept)                 8.763e-01  2.516e+00   0.348   0.7277   \n",
       "Start.age                  -1.136e-01  9.137e-02  -1.243   0.2139   \n",
       "factor(Gender)Male         -1.295e+00  8.219e-01  -1.575   0.1152   \n",
       "Net.Cost.After.Any.Funding  2.000e-04  7.188e-05   2.782   0.0054 **\n",
       "PC1                        -1.171e+00  1.097e+00  -1.067   0.2859   \n",
       "PC2                        -1.352e+00  1.082e+00  -1.250   0.2114   \n",
       "PC3                         4.252e-02  8.557e-02   0.497   0.6193   \n",
       "factor(Gap)1                1.568e+01  1.748e+03   0.009   0.9928   \n",
       "Slope                       1.621e+01  8.749e+00   1.852   0.0640 . \n",
       "---\n",
       "Signif. codes:  0 '***' 0.001 '**' 0.01 '*' 0.05 '.' 0.1 ' ' 1\n",
       "\n",
       "(Dispersion parameter for binomial family taken to be 1)\n",
       "\n",
       "    Null deviance: 74.726  on 57  degrees of freedom\n",
       "Residual deviance: 46.121  on 49  degrees of freedom\n",
       "AIC: 64.121\n",
       "\n",
       "Number of Fisher Scoring iterations: 16\n"
      ]
     },
     "metadata": {},
     "output_type": "display_data"
    }
   ],
   "source": [
    "log_mod_m = glm(Y~Start.age+factor(Gender)+\n",
    "                Net.Cost.After.Any.Funding+PC1+PC2+PC3+factor(Gap)+Slope,\n",
    "                data=Management_df,family=\"binomial\")\n",
    "summary(log_mod_m)"
   ]
  },
  {
   "cell_type": "code",
   "execution_count": 12,
   "metadata": {},
   "outputs": [
    {
     "data": {
      "text/html": [
       "<table>\n",
       "<thead><tr><th></th><th scope=col>Estimate</th><th scope=col>Pr(&gt;|z|)</th></tr></thead>\n",
       "<tbody>\n",
       "\t<tr><th scope=row>(Intercept)</th><td> 0.87631</td><td>0.72766 </td></tr>\n",
       "\t<tr><th scope=row>Start.age</th><td>-0.11355</td><td>0.21395 </td></tr>\n",
       "\t<tr><th scope=row>factor(Gender)Male</th><td>-1.29453</td><td>0.11525 </td></tr>\n",
       "\t<tr><th scope=row>Net.Cost.After.Any.Funding</th><td> 0.00020</td><td>0.00540 </td></tr>\n",
       "\t<tr><th scope=row>PC1</th><td>-1.17073</td><td>0.28591 </td></tr>\n",
       "\t<tr><th scope=row>PC2</th><td>-1.35173</td><td>0.21140 </td></tr>\n",
       "\t<tr><th scope=row>PC3</th><td> 0.04252</td><td>0.61925 </td></tr>\n",
       "\t<tr><th scope=row>factor(Gap)1</th><td>15.67937</td><td>0.99284 </td></tr>\n",
       "\t<tr><th scope=row>Slope</th><td>16.20614</td><td>0.06397 </td></tr>\n",
       "</tbody>\n",
       "</table>\n"
      ],
      "text/latex": [
       "\\begin{tabular}{r|ll}\n",
       "  & Estimate & Pr(>\\textbar{}z\\textbar{})\\\\\n",
       "\\hline\n",
       "\t(Intercept) &  0.87631 & 0.72766 \\\\\n",
       "\tStart.age & -0.11355 & 0.21395 \\\\\n",
       "\tfactor(Gender)Male & -1.29453 & 0.11525 \\\\\n",
       "\tNet.Cost.After.Any.Funding &  0.00020 & 0.00540 \\\\\n",
       "\tPC1 & -1.17073 & 0.28591 \\\\\n",
       "\tPC2 & -1.35173 & 0.21140 \\\\\n",
       "\tPC3 &  0.04252 & 0.61925 \\\\\n",
       "\tfactor(Gap)1 & 15.67937 & 0.99284 \\\\\n",
       "\tSlope & 16.20614 & 0.06397 \\\\\n",
       "\\end{tabular}\n"
      ],
      "text/markdown": [
       "\n",
       "| <!--/--> | Estimate | Pr(>|z|) |\n",
       "|---|---|---|\n",
       "| (Intercept) |  0.87631 | 0.72766  |\n",
       "| Start.age | -0.11355 | 0.21395  |\n",
       "| factor(Gender)Male | -1.29453 | 0.11525  |\n",
       "| Net.Cost.After.Any.Funding |  0.00020 | 0.00540  |\n",
       "| PC1 | -1.17073 | 0.28591  |\n",
       "| PC2 | -1.35173 | 0.21140  |\n",
       "| PC3 |  0.04252 | 0.61925  |\n",
       "| factor(Gap)1 | 15.67937 | 0.99284  |\n",
       "| Slope | 16.20614 | 0.06397  |\n",
       "\n"
      ],
      "text/plain": [
       "                           Estimate Pr(>|z|)\n",
       "(Intercept)                 0.87631 0.72766 \n",
       "Start.age                  -0.11355 0.21395 \n",
       "factor(Gender)Male         -1.29453 0.11525 \n",
       "Net.Cost.After.Any.Funding  0.00020 0.00540 \n",
       "PC1                        -1.17073 0.28591 \n",
       "PC2                        -1.35173 0.21140 \n",
       "PC3                         0.04252 0.61925 \n",
       "factor(Gap)1               15.67937 0.99284 \n",
       "Slope                      16.20614 0.06397 "
      ]
     },
     "metadata": {},
     "output_type": "display_data"
    }
   ],
   "source": [
    "round(summary(log_mod_m)$coeff[,c(1,4)],5)"
   ]
  },
  {
   "cell_type": "markdown",
   "metadata": {},
   "source": [
    "<b> Significant Variables: Net cost, slope."
   ]
  },
  {
   "cell_type": "code",
   "execution_count": 13,
   "metadata": {},
   "outputs": [
    {
     "name": "stdout",
     "output_type": "stream",
     "text": [
      "Start:  AIC=64.12\n",
      "Y ~ Start.age + factor(Gender) + Net.Cost.After.Any.Funding + \n",
      "    PC1 + PC2 + PC3 + factor(Gap) + Slope\n",
      "\n",
      "                             Df Deviance    AIC\n",
      "- PC3                         1   46.370 62.370\n",
      "- factor(Gap)                 1   47.193 63.193\n",
      "- Start.age                   1   47.735 63.735\n",
      "<none>                            46.121 64.121\n",
      "- PC1                         1   48.812 64.812\n",
      "- factor(Gender)              1   48.865 64.865\n",
      "- PC2                         1   50.095 66.095\n",
      "- Slope                       1   50.894 66.894\n",
      "- Net.Cost.After.Any.Funding  1   58.239 74.239\n",
      "\n",
      "Step:  AIC=62.37\n",
      "Y ~ Start.age + factor(Gender) + Net.Cost.After.Any.Funding + \n",
      "    PC1 + PC2 + factor(Gap) + Slope\n",
      "\n",
      "                             Df Deviance    AIC\n",
      "- factor(Gap)                 1   47.351 61.351\n",
      "- Start.age                   1   47.829 61.829\n",
      "<none>                            46.370 62.370\n",
      "- factor(Gender)              1   48.986 62.986\n",
      "- PC1                         1   49.246 63.246\n",
      "- Slope                       1   51.635 65.635\n",
      "- PC2                         1   52.693 66.693\n",
      "- Net.Cost.After.Any.Funding  1   58.349 72.349\n",
      "\n",
      "Step:  AIC=61.35\n",
      "Y ~ Start.age + factor(Gender) + Net.Cost.After.Any.Funding + \n",
      "    PC1 + PC2 + Slope\n",
      "\n",
      "                             Df Deviance    AIC\n",
      "- Start.age                   1   48.982 60.982\n",
      "<none>                            47.351 61.351\n",
      "- factor(Gender)              1   49.795 61.795\n",
      "- PC1                         1   51.408 63.408\n",
      "- Slope                       1   52.715 64.715\n",
      "- PC2                         1   53.755 65.755\n",
      "- Net.Cost.After.Any.Funding  1   61.934 73.934\n",
      "\n",
      "Step:  AIC=60.98\n",
      "Y ~ factor(Gender) + Net.Cost.After.Any.Funding + PC1 + PC2 + \n",
      "    Slope\n",
      "\n",
      "                             Df Deviance    AIC\n",
      "<none>                            48.982 60.982\n",
      "- factor(Gender)              1   51.535 61.535\n",
      "- PC1                         1   52.331 62.331\n",
      "- Slope                       1   53.924 63.924\n",
      "- PC2                         1   54.461 64.461\n",
      "- Net.Cost.After.Any.Funding  1   62.655 72.655\n"
     ]
    }
   ],
   "source": [
    "log_mod_m_aic_b = stepAIC(log_mod_m, direction = 'backward')"
   ]
  },
  {
   "cell_type": "markdown",
   "metadata": {},
   "source": [
    "<b> Variables backward AIC selects: Net cost, PC1, PC2, slope, gender."
   ]
  },
  {
   "cell_type": "code",
   "execution_count": 14,
   "metadata": {},
   "outputs": [
    {
     "data": {
      "text/plain": [
       "\n",
       "Call:\n",
       "glm(formula = Y ~ factor(Gender) + Net.Cost.After.Any.Funding + \n",
       "    PC1 + PC2 + Slope, family = \"binomial\", data = Management_df)\n",
       "\n",
       "Deviance Residuals: \n",
       "    Min       1Q   Median       3Q      Max  \n",
       "-2.3779  -0.6118   0.2405   0.6805   1.4678  \n",
       "\n",
       "Coefficients:\n",
       "                             Estimate Std. Error z value Pr(>|z|)   \n",
       "(Intercept)                -2.120e+00  1.248e+00  -1.699  0.08936 . \n",
       "factor(Gender)Male         -1.236e+00  8.128e-01  -1.520  0.12846   \n",
       "Net.Cost.After.Any.Funding  1.916e-04  6.509e-05   2.944  0.00324 **\n",
       "PC1                        -1.275e+00  1.004e+00  -1.270  0.20416   \n",
       "PC2                        -1.444e+00  9.706e-01  -1.488  0.13672   \n",
       "Slope                       1.742e+01  9.092e+00   1.916  0.05531 . \n",
       "---\n",
       "Signif. codes:  0 '***' 0.001 '**' 0.01 '*' 0.05 '.' 0.1 ' ' 1\n",
       "\n",
       "(Dispersion parameter for binomial family taken to be 1)\n",
       "\n",
       "    Null deviance: 74.726  on 57  degrees of freedom\n",
       "Residual deviance: 48.982  on 52  degrees of freedom\n",
       "AIC: 60.982\n",
       "\n",
       "Number of Fisher Scoring iterations: 6\n"
      ]
     },
     "metadata": {},
     "output_type": "display_data"
    }
   ],
   "source": [
    "log_mod_m_f = glm(Y ~ factor(Gender) + Net.Cost.After.Any.Funding + PC1 + PC2 + Slope,\n",
    "                 data=Management_df,family=\"binomial\")\n",
    "summary(log_mod_m_f)"
   ]
  },
  {
   "cell_type": "code",
   "execution_count": 15,
   "metadata": {},
   "outputs": [
    {
     "data": {
      "text/html": [
       "<table>\n",
       "<thead><tr><th></th><th scope=col>Estimate</th><th scope=col>Pr(&gt;|z|)</th></tr></thead>\n",
       "<tbody>\n",
       "\t<tr><th scope=row>(Intercept)</th><td>-2.12045</td><td>0.08936 </td></tr>\n",
       "\t<tr><th scope=row>factor(Gender)Male</th><td>-1.23559</td><td>0.12846 </td></tr>\n",
       "\t<tr><th scope=row>Net.Cost.After.Any.Funding</th><td> 0.00019</td><td>0.00324 </td></tr>\n",
       "\t<tr><th scope=row>PC1</th><td>-1.27537</td><td>0.20416 </td></tr>\n",
       "\t<tr><th scope=row>PC2</th><td>-1.44430</td><td>0.13672 </td></tr>\n",
       "\t<tr><th scope=row>Slope</th><td>17.42356</td><td>0.05531 </td></tr>\n",
       "</tbody>\n",
       "</table>\n"
      ],
      "text/latex": [
       "\\begin{tabular}{r|ll}\n",
       "  & Estimate & Pr(>\\textbar{}z\\textbar{})\\\\\n",
       "\\hline\n",
       "\t(Intercept) & -2.12045 & 0.08936 \\\\\n",
       "\tfactor(Gender)Male & -1.23559 & 0.12846 \\\\\n",
       "\tNet.Cost.After.Any.Funding &  0.00019 & 0.00324 \\\\\n",
       "\tPC1 & -1.27537 & 0.20416 \\\\\n",
       "\tPC2 & -1.44430 & 0.13672 \\\\\n",
       "\tSlope & 17.42356 & 0.05531 \\\\\n",
       "\\end{tabular}\n"
      ],
      "text/markdown": [
       "\n",
       "| <!--/--> | Estimate | Pr(>|z|) |\n",
       "|---|---|---|\n",
       "| (Intercept) | -2.12045 | 0.08936  |\n",
       "| factor(Gender)Male | -1.23559 | 0.12846  |\n",
       "| Net.Cost.After.Any.Funding |  0.00019 | 0.00324  |\n",
       "| PC1 | -1.27537 | 0.20416  |\n",
       "| PC2 | -1.44430 | 0.13672  |\n",
       "| Slope | 17.42356 | 0.05531  |\n",
       "\n"
      ],
      "text/plain": [
       "                           Estimate Pr(>|z|)\n",
       "(Intercept)                -2.12045 0.08936 \n",
       "factor(Gender)Male         -1.23559 0.12846 \n",
       "Net.Cost.After.Any.Funding  0.00019 0.00324 \n",
       "PC1                        -1.27537 0.20416 \n",
       "PC2                        -1.44430 0.13672 \n",
       "Slope                      17.42356 0.05531 "
      ]
     },
     "metadata": {},
     "output_type": "display_data"
    }
   ],
   "source": [
    "round(summary(log_mod_m_f)$coeff[,c(1,4)],5)"
   ]
  },
  {
   "cell_type": "markdown",
   "metadata": {},
   "source": [
    "<b> Significant Variables after backward AIC selection: Net cost."
   ]
  },
  {
   "cell_type": "markdown",
   "metadata": {},
   "source": [
    "# Nursing Analysis"
   ]
  },
  {
   "cell_type": "code",
   "execution_count": 16,
   "metadata": {},
   "outputs": [
    {
     "data": {
      "text/plain": [
       "\n",
       "Call:\n",
       "glm(formula = Y ~ Start.age + factor(Gender) + factor(Grad.Funding.Indicator) + \n",
       "    Net.Cost.After.Any.Funding + PC1 + PC2 + PC3 + factor(Gap) + \n",
       "    Slope, family = \"binomial\", data = Nursing_df)\n",
       "\n",
       "Deviance Residuals: \n",
       "    Min       1Q   Median       3Q      Max  \n",
       "-2.5244  -1.0121   0.3747   0.9610   1.4857  \n",
       "\n",
       "Coefficients:\n",
       "                                  Estimate Std. Error z value Pr(>|z|)   \n",
       "(Intercept)                      6.437e+00  4.889e+02   0.013  0.98950   \n",
       "Start.age                       -2.114e-04  1.962e-02  -0.011  0.99140   \n",
       "factor(Gender)Male              -2.864e-01  6.295e-01  -0.455  0.64912   \n",
       "factor(Grad.Funding.Indicator)1  6.651e-01  4.773e-01   1.393  0.16348   \n",
       "Net.Cost.After.Any.Funding       4.082e-05  1.501e-05   2.720  0.00654 **\n",
       "PC1                             -5.019e-01  4.325e+02  -0.001  0.99907   \n",
       "PC2                              6.240e+00  4.280e+02   0.015  0.98837   \n",
       "PC3                             -1.313e+01  7.327e+02  -0.018  0.98570   \n",
       "factor(Gap)1                    -6.133e-01  9.448e-01  -0.649  0.51621   \n",
       "Slope                           -2.204e+00  5.162e+00  -0.427  0.66939   \n",
       "---\n",
       "Signif. codes:  0 '***' 0.001 '**' 0.01 '*' 0.05 '.' 0.1 ' ' 1\n",
       "\n",
       "(Dispersion parameter for binomial family taken to be 1)\n",
       "\n",
       "    Null deviance: 155.91  on 116  degrees of freedom\n",
       "Residual deviance: 126.20  on 107  degrees of freedom\n",
       "AIC: 146.2\n",
       "\n",
       "Number of Fisher Scoring iterations: 16\n"
      ]
     },
     "metadata": {},
     "output_type": "display_data"
    }
   ],
   "source": [
    "log_mod_n = glm(Y~Start.age+factor(Gender)+factor(Grad.Funding.Indicator)+\n",
    "                Net.Cost.After.Any.Funding+PC1+PC2+PC3+factor(Gap)+Slope,\n",
    "                data=Nursing_df,family=\"binomial\")\n",
    "summary(log_mod_n)"
   ]
  },
  {
   "cell_type": "code",
   "execution_count": 17,
   "metadata": {},
   "outputs": [
    {
     "data": {
      "text/html": [
       "<table>\n",
       "<thead><tr><th></th><th scope=col>Estimate</th><th scope=col>Pr(&gt;|z|)</th></tr></thead>\n",
       "<tbody>\n",
       "\t<tr><th scope=row>(Intercept)</th><td>  6.43660</td><td>0.98950  </td></tr>\n",
       "\t<tr><th scope=row>Start.age</th><td> -0.00021</td><td>0.99140  </td></tr>\n",
       "\t<tr><th scope=row>factor(Gender)Male</th><td> -0.28641</td><td>0.64912  </td></tr>\n",
       "\t<tr><th scope=row>factor(Grad.Funding.Indicator)1</th><td>  0.66514</td><td>0.16348  </td></tr>\n",
       "\t<tr><th scope=row>Net.Cost.After.Any.Funding</th><td>  0.00004</td><td>0.00654  </td></tr>\n",
       "\t<tr><th scope=row>PC1</th><td> -0.50195</td><td>0.99907  </td></tr>\n",
       "\t<tr><th scope=row>PC2</th><td>  6.23961</td><td>0.98837  </td></tr>\n",
       "\t<tr><th scope=row>PC3</th><td>-13.12930</td><td>0.98570  </td></tr>\n",
       "\t<tr><th scope=row>factor(Gap)1</th><td> -0.61335</td><td>0.51621  </td></tr>\n",
       "\t<tr><th scope=row>Slope</th><td> -2.20414</td><td>0.66939  </td></tr>\n",
       "</tbody>\n",
       "</table>\n"
      ],
      "text/latex": [
       "\\begin{tabular}{r|ll}\n",
       "  & Estimate & Pr(>\\textbar{}z\\textbar{})\\\\\n",
       "\\hline\n",
       "\t(Intercept) &   6.43660 & 0.98950  \\\\\n",
       "\tStart.age &  -0.00021 & 0.99140  \\\\\n",
       "\tfactor(Gender)Male &  -0.28641 & 0.64912  \\\\\n",
       "\tfactor(Grad.Funding.Indicator)1 &   0.66514 & 0.16348  \\\\\n",
       "\tNet.Cost.After.Any.Funding &   0.00004 & 0.00654  \\\\\n",
       "\tPC1 &  -0.50195 & 0.99907  \\\\\n",
       "\tPC2 &   6.23961 & 0.98837  \\\\\n",
       "\tPC3 & -13.12930 & 0.98570  \\\\\n",
       "\tfactor(Gap)1 &  -0.61335 & 0.51621  \\\\\n",
       "\tSlope &  -2.20414 & 0.66939  \\\\\n",
       "\\end{tabular}\n"
      ],
      "text/markdown": [
       "\n",
       "| <!--/--> | Estimate | Pr(>|z|) |\n",
       "|---|---|---|\n",
       "| (Intercept) |   6.43660 | 0.98950   |\n",
       "| Start.age |  -0.00021 | 0.99140   |\n",
       "| factor(Gender)Male |  -0.28641 | 0.64912   |\n",
       "| factor(Grad.Funding.Indicator)1 |   0.66514 | 0.16348   |\n",
       "| Net.Cost.After.Any.Funding |   0.00004 | 0.00654   |\n",
       "| PC1 |  -0.50195 | 0.99907   |\n",
       "| PC2 |   6.23961 | 0.98837   |\n",
       "| PC3 | -13.12930 | 0.98570   |\n",
       "| factor(Gap)1 |  -0.61335 | 0.51621   |\n",
       "| Slope |  -2.20414 | 0.66939   |\n",
       "\n"
      ],
      "text/plain": [
       "                                Estimate  Pr(>|z|)\n",
       "(Intercept)                       6.43660 0.98950 \n",
       "Start.age                        -0.00021 0.99140 \n",
       "factor(Gender)Male               -0.28641 0.64912 \n",
       "factor(Grad.Funding.Indicator)1   0.66514 0.16348 \n",
       "Net.Cost.After.Any.Funding        0.00004 0.00654 \n",
       "PC1                              -0.50195 0.99907 \n",
       "PC2                               6.23961 0.98837 \n",
       "PC3                             -13.12930 0.98570 \n",
       "factor(Gap)1                     -0.61335 0.51621 \n",
       "Slope                            -2.20414 0.66939 "
      ]
     },
     "metadata": {},
     "output_type": "display_data"
    }
   ],
   "source": [
    "round(summary(log_mod_n)$coeff[,c(1,4)],5)"
   ]
  },
  {
   "cell_type": "markdown",
   "metadata": {},
   "source": [
    "<b> Significant Variables: Net cost."
   ]
  },
  {
   "cell_type": "code",
   "execution_count": 18,
   "metadata": {},
   "outputs": [
    {
     "name": "stdout",
     "output_type": "stream",
     "text": [
      "Start:  AIC=146.2\n",
      "Y ~ Start.age + factor(Gender) + factor(Grad.Funding.Indicator) + \n",
      "    Net.Cost.After.Any.Funding + PC1 + PC2 + PC3 + factor(Gap) + \n",
      "    Slope\n",
      "\n",
      "                                 Df Deviance    AIC\n",
      "- PC1                             1   126.20 144.20\n",
      "- Start.age                       1   126.20 144.20\n",
      "- Slope                           1   126.38 144.38\n",
      "- factor(Gender)                  1   126.41 144.41\n",
      "- factor(Gap)                     1   126.62 144.62\n",
      "- factor(Grad.Funding.Indicator)  1   128.19 146.19\n",
      "<none>                                126.20 146.20\n",
      "- PC2                             1   135.10 153.10\n",
      "- Net.Cost.After.Any.Funding      1   135.56 153.56\n",
      "- PC3                             1   138.87 156.87\n",
      "\n",
      "Step:  AIC=144.2\n",
      "Y ~ Start.age + factor(Gender) + factor(Grad.Funding.Indicator) + \n",
      "    Net.Cost.After.Any.Funding + PC2 + PC3 + factor(Gap) + Slope\n",
      "\n",
      "                                 Df Deviance    AIC\n",
      "- Start.age                       1   126.20 142.20\n",
      "- Slope                           1   126.38 142.38\n",
      "- factor(Gender)                  1   126.41 142.41\n",
      "- factor(Gap)                     1   126.62 142.62\n",
      "- factor(Grad.Funding.Indicator)  1   128.19 144.19\n",
      "<none>                                126.20 144.20\n",
      "- PC2                             1   135.13 151.13\n",
      "- Net.Cost.After.Any.Funding      1   135.56 151.56\n",
      "- PC3                             1   138.93 154.93\n",
      "\n",
      "Step:  AIC=142.2\n",
      "Y ~ factor(Gender) + factor(Grad.Funding.Indicator) + Net.Cost.After.Any.Funding + \n",
      "    PC2 + PC3 + factor(Gap) + Slope\n",
      "\n",
      "                                 Df Deviance    AIC\n",
      "- Slope                           1   126.38 140.38\n",
      "- factor(Gender)                  1   126.41 140.41\n",
      "- factor(Gap)                     1   126.63 140.63\n",
      "<none>                                126.20 142.20\n",
      "- factor(Grad.Funding.Indicator)  1   128.39 142.39\n",
      "- PC2                             1   135.59 149.59\n",
      "- Net.Cost.After.Any.Funding      1   135.60 149.60\n",
      "- PC3                             1   138.98 152.98\n",
      "\n",
      "Step:  AIC=140.38\n",
      "Y ~ factor(Gender) + factor(Grad.Funding.Indicator) + Net.Cost.After.Any.Funding + \n",
      "    PC2 + PC3 + factor(Gap)\n",
      "\n",
      "                                 Df Deviance    AIC\n",
      "- factor(Gender)                  1   126.58 138.58\n",
      "- factor(Gap)                     1   126.72 138.72\n",
      "<none>                                126.38 140.38\n",
      "- factor(Grad.Funding.Indicator)  1   128.48 140.48\n",
      "- Net.Cost.After.Any.Funding      1   135.60 147.60\n",
      "- PC2                             1   135.95 147.95\n",
      "- PC3                             1   139.14 151.14\n",
      "\n",
      "Step:  AIC=138.58\n",
      "Y ~ factor(Grad.Funding.Indicator) + Net.Cost.After.Any.Funding + \n",
      "    PC2 + PC3 + factor(Gap)\n",
      "\n",
      "                                 Df Deviance    AIC\n",
      "- factor(Gap)                     1   126.87 136.87\n",
      "<none>                                126.58 138.58\n",
      "- factor(Grad.Funding.Indicator)  1   128.64 138.64\n",
      "- Net.Cost.After.Any.Funding      1   135.71 145.71\n",
      "- PC2                             1   135.99 145.99\n",
      "- PC3                             1   139.59 149.59\n",
      "\n",
      "Step:  AIC=136.87\n",
      "Y ~ factor(Grad.Funding.Indicator) + Net.Cost.After.Any.Funding + \n",
      "    PC2 + PC3\n",
      "\n",
      "                                 Df Deviance    AIC\n",
      "<none>                                126.87 136.87\n",
      "- factor(Grad.Funding.Indicator)  1   129.13 137.13\n",
      "- Net.Cost.After.Any.Funding      1   135.71 143.71\n",
      "- PC2                             1   136.09 144.09\n",
      "- PC3                             1   140.03 148.03\n"
     ]
    }
   ],
   "source": [
    "log_mod_n_aic_b = stepAIC(log_mod_n, direction = 'backward')"
   ]
  },
  {
   "cell_type": "markdown",
   "metadata": {},
   "source": [
    "<b> Variables backward AIC selects: Net cost, PC2, PC3, funding indicator."
   ]
  },
  {
   "cell_type": "code",
   "execution_count": 19,
   "metadata": {},
   "outputs": [
    {
     "data": {
      "text/plain": [
       "\n",
       "Call:\n",
       "glm(formula = Y ~ factor(Gender) + Net.Cost.After.Any.Funding + \n",
       "    PC2 + PC3 + factor(Grad.Funding.Indicator), family = \"binomial\", \n",
       "    data = Nursing_df)\n",
       "\n",
       "Deviance Residuals: \n",
       "    Min       1Q   Median       3Q      Max  \n",
       "-2.5308  -0.9955   0.3976   0.9511   1.5144  \n",
       "\n",
       "Coefficients:\n",
       "                                  Estimate Std. Error z value Pr(>|z|)   \n",
       "(Intercept)                      6.519e+00  4.692e+02   0.014  0.98892   \n",
       "factor(Gender)Male              -2.396e-01  6.161e-01  -0.389  0.69738   \n",
       "Net.Cost.After.Any.Funding       3.868e-05  1.444e-05   2.679  0.00738 **\n",
       "PC2                              6.398e+00  4.222e+02   0.015  0.98791   \n",
       "PC3                             -1.345e+01  7.294e+02  -0.018  0.98529   \n",
       "factor(Grad.Funding.Indicator)1  6.746e-01  4.507e-01   1.497  0.13444   \n",
       "---\n",
       "Signif. codes:  0 '***' 0.001 '**' 0.01 '*' 0.05 '.' 0.1 ' ' 1\n",
       "\n",
       "(Dispersion parameter for binomial family taken to be 1)\n",
       "\n",
       "    Null deviance: 155.91  on 116  degrees of freedom\n",
       "Residual deviance: 126.72  on 111  degrees of freedom\n",
       "AIC: 138.72\n",
       "\n",
       "Number of Fisher Scoring iterations: 16\n"
      ]
     },
     "metadata": {},
     "output_type": "display_data"
    }
   ],
   "source": [
    "log_mod_n_f = glm(Y ~ factor(Gender) + Net.Cost.After.Any.Funding + PC2 + PC3 + factor(Grad.Funding.Indicator),\n",
    "                 data=Nursing_df,family=\"binomial\")\n",
    "summary(log_mod_n_f)"
   ]
  },
  {
   "cell_type": "code",
   "execution_count": 20,
   "metadata": {},
   "outputs": [
    {
     "data": {
      "text/html": [
       "<table>\n",
       "<thead><tr><th></th><th scope=col>Estimate</th><th scope=col>Pr(&gt;|z|)</th></tr></thead>\n",
       "<tbody>\n",
       "\t<tr><th scope=row>(Intercept)</th><td>  6.51917</td><td>0.98892  </td></tr>\n",
       "\t<tr><th scope=row>factor(Gender)Male</th><td> -0.23956</td><td>0.69738  </td></tr>\n",
       "\t<tr><th scope=row>Net.Cost.After.Any.Funding</th><td>  0.00004</td><td>0.00738  </td></tr>\n",
       "\t<tr><th scope=row>PC2</th><td>  6.39775</td><td>0.98791  </td></tr>\n",
       "\t<tr><th scope=row>PC3</th><td>-13.44851</td><td>0.98529  </td></tr>\n",
       "\t<tr><th scope=row>factor(Grad.Funding.Indicator)1</th><td>  0.67461</td><td>0.13444  </td></tr>\n",
       "</tbody>\n",
       "</table>\n"
      ],
      "text/latex": [
       "\\begin{tabular}{r|ll}\n",
       "  & Estimate & Pr(>\\textbar{}z\\textbar{})\\\\\n",
       "\\hline\n",
       "\t(Intercept) &   6.51917 & 0.98892  \\\\\n",
       "\tfactor(Gender)Male &  -0.23956 & 0.69738  \\\\\n",
       "\tNet.Cost.After.Any.Funding &   0.00004 & 0.00738  \\\\\n",
       "\tPC2 &   6.39775 & 0.98791  \\\\\n",
       "\tPC3 & -13.44851 & 0.98529  \\\\\n",
       "\tfactor(Grad.Funding.Indicator)1 &   0.67461 & 0.13444  \\\\\n",
       "\\end{tabular}\n"
      ],
      "text/markdown": [
       "\n",
       "| <!--/--> | Estimate | Pr(>|z|) |\n",
       "|---|---|---|\n",
       "| (Intercept) |   6.51917 | 0.98892   |\n",
       "| factor(Gender)Male |  -0.23956 | 0.69738   |\n",
       "| Net.Cost.After.Any.Funding |   0.00004 | 0.00738   |\n",
       "| PC2 |   6.39775 | 0.98791   |\n",
       "| PC3 | -13.44851 | 0.98529   |\n",
       "| factor(Grad.Funding.Indicator)1 |   0.67461 | 0.13444   |\n",
       "\n"
      ],
      "text/plain": [
       "                                Estimate  Pr(>|z|)\n",
       "(Intercept)                       6.51917 0.98892 \n",
       "factor(Gender)Male               -0.23956 0.69738 \n",
       "Net.Cost.After.Any.Funding        0.00004 0.00738 \n",
       "PC2                               6.39775 0.98791 \n",
       "PC3                             -13.44851 0.98529 \n",
       "factor(Grad.Funding.Indicator)1   0.67461 0.13444 "
      ]
     },
     "metadata": {},
     "output_type": "display_data"
    }
   ],
   "source": [
    "round(summary(log_mod_n_f)$coeff[,c(1,4)],5)"
   ]
  },
  {
   "cell_type": "markdown",
   "metadata": {},
   "source": [
    "<b> Significant Variables after backward AIC selection: Net cost."
   ]
  },
  {
   "cell_type": "markdown",
   "metadata": {},
   "source": [
    "# Watson Analysis "
   ]
  },
  {
   "cell_type": "code",
   "execution_count": 21,
   "metadata": {},
   "outputs": [
    {
     "data": {
      "text/plain": [
       "\n",
       "Call:\n",
       "glm(formula = Y ~ Start.age + factor(Gender) + factor(Grad.Funding.Indicator) + \n",
       "    Citizenship + Net.Cost.After.Any.Funding + PC1 + PC2 + PC3 + \n",
       "    factor(Gap) + Slope, family = \"binomial\", data = Watson_df)\n",
       "\n",
       "Deviance Residuals: \n",
       "    Min       1Q   Median       3Q      Max  \n",
       "-2.6172  -0.9174   0.4931   0.8008   1.7480  \n",
       "\n",
       "Coefficients:\n",
       "                                       Estimate Std. Error z value Pr(>|z|)    \n",
       "(Intercept)                           1.317e+01  1.455e+03   0.009  0.99278    \n",
       "Start.age                            -1.843e-02  1.792e-02  -1.029  0.30370    \n",
       "factor(Gender)Male                    3.620e-01  2.729e-01   1.327  0.18467    \n",
       "factor(Grad.Funding.Indicator)1       1.639e+00  2.817e-01   5.820 5.89e-09 ***\n",
       "CitizenshipAfrica                     6.043e-01  1.572e+03   0.000  0.99969    \n",
       "CitizenshipAsia                      -1.372e+01  1.455e+03  -0.009  0.99248    \n",
       "CitizenshipAsian                     -1.446e+01  1.455e+03  -0.010  0.99207    \n",
       "CitizenshipBlack or African American -1.455e+01  1.455e+03  -0.010  0.99202    \n",
       "CitizenshipChina                     -1.427e+01  1.455e+03  -0.010  0.99218    \n",
       "CitizenshipEurope                    -1.465e+01  1.455e+03  -0.010  0.99197    \n",
       "CitizenshipHispanic or Latino        -1.256e+01  1.455e+03  -0.009  0.99311    \n",
       "CitizenshipIndia                     -1.443e+01  1.455e+03  -0.010  0.99209    \n",
       "CitizenshipNorth America             -6.881e-02  2.058e+03   0.000  0.99997    \n",
       "CitizenshipSouth America             -1.572e+01  1.455e+03  -0.011  0.99138    \n",
       "CitizenshipUnknown                   -1.472e+01  1.455e+03  -0.010  0.99193    \n",
       "CitizenshipWhite                     -1.443e+01  1.455e+03  -0.010  0.99209    \n",
       "Net.Cost.After.Any.Funding            4.034e-05  1.001e-05   4.032 5.53e-05 ***\n",
       "PC1                                  -2.663e-01  6.096e-02  -4.369 1.25e-05 ***\n",
       "PC2                                  -2.058e-01  8.570e-02  -2.402  0.01631 *  \n",
       "PC3                                  -9.542e-01  5.374e-01  -1.776  0.07582 .  \n",
       "factor(Gap)1                          1.145e+00  3.819e-01   2.999  0.00271 ** \n",
       "Slope                                 1.898e+00  1.174e+00   1.617  0.10584    \n",
       "---\n",
       "Signif. codes:  0 '***' 0.001 '**' 0.01 '*' 0.05 '.' 0.1 ' ' 1\n",
       "\n",
       "(Dispersion parameter for binomial family taken to be 1)\n",
       "\n",
       "    Null deviance: 656.07  on 514  degrees of freedom\n",
       "Residual deviance: 528.53  on 493  degrees of freedom\n",
       "AIC: 572.53\n",
       "\n",
       "Number of Fisher Scoring iterations: 14\n"
      ]
     },
     "metadata": {},
     "output_type": "display_data"
    }
   ],
   "source": [
    "log_mod_w = glm(Y~Start.age+factor(Gender)+factor(Grad.Funding.Indicator)+Citizenship+\n",
    "                Net.Cost.After.Any.Funding+PC1+PC2+PC3+factor(Gap)+Slope,\n",
    "                data=Watson_df,family=\"binomial\")\n",
    "summary(log_mod_w)"
   ]
  },
  {
   "cell_type": "code",
   "execution_count": 22,
   "metadata": {},
   "outputs": [
    {
     "data": {
      "text/html": [
       "<table>\n",
       "<thead><tr><th></th><th scope=col>Estimate</th><th scope=col>Pr(&gt;|z|)</th></tr></thead>\n",
       "<tbody>\n",
       "\t<tr><th scope=row>(Intercept)</th><td> 13.17397</td><td>0.99278  </td></tr>\n",
       "\t<tr><th scope=row>Start.age</th><td> -0.01843</td><td>0.30370  </td></tr>\n",
       "\t<tr><th scope=row>factor(Gender)Male</th><td>  0.36203</td><td>0.18467  </td></tr>\n",
       "\t<tr><th scope=row>factor(Grad.Funding.Indicator)1</th><td>  1.63919</td><td>0.00000  </td></tr>\n",
       "\t<tr><th scope=row>CitizenshipAfrica</th><td>  0.60430</td><td>0.99969  </td></tr>\n",
       "\t<tr><th scope=row>CitizenshipAsia</th><td>-13.72175</td><td>0.99248  </td></tr>\n",
       "\t<tr><th scope=row>CitizenshipAsian</th><td>-14.46061</td><td>0.99207  </td></tr>\n",
       "\t<tr><th scope=row>CitizenshipBlack or African American</th><td>-14.54767</td><td>0.99202  </td></tr>\n",
       "\t<tr><th scope=row>CitizenshipChina</th><td>-14.26875</td><td>0.99218  </td></tr>\n",
       "\t<tr><th scope=row>CitizenshipEurope</th><td>-14.65364</td><td>0.99197  </td></tr>\n",
       "\t<tr><th scope=row>CitizenshipHispanic or Latino</th><td>-12.55925</td><td>0.99311  </td></tr>\n",
       "\t<tr><th scope=row>CitizenshipIndia</th><td>-14.43167</td><td>0.99209  </td></tr>\n",
       "\t<tr><th scope=row>CitizenshipNorth America</th><td> -0.06881</td><td>0.99997  </td></tr>\n",
       "\t<tr><th scope=row>CitizenshipSouth America</th><td>-15.71595</td><td>0.99138  </td></tr>\n",
       "\t<tr><th scope=row>CitizenshipUnknown</th><td>-14.72422</td><td>0.99193  </td></tr>\n",
       "\t<tr><th scope=row>CitizenshipWhite</th><td>-14.42600</td><td>0.99209  </td></tr>\n",
       "\t<tr><th scope=row>Net.Cost.After.Any.Funding</th><td>  0.00004</td><td>0.00006  </td></tr>\n",
       "\t<tr><th scope=row>PC1</th><td> -0.26634</td><td>0.00001  </td></tr>\n",
       "\t<tr><th scope=row>PC2</th><td> -0.20585</td><td>0.01631  </td></tr>\n",
       "\t<tr><th scope=row>PC3</th><td> -0.95416</td><td>0.07582  </td></tr>\n",
       "\t<tr><th scope=row>factor(Gap)1</th><td>  1.14523</td><td>0.00271  </td></tr>\n",
       "\t<tr><th scope=row>Slope</th><td>  1.89789</td><td>0.10584  </td></tr>\n",
       "</tbody>\n",
       "</table>\n"
      ],
      "text/latex": [
       "\\begin{tabular}{r|ll}\n",
       "  & Estimate & Pr(>\\textbar{}z\\textbar{})\\\\\n",
       "\\hline\n",
       "\t(Intercept) &  13.17397 & 0.99278  \\\\\n",
       "\tStart.age &  -0.01843 & 0.30370  \\\\\n",
       "\tfactor(Gender)Male &   0.36203 & 0.18467  \\\\\n",
       "\tfactor(Grad.Funding.Indicator)1 &   1.63919 & 0.00000  \\\\\n",
       "\tCitizenshipAfrica &   0.60430 & 0.99969  \\\\\n",
       "\tCitizenshipAsia & -13.72175 & 0.99248  \\\\\n",
       "\tCitizenshipAsian & -14.46061 & 0.99207  \\\\\n",
       "\tCitizenshipBlack or African American & -14.54767 & 0.99202  \\\\\n",
       "\tCitizenshipChina & -14.26875 & 0.99218  \\\\\n",
       "\tCitizenshipEurope & -14.65364 & 0.99197  \\\\\n",
       "\tCitizenshipHispanic or Latino & -12.55925 & 0.99311  \\\\\n",
       "\tCitizenshipIndia & -14.43167 & 0.99209  \\\\\n",
       "\tCitizenshipNorth America &  -0.06881 & 0.99997  \\\\\n",
       "\tCitizenshipSouth America & -15.71595 & 0.99138  \\\\\n",
       "\tCitizenshipUnknown & -14.72422 & 0.99193  \\\\\n",
       "\tCitizenshipWhite & -14.42600 & 0.99209  \\\\\n",
       "\tNet.Cost.After.Any.Funding &   0.00004 & 0.00006  \\\\\n",
       "\tPC1 &  -0.26634 & 0.00001  \\\\\n",
       "\tPC2 &  -0.20585 & 0.01631  \\\\\n",
       "\tPC3 &  -0.95416 & 0.07582  \\\\\n",
       "\tfactor(Gap)1 &   1.14523 & 0.00271  \\\\\n",
       "\tSlope &   1.89789 & 0.10584  \\\\\n",
       "\\end{tabular}\n"
      ],
      "text/markdown": [
       "\n",
       "| <!--/--> | Estimate | Pr(>|z|) |\n",
       "|---|---|---|\n",
       "| (Intercept) |  13.17397 | 0.99278   |\n",
       "| Start.age |  -0.01843 | 0.30370   |\n",
       "| factor(Gender)Male |   0.36203 | 0.18467   |\n",
       "| factor(Grad.Funding.Indicator)1 |   1.63919 | 0.00000   |\n",
       "| CitizenshipAfrica |   0.60430 | 0.99969   |\n",
       "| CitizenshipAsia | -13.72175 | 0.99248   |\n",
       "| CitizenshipAsian | -14.46061 | 0.99207   |\n",
       "| CitizenshipBlack or African American | -14.54767 | 0.99202   |\n",
       "| CitizenshipChina | -14.26875 | 0.99218   |\n",
       "| CitizenshipEurope | -14.65364 | 0.99197   |\n",
       "| CitizenshipHispanic or Latino | -12.55925 | 0.99311   |\n",
       "| CitizenshipIndia | -14.43167 | 0.99209   |\n",
       "| CitizenshipNorth America |  -0.06881 | 0.99997   |\n",
       "| CitizenshipSouth America | -15.71595 | 0.99138   |\n",
       "| CitizenshipUnknown | -14.72422 | 0.99193   |\n",
       "| CitizenshipWhite | -14.42600 | 0.99209   |\n",
       "| Net.Cost.After.Any.Funding |   0.00004 | 0.00006   |\n",
       "| PC1 |  -0.26634 | 0.00001   |\n",
       "| PC2 |  -0.20585 | 0.01631   |\n",
       "| PC3 |  -0.95416 | 0.07582   |\n",
       "| factor(Gap)1 |   1.14523 | 0.00271   |\n",
       "| Slope |   1.89789 | 0.10584   |\n",
       "\n"
      ],
      "text/plain": [
       "                                     Estimate  Pr(>|z|)\n",
       "(Intercept)                           13.17397 0.99278 \n",
       "Start.age                             -0.01843 0.30370 \n",
       "factor(Gender)Male                     0.36203 0.18467 \n",
       "factor(Grad.Funding.Indicator)1        1.63919 0.00000 \n",
       "CitizenshipAfrica                      0.60430 0.99969 \n",
       "CitizenshipAsia                      -13.72175 0.99248 \n",
       "CitizenshipAsian                     -14.46061 0.99207 \n",
       "CitizenshipBlack or African American -14.54767 0.99202 \n",
       "CitizenshipChina                     -14.26875 0.99218 \n",
       "CitizenshipEurope                    -14.65364 0.99197 \n",
       "CitizenshipHispanic or Latino        -12.55925 0.99311 \n",
       "CitizenshipIndia                     -14.43167 0.99209 \n",
       "CitizenshipNorth America              -0.06881 0.99997 \n",
       "CitizenshipSouth America             -15.71595 0.99138 \n",
       "CitizenshipUnknown                   -14.72422 0.99193 \n",
       "CitizenshipWhite                     -14.42600 0.99209 \n",
       "Net.Cost.After.Any.Funding             0.00004 0.00006 \n",
       "PC1                                   -0.26634 0.00001 \n",
       "PC2                                   -0.20585 0.01631 \n",
       "PC3                                   -0.95416 0.07582 \n",
       "factor(Gap)1                           1.14523 0.00271 \n",
       "Slope                                  1.89789 0.10584 "
      ]
     },
     "metadata": {},
     "output_type": "display_data"
    }
   ],
   "source": [
    "round(summary(log_mod_w)$coeff[,c(1,4)],5)"
   ]
  },
  {
   "cell_type": "markdown",
   "metadata": {},
   "source": [
    "<b> Significant Variables: Funding indicator, net cost, PC1, PC2, gap."
   ]
  },
  {
   "cell_type": "code",
   "execution_count": 23,
   "metadata": {},
   "outputs": [
    {
     "name": "stdout",
     "output_type": "stream",
     "text": [
      "Start:  AIC=572.53\n",
      "Y ~ Start.age + factor(Gender) + factor(Grad.Funding.Indicator) + \n",
      "    Citizenship + Net.Cost.After.Any.Funding + PC1 + PC2 + PC3 + \n",
      "    factor(Gap) + Slope\n",
      "\n",
      "                                 Df Deviance    AIC\n",
      "- Citizenship                    12   544.67 564.67\n",
      "- Start.age                       1   529.60 571.60\n",
      "- factor(Gender)                  1   530.27 572.27\n",
      "<none>                                528.53 572.53\n",
      "- Slope                           1   531.22 573.22\n",
      "- PC3                             1   531.70 573.70\n",
      "- PC2                             1   534.39 576.39\n",
      "- factor(Gap)                     1   538.67 580.67\n",
      "- Net.Cost.After.Any.Funding      1   547.78 589.78\n",
      "- PC1                             1   549.04 591.04\n",
      "- factor(Grad.Funding.Indicator)  1   564.72 606.72\n",
      "\n",
      "Step:  AIC=564.67\n",
      "Y ~ Start.age + factor(Gender) + factor(Grad.Funding.Indicator) + \n",
      "    Net.Cost.After.Any.Funding + PC1 + PC2 + PC3 + factor(Gap) + \n",
      "    Slope\n",
      "\n",
      "                                 Df Deviance    AIC\n",
      "- Start.age                       1   545.40 563.40\n",
      "- factor(Gender)                  1   545.56 563.56\n",
      "<none>                                544.67 564.67\n",
      "- Slope                           1   546.78 564.78\n",
      "- PC2                             1   548.65 566.65\n",
      "- PC3                             1   548.70 566.70\n",
      "- factor(Gap)                     1   552.88 570.88\n",
      "- PC1                             1   563.52 581.52\n",
      "- Net.Cost.After.Any.Funding      1   566.69 584.69\n",
      "- factor(Grad.Funding.Indicator)  1   586.71 604.71\n",
      "\n",
      "Step:  AIC=563.4\n",
      "Y ~ factor(Gender) + factor(Grad.Funding.Indicator) + Net.Cost.After.Any.Funding + \n",
      "    PC1 + PC2 + PC3 + factor(Gap) + Slope\n",
      "\n",
      "                                 Df Deviance    AIC\n",
      "- factor(Gender)                  1   546.20 562.20\n",
      "<none>                                545.40 563.40\n",
      "- Slope                           1   547.69 563.69\n",
      "- PC2                             1   549.44 565.44\n",
      "- PC3                             1   549.84 565.84\n",
      "- factor(Gap)                     1   553.67 569.67\n",
      "- PC1                             1   564.15 580.15\n",
      "- Net.Cost.After.Any.Funding      1   567.70 583.70\n",
      "- factor(Grad.Funding.Indicator)  1   596.63 612.63\n",
      "\n",
      "Step:  AIC=562.2\n",
      "Y ~ factor(Grad.Funding.Indicator) + Net.Cost.After.Any.Funding + \n",
      "    PC1 + PC2 + PC3 + factor(Gap) + Slope\n",
      "\n",
      "                                 Df Deviance    AIC\n",
      "<none>                                546.20 562.20\n",
      "- Slope                           1   548.42 562.42\n",
      "- PC2                             1   550.37 564.37\n",
      "- PC3                             1   550.72 564.72\n",
      "- factor(Gap)                     1   554.41 568.41\n",
      "- PC1                             1   565.24 579.24\n",
      "- Net.Cost.After.Any.Funding      1   568.96 582.96\n",
      "- factor(Grad.Funding.Indicator)  1   597.03 611.03\n"
     ]
    }
   ],
   "source": [
    "log_mod_w_aic_b = stepAIC(log_mod_w, direction = 'backward')"
   ]
  },
  {
   "cell_type": "markdown",
   "metadata": {},
   "source": [
    "<b>Variables backward AIC selects: Funding indicator, net cost, PC1, PC2, PC3, gap, slope."
   ]
  },
  {
   "cell_type": "code",
   "execution_count": 24,
   "metadata": {},
   "outputs": [
    {
     "data": {
      "text/plain": [
       "\n",
       "Call:\n",
       "glm(formula = Y ~ factor(Grad.Funding.Indicator) + Net.Cost.After.Any.Funding + \n",
       "    PC1 + PC2 + PC3 + factor(Gap) + Slope, family = \"binomial\", \n",
       "    data = Watson_df)\n",
       "\n",
       "Deviance Residuals: \n",
       "    Min       1Q   Median       3Q      Max  \n",
       "-2.7433  -0.9562   0.5226   0.7878   1.6898  \n",
       "\n",
       "Coefficients:\n",
       "                                  Estimate Std. Error z value Pr(>|z|)    \n",
       "(Intercept)                     -1.379e+00  2.713e-01  -5.083 3.71e-07 ***\n",
       "factor(Grad.Funding.Indicator)1  1.747e+00  2.564e-01   6.812 9.65e-12 ***\n",
       "Net.Cost.After.Any.Funding       4.348e-05  9.976e-06   4.358 1.31e-05 ***\n",
       "PC1                             -2.521e-01  5.984e-02  -4.213 2.52e-05 ***\n",
       "PC2                             -1.640e-01  8.056e-02  -2.035  0.04181 *  \n",
       "PC3                             -1.060e+00  5.008e-01  -2.116  0.03437 *  \n",
       "factor(Gap)1                     1.001e+00  3.692e-01   2.711  0.00671 ** \n",
       "Slope                            1.653e+00  1.122e+00   1.473  0.14075    \n",
       "---\n",
       "Signif. codes:  0 '***' 0.001 '**' 0.01 '*' 0.05 '.' 0.1 ' ' 1\n",
       "\n",
       "(Dispersion parameter for binomial family taken to be 1)\n",
       "\n",
       "    Null deviance: 656.07  on 514  degrees of freedom\n",
       "Residual deviance: 546.20  on 507  degrees of freedom\n",
       "AIC: 562.2\n",
       "\n",
       "Number of Fisher Scoring iterations: 4\n"
      ]
     },
     "metadata": {},
     "output_type": "display_data"
    }
   ],
   "source": [
    "log_mod_w_f = glm(Y ~ factor(Grad.Funding.Indicator) + Net.Cost.After.Any.Funding + PC1 + PC2 + PC3 + factor(Gap) + Slope,\n",
    "                 data=Watson_df,family=\"binomial\")\n",
    "summary(log_mod_w_f)"
   ]
  },
  {
   "cell_type": "code",
   "execution_count": 25,
   "metadata": {},
   "outputs": [
    {
     "data": {
      "text/html": [
       "<table>\n",
       "<thead><tr><th></th><th scope=col>Estimate</th><th scope=col>Pr(&gt;|z|)</th></tr></thead>\n",
       "<tbody>\n",
       "\t<tr><th scope=row>(Intercept)</th><td>-1.37886</td><td>0.00000 </td></tr>\n",
       "\t<tr><th scope=row>factor(Grad.Funding.Indicator)1</th><td> 1.74657</td><td>0.00000 </td></tr>\n",
       "\t<tr><th scope=row>Net.Cost.After.Any.Funding</th><td> 0.00004</td><td>0.00001 </td></tr>\n",
       "\t<tr><th scope=row>PC1</th><td>-0.25209</td><td>0.00003 </td></tr>\n",
       "\t<tr><th scope=row>PC2</th><td>-0.16398</td><td>0.04181 </td></tr>\n",
       "\t<tr><th scope=row>PC3</th><td>-1.05955</td><td>0.03437 </td></tr>\n",
       "\t<tr><th scope=row>factor(Gap)1</th><td> 1.00082</td><td>0.00671 </td></tr>\n",
       "\t<tr><th scope=row>Slope</th><td> 1.65303</td><td>0.14075 </td></tr>\n",
       "</tbody>\n",
       "</table>\n"
      ],
      "text/latex": [
       "\\begin{tabular}{r|ll}\n",
       "  & Estimate & Pr(>\\textbar{}z\\textbar{})\\\\\n",
       "\\hline\n",
       "\t(Intercept) & -1.37886 & 0.00000 \\\\\n",
       "\tfactor(Grad.Funding.Indicator)1 &  1.74657 & 0.00000 \\\\\n",
       "\tNet.Cost.After.Any.Funding &  0.00004 & 0.00001 \\\\\n",
       "\tPC1 & -0.25209 & 0.00003 \\\\\n",
       "\tPC2 & -0.16398 & 0.04181 \\\\\n",
       "\tPC3 & -1.05955 & 0.03437 \\\\\n",
       "\tfactor(Gap)1 &  1.00082 & 0.00671 \\\\\n",
       "\tSlope &  1.65303 & 0.14075 \\\\\n",
       "\\end{tabular}\n"
      ],
      "text/markdown": [
       "\n",
       "| <!--/--> | Estimate | Pr(>|z|) |\n",
       "|---|---|---|\n",
       "| (Intercept) | -1.37886 | 0.00000  |\n",
       "| factor(Grad.Funding.Indicator)1 |  1.74657 | 0.00000  |\n",
       "| Net.Cost.After.Any.Funding |  0.00004 | 0.00001  |\n",
       "| PC1 | -0.25209 | 0.00003  |\n",
       "| PC2 | -0.16398 | 0.04181  |\n",
       "| PC3 | -1.05955 | 0.03437  |\n",
       "| factor(Gap)1 |  1.00082 | 0.00671  |\n",
       "| Slope |  1.65303 | 0.14075  |\n",
       "\n"
      ],
      "text/plain": [
       "                                Estimate Pr(>|z|)\n",
       "(Intercept)                     -1.37886 0.00000 \n",
       "factor(Grad.Funding.Indicator)1  1.74657 0.00000 \n",
       "Net.Cost.After.Any.Funding       0.00004 0.00001 \n",
       "PC1                             -0.25209 0.00003 \n",
       "PC2                             -0.16398 0.04181 \n",
       "PC3                             -1.05955 0.03437 \n",
       "factor(Gap)1                     1.00082 0.00671 \n",
       "Slope                            1.65303 0.14075 "
      ]
     },
     "metadata": {},
     "output_type": "display_data"
    }
   ],
   "source": [
    "round(summary(log_mod_w_f)$coeff[,c(1,4)],5)"
   ]
  },
  {
   "cell_type": "markdown",
   "metadata": {},
   "source": [
    "<b> Significant Variables after backward AIC selection: Funding indicator, net cost, PC1, PC2, PC3, gap."
   ]
  }
 ],
 "metadata": {
  "hide_input": false,
  "kernelspec": {
   "display_name": "R",
   "language": "R",
   "name": "ir"
  },
  "language_info": {
   "codemirror_mode": "r",
   "file_extension": ".r",
   "mimetype": "text/x-r-source",
   "name": "R",
   "pygments_lexer": "r",
   "version": "3.6.0"
  },
  "latex_envs": {
   "LaTeX_envs_menu_present": true,
   "autoclose": false,
   "autocomplete": true,
   "bibliofile": "biblio.bib",
   "cite_by": "apalike",
   "current_citInitial": 1,
   "eqLabelWithNumbers": true,
   "eqNumInitial": 1,
   "hotkeys": {
    "equation": "Ctrl-E",
    "itemize": "Ctrl-I"
   },
   "labels_anchors": false,
   "latex_user_defs": false,
   "report_style_numbering": false,
   "user_envs_cfg": false
  },
  "toc": {
   "base_numbering": 1,
   "nav_menu": {},
   "number_sections": true,
   "sideBar": true,
   "skip_h1_title": false,
   "title_cell": "Table of Contents",
   "title_sidebar": "Contents",
   "toc_cell": false,
   "toc_position": {
    "height": "calc(100% - 180px)",
    "left": "10px",
    "top": "150px",
    "width": "190.139px"
   },
   "toc_section_display": true,
   "toc_window_display": true
  }
 },
 "nbformat": 4,
 "nbformat_minor": 2
}
