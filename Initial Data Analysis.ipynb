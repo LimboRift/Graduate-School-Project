{
 "cells": [
  {
   "cell_type": "markdown",
   "metadata": {},
   "source": [
    "# Load Data and Final Clean"
   ]
  },
  {
   "cell_type": "code",
   "execution_count": 4,
   "metadata": {},
   "outputs": [],
   "source": [
    "df <- read.csv(file=\"data_010820.csv\",sep=\",\",header=TRUE)"
   ]
  },
  {
   "cell_type": "markdown",
   "metadata": {},
   "source": [
    "## Seperate by School"
   ]
  },
  {
   "cell_type": "markdown",
   "metadata": {},
   "source": [
    "Different Schools"
   ]
  },
  {
   "cell_type": "code",
   "execution_count": 5,
   "metadata": {},
   "outputs": [
    {
     "data": {
      "text/html": [
       "<ol class=list-inline>\n",
       "\t<li>'GD CCPA'</li>\n",
       "\t<li>'GD Education'</li>\n",
       "\t<li>'GD Grad School'</li>\n",
       "\t<li>'GD Harpur'</li>\n",
       "\t<li>'GD Management'</li>\n",
       "\t<li>'GD Nursing'</li>\n",
       "\t<li>'GD Watson'</li>\n",
       "</ol>\n"
      ],
      "text/latex": [
       "\\begin{enumerate*}\n",
       "\\item 'GD CCPA'\n",
       "\\item 'GD Education'\n",
       "\\item 'GD Grad School'\n",
       "\\item 'GD Harpur'\n",
       "\\item 'GD Management'\n",
       "\\item 'GD Nursing'\n",
       "\\item 'GD Watson'\n",
       "\\end{enumerate*}\n"
      ],
      "text/markdown": [
       "1. 'GD CCPA'\n",
       "2. 'GD Education'\n",
       "3. 'GD Grad School'\n",
       "4. 'GD Harpur'\n",
       "5. 'GD Management'\n",
       "6. 'GD Nursing'\n",
       "7. 'GD Watson'\n",
       "\n",
       "\n"
      ],
      "text/plain": [
       "[1] \"GD CCPA\"        \"GD Education\"   \"GD Grad School\" \"GD Harpur\"     \n",
       "[5] \"GD Management\"  \"GD Nursing\"     \"GD Watson\"     "
      ]
     },
     "metadata": {},
     "output_type": "display_data"
    }
   ],
   "source": [
    "levels(factor(df$College))"
   ]
  },
  {
   "cell_type": "code",
   "execution_count": 6,
   "metadata": {},
   "outputs": [],
   "source": [
    "Harpuer_df = df[df$College %in% c(\"GD CCPA\", \"GD Education\",\"GD Grad School\",\"GD Harpur\"),]\n",
    "Management_df = df[which(df$College==\"GD Management\"),]\n",
    "Nursing_df = df[which(df$College==\"GD Nursing\"),]\n",
    "Watson_df = df[which(df$College==\"GD Watson\"),]"
   ]
  },
  {
   "cell_type": "code",
   "execution_count": 7,
   "metadata": {},
   "outputs": [
    {
     "data": {
      "text/html": [
       "<table>\n",
       "<thead><tr><th scope=col>School</th><th scope=col>Total</th><th scope=col>Successful.Graduates</th><th scope=col>Unsuccessful.Graduates</th></tr></thead>\n",
       "<tbody>\n",
       "\t<tr><td>Harpur </td><td>1780   </td><td>1077   </td><td>703    </td></tr>\n",
       "\t<tr><td>SOM    </td><td>  58   </td><td>  38   </td><td> 20    </td></tr>\n",
       "\t<tr><td>Nursing</td><td> 117   </td><td>  72   </td><td> 45    </td></tr>\n",
       "\t<tr><td>Watson </td><td> 515   </td><td> 343   </td><td>172    </td></tr>\n",
       "</tbody>\n",
       "</table>\n"
      ],
      "text/latex": [
       "\\begin{tabular}{r|llll}\n",
       " School & Total & Successful.Graduates & Unsuccessful.Graduates\\\\\n",
       "\\hline\n",
       "\t Harpur  & 1780    & 1077    & 703    \\\\\n",
       "\t SOM     &   58    &   38    &  20    \\\\\n",
       "\t Nursing &  117    &   72    &  45    \\\\\n",
       "\t Watson  &  515    &  343    & 172    \\\\\n",
       "\\end{tabular}\n"
      ],
      "text/markdown": [
       "\n",
       "| School | Total | Successful.Graduates | Unsuccessful.Graduates |\n",
       "|---|---|---|---|\n",
       "| Harpur  | 1780    | 1077    | 703     |\n",
       "| SOM     |   58    |   38    |  20     |\n",
       "| Nursing |  117    |   72    |  45     |\n",
       "| Watson  |  515    |  343    | 172     |\n",
       "\n"
      ],
      "text/plain": [
       "  School  Total Successful.Graduates Unsuccessful.Graduates\n",
       "1 Harpur  1780  1077                 703                   \n",
       "2 SOM       58    38                  20                   \n",
       "3 Nursing  117    72                  45                   \n",
       "4 Watson   515   343                 172                   "
      ]
     },
     "metadata": {},
     "output_type": "display_data"
    }
   ],
   "source": [
    "H_n = dim(Harpuer_df)[1]\n",
    "H_1 = sum(Harpuer_df$Y)\n",
    "H_0 = H_n - H_1\n",
    "M_n = dim(Management_df)[1]\n",
    "M_1 = sum(Management_df$Y)\n",
    "M_0 = M_n - M_1\n",
    "N_n = dim(Nursing_df)[1]\n",
    "N_1 = sum(Nursing_df$Y)\n",
    "N_0 = N_n - N_1\n",
    "W_n = dim(Watson_df)[1]\n",
    "W_1 = sum(Watson_df$Y)\n",
    "W_0 = W_n - W_1\n",
    "School = c(\"Harpur\",\"SOM\",\"Nursing\",\"Watson\")\n",
    "sch_total = c(H_n,M_n,N_n,W_n)\n",
    "succ_total = c(H_1,M_1,N_1,W_1)\n",
    "unsucc_total = c(H_0,M_0,N_0,W_0)\n",
    "data.frame(\"School\"=School,\"Total\"=sch_total,\"Successful Graduates\"=succ_total,\"Unsuccessful Graduates\"=unsucc_total)"
   ]
  },
  {
   "cell_type": "markdown",
   "metadata": {},
   "source": [
    "## Harpur Analysis"
   ]
  },
  {
   "cell_type": "markdown",
   "metadata": {},
   "source": [
    "Won't use Degree column since it does not accurately show the student's major"
   ]
  },
  {
   "cell_type": "code",
   "execution_count": 8,
   "metadata": {
    "collapsed": true
   },
   "outputs": [
    {
     "data": {
      "text/plain": [
       "\n",
       "Call:\n",
       "glm(formula = Y ~ Start.age + factor(Gender) + factor(Grad.Funding.Indicator) + \n",
       "    Citizenship + Net.Cost.After.Any.Funding + PC1 + PC2 + PC3 + \n",
       "    factor(Gap) + Slope, family = \"binomial\", data = Harpuer_df)\n",
       "\n",
       "Deviance Residuals: \n",
       "    Min       1Q   Median       3Q      Max  \n",
       "-2.7056  -1.1328   0.6677   0.9607   2.2665  \n",
       "\n",
       "Coefficients:\n",
       "                                                Estimate Std. Error z value\n",
       "(Intercept)                                    2.100e-01  4.405e-01   0.477\n",
       "Start.age                                     -7.432e-03  7.779e-03  -0.956\n",
       "factor(Gender)Male                             5.968e-03  1.050e-01   0.057\n",
       "factor(Grad.Funding.Indicator)1                7.210e-01  1.326e-01   5.437\n",
       "CitizenshipAmerican Indian or Alaskan Native  -1.066e+00  7.952e-01  -1.341\n",
       "CitizenshipAsia                                1.970e-02  3.633e-01   0.054\n",
       "CitizenshipAsian                              -8.145e-01  4.243e-01  -1.919\n",
       "CitizenshipBlack or African American          -2.067e-01  4.465e-01  -0.463\n",
       "CitizenshipChina                               1.392e-01  3.658e-01   0.381\n",
       "CitizenshipEurope                             -2.695e-01  4.450e-01  -0.606\n",
       "CitizenshipHawaiian or Other Pacific Islander -1.280e+01  3.247e+02  -0.039\n",
       "CitizenshipHispanic or Latino                 -7.060e-01  3.929e-01  -1.797\n",
       "CitizenshipIndia                               1.638e-01  5.057e-01   0.324\n",
       "CitizenshipNorth America                      -2.711e-01  6.034e-01  -0.449\n",
       "CitizenshipSouth America                      -3.197e-01  5.443e-01  -0.587\n",
       "CitizenshipUnknown                            -2.930e-01  3.795e-01  -0.772\n",
       "CitizenshipWhite                              -3.392e-01  3.312e-01  -1.024\n",
       "Net.Cost.After.Any.Funding                     5.637e-06  2.213e-06   2.548\n",
       "PC1                                           -1.005e-01  2.621e-02  -3.835\n",
       "PC2                                           -3.841e-01  3.734e-02 -10.285\n",
       "PC3                                            8.404e-02  1.939e-01   0.433\n",
       "factor(Gap)1                                   8.770e-01  2.226e-01   3.940\n",
       "Slope                                          2.277e+00  6.485e-01   3.511\n",
       "                                              Pr(>|z|)    \n",
       "(Intercept)                                   0.633524    \n",
       "Start.age                                     0.339323    \n",
       "factor(Gender)Male                            0.954681    \n",
       "factor(Grad.Funding.Indicator)1               5.40e-08 ***\n",
       "CitizenshipAmerican Indian or Alaskan Native  0.179976    \n",
       "CitizenshipAsia                               0.956745    \n",
       "CitizenshipAsian                              0.054922 .  \n",
       "CitizenshipBlack or African American          0.643354    \n",
       "CitizenshipChina                              0.703568    \n",
       "CitizenshipEurope                             0.544787    \n",
       "CitizenshipHawaiian or Other Pacific Islander 0.968558    \n",
       "CitizenshipHispanic or Latino                 0.072362 .  \n",
       "CitizenshipIndia                              0.745944    \n",
       "CitizenshipNorth America                      0.653284    \n",
       "CitizenshipSouth America                      0.557018    \n",
       "CitizenshipUnknown                            0.440122    \n",
       "CitizenshipWhite                              0.305812    \n",
       "Net.Cost.After.Any.Funding                    0.010841 *  \n",
       "PC1                                           0.000126 ***\n",
       "PC2                                            < 2e-16 ***\n",
       "PC3                                           0.664709    \n",
       "factor(Gap)1                                  8.14e-05 ***\n",
       "Slope                                         0.000447 ***\n",
       "---\n",
       "Signif. codes:  0 '***' 0.001 '**' 0.01 '*' 0.05 '.' 0.1 ' ' 1\n",
       "\n",
       "(Dispersion parameter for binomial family taken to be 1)\n",
       "\n",
       "    Null deviance: 2388.4  on 1779  degrees of freedom\n",
       "Residual deviance: 2155.6  on 1757  degrees of freedom\n",
       "AIC: 2201.6\n",
       "\n",
       "Number of Fisher Scoring iterations: 11\n"
      ]
     },
     "metadata": {},
     "output_type": "display_data"
    }
   ],
   "source": [
    "log_mod_h = glm(Y~Start.age+factor(Gender)+factor(Grad.Funding.Indicator)+Citizenship+\n",
    "                Net.Cost.After.Any.Funding+PC1+PC2+PC3+factor(Gap)+Slope,\n",
    "                data=Harpuer_df,family=\"binomial\")\n",
    "summary(log_mod_h)"
   ]
  },
  {
   "cell_type": "code",
   "execution_count": 10,
   "metadata": {
    "collapsed": true
   },
   "outputs": [
    {
     "data": {
      "text/html": [
       "<table>\n",
       "<thead><tr><th></th><th scope=col>Estimate</th><th scope=col>Pr(&gt;|z|)</th></tr></thead>\n",
       "<tbody>\n",
       "\t<tr><th scope=row>(Intercept)</th><td>  0.21004</td><td>0.63352  </td></tr>\n",
       "\t<tr><th scope=row>Start.age</th><td> -0.00743</td><td>0.33932  </td></tr>\n",
       "\t<tr><th scope=row>factor(Gender)Male</th><td>  0.00597</td><td>0.95468  </td></tr>\n",
       "\t<tr><th scope=row>factor(Grad.Funding.Indicator)1</th><td>  0.72105</td><td>0.00000  </td></tr>\n",
       "\t<tr><th scope=row>CitizenshipAmerican Indian or Alaskan Native</th><td> -1.06623</td><td>0.17998  </td></tr>\n",
       "\t<tr><th scope=row>CitizenshipAsia</th><td>  0.01970</td><td>0.95675  </td></tr>\n",
       "\t<tr><th scope=row>CitizenshipAsian</th><td> -0.81446</td><td>0.05492  </td></tr>\n",
       "\t<tr><th scope=row>CitizenshipBlack or African American</th><td> -0.20672</td><td>0.64335  </td></tr>\n",
       "\t<tr><th scope=row>CitizenshipChina</th><td>  0.13918</td><td>0.70357  </td></tr>\n",
       "\t<tr><th scope=row>CitizenshipEurope</th><td> -0.26949</td><td>0.54479  </td></tr>\n",
       "\t<tr><th scope=row>CitizenshipHawaiian or Other Pacific Islander</th><td>-12.80025</td><td>0.96856  </td></tr>\n",
       "\t<tr><th scope=row>CitizenshipHispanic or Latino</th><td> -0.70605</td><td>0.07236  </td></tr>\n",
       "\t<tr><th scope=row>CitizenshipIndia</th><td>  0.16383</td><td>0.74594  </td></tr>\n",
       "\t<tr><th scope=row>CitizenshipNorth America</th><td> -0.27106</td><td>0.65328  </td></tr>\n",
       "\t<tr><th scope=row>CitizenshipSouth America</th><td> -0.31965</td><td>0.55702  </td></tr>\n",
       "\t<tr><th scope=row>CitizenshipUnknown</th><td> -0.29300</td><td>0.44012  </td></tr>\n",
       "\t<tr><th scope=row>CitizenshipWhite</th><td> -0.33921</td><td>0.30581  </td></tr>\n",
       "\t<tr><th scope=row>Net.Cost.After.Any.Funding</th><td>  0.00001</td><td>0.01084  </td></tr>\n",
       "\t<tr><th scope=row>PC1</th><td> -0.10052</td><td>0.00013  </td></tr>\n",
       "\t<tr><th scope=row>PC2</th><td> -0.38405</td><td>0.00000  </td></tr>\n",
       "\t<tr><th scope=row>PC3</th><td>  0.08404</td><td>0.66471  </td></tr>\n",
       "\t<tr><th scope=row>factor(Gap)1</th><td>  0.87704</td><td>0.00008  </td></tr>\n",
       "\t<tr><th scope=row>Slope</th><td>  2.27687</td><td>0.00045  </td></tr>\n",
       "</tbody>\n",
       "</table>\n"
      ],
      "text/latex": [
       "\\begin{tabular}{r|ll}\n",
       "  & Estimate & Pr(>\\textbar{}z\\textbar{})\\\\\n",
       "\\hline\n",
       "\t(Intercept) &   0.21004 & 0.63352  \\\\\n",
       "\tStart.age &  -0.00743 & 0.33932  \\\\\n",
       "\tfactor(Gender)Male &   0.00597 & 0.95468  \\\\\n",
       "\tfactor(Grad.Funding.Indicator)1 &   0.72105 & 0.00000  \\\\\n",
       "\tCitizenshipAmerican Indian or Alaskan Native &  -1.06623 & 0.17998  \\\\\n",
       "\tCitizenshipAsia &   0.01970 & 0.95675  \\\\\n",
       "\tCitizenshipAsian &  -0.81446 & 0.05492  \\\\\n",
       "\tCitizenshipBlack or African American &  -0.20672 & 0.64335  \\\\\n",
       "\tCitizenshipChina &   0.13918 & 0.70357  \\\\\n",
       "\tCitizenshipEurope &  -0.26949 & 0.54479  \\\\\n",
       "\tCitizenshipHawaiian or Other Pacific Islander & -12.80025 & 0.96856  \\\\\n",
       "\tCitizenshipHispanic or Latino &  -0.70605 & 0.07236  \\\\\n",
       "\tCitizenshipIndia &   0.16383 & 0.74594  \\\\\n",
       "\tCitizenshipNorth America &  -0.27106 & 0.65328  \\\\\n",
       "\tCitizenshipSouth America &  -0.31965 & 0.55702  \\\\\n",
       "\tCitizenshipUnknown &  -0.29300 & 0.44012  \\\\\n",
       "\tCitizenshipWhite &  -0.33921 & 0.30581  \\\\\n",
       "\tNet.Cost.After.Any.Funding &   0.00001 & 0.01084  \\\\\n",
       "\tPC1 &  -0.10052 & 0.00013  \\\\\n",
       "\tPC2 &  -0.38405 & 0.00000  \\\\\n",
       "\tPC3 &   0.08404 & 0.66471  \\\\\n",
       "\tfactor(Gap)1 &   0.87704 & 0.00008  \\\\\n",
       "\tSlope &   2.27687 & 0.00045  \\\\\n",
       "\\end{tabular}\n"
      ],
      "text/markdown": [
       "\n",
       "| <!--/--> | Estimate | Pr(>|z|) |\n",
       "|---|---|---|\n",
       "| (Intercept) |   0.21004 | 0.63352   |\n",
       "| Start.age |  -0.00743 | 0.33932   |\n",
       "| factor(Gender)Male |   0.00597 | 0.95468   |\n",
       "| factor(Grad.Funding.Indicator)1 |   0.72105 | 0.00000   |\n",
       "| CitizenshipAmerican Indian or Alaskan Native |  -1.06623 | 0.17998   |\n",
       "| CitizenshipAsia |   0.01970 | 0.95675   |\n",
       "| CitizenshipAsian |  -0.81446 | 0.05492   |\n",
       "| CitizenshipBlack or African American |  -0.20672 | 0.64335   |\n",
       "| CitizenshipChina |   0.13918 | 0.70357   |\n",
       "| CitizenshipEurope |  -0.26949 | 0.54479   |\n",
       "| CitizenshipHawaiian or Other Pacific Islander | -12.80025 | 0.96856   |\n",
       "| CitizenshipHispanic or Latino |  -0.70605 | 0.07236   |\n",
       "| CitizenshipIndia |   0.16383 | 0.74594   |\n",
       "| CitizenshipNorth America |  -0.27106 | 0.65328   |\n",
       "| CitizenshipSouth America |  -0.31965 | 0.55702   |\n",
       "| CitizenshipUnknown |  -0.29300 | 0.44012   |\n",
       "| CitizenshipWhite |  -0.33921 | 0.30581   |\n",
       "| Net.Cost.After.Any.Funding |   0.00001 | 0.01084   |\n",
       "| PC1 |  -0.10052 | 0.00013   |\n",
       "| PC2 |  -0.38405 | 0.00000   |\n",
       "| PC3 |   0.08404 | 0.66471   |\n",
       "| factor(Gap)1 |   0.87704 | 0.00008   |\n",
       "| Slope |   2.27687 | 0.00045   |\n",
       "\n"
      ],
      "text/plain": [
       "                                              Estimate  Pr(>|z|)\n",
       "(Intercept)                                     0.21004 0.63352 \n",
       "Start.age                                      -0.00743 0.33932 \n",
       "factor(Gender)Male                              0.00597 0.95468 \n",
       "factor(Grad.Funding.Indicator)1                 0.72105 0.00000 \n",
       "CitizenshipAmerican Indian or Alaskan Native   -1.06623 0.17998 \n",
       "CitizenshipAsia                                 0.01970 0.95675 \n",
       "CitizenshipAsian                               -0.81446 0.05492 \n",
       "CitizenshipBlack or African American           -0.20672 0.64335 \n",
       "CitizenshipChina                                0.13918 0.70357 \n",
       "CitizenshipEurope                              -0.26949 0.54479 \n",
       "CitizenshipHawaiian or Other Pacific Islander -12.80025 0.96856 \n",
       "CitizenshipHispanic or Latino                  -0.70605 0.07236 \n",
       "CitizenshipIndia                                0.16383 0.74594 \n",
       "CitizenshipNorth America                       -0.27106 0.65328 \n",
       "CitizenshipSouth America                       -0.31965 0.55702 \n",
       "CitizenshipUnknown                             -0.29300 0.44012 \n",
       "CitizenshipWhite                               -0.33921 0.30581 \n",
       "Net.Cost.After.Any.Funding                      0.00001 0.01084 \n",
       "PC1                                            -0.10052 0.00013 \n",
       "PC2                                            -0.38405 0.00000 \n",
       "PC3                                             0.08404 0.66471 \n",
       "factor(Gap)1                                    0.87704 0.00008 \n",
       "Slope                                           2.27687 0.00045 "
      ]
     },
     "metadata": {},
     "output_type": "display_data"
    }
   ],
   "source": [
    "round(summary(log_mod_h)$coeff[,c(1,4)],5)"
   ]
  },
  {
   "cell_type": "markdown",
   "metadata": {},
   "source": [
    "<b> Significant Variables: Funding, Citizenship-Hispanic, Net Cost, PC1,PC2,Gap,Slope"
   ]
  },
  {
   "cell_type": "markdown",
   "metadata": {},
   "source": [
    "Things we need\n",
    "-  Run AIC/BIC stepwise model selection for Harpur and summarize results\n",
    "-  Repeat for the other 3 schools"
   ]
  },
  {
   "cell_type": "code",
   "execution_count": 11,
   "metadata": {
    "collapsed": true
   },
   "outputs": [
    {
     "name": "stdout",
     "output_type": "stream",
     "text": [
      "Start:  AIC=2201.64\n",
      "Y ~ Start.age + factor(Gender) + factor(Grad.Funding.Indicator) + \n",
      "    Citizenship + Net.Cost.After.Any.Funding + PC1 + PC2 + PC3 + \n",
      "    factor(Gap) + Slope\n",
      "\n",
      "                                 Df Deviance    AIC\n",
      "- Citizenship                    13   2177.9 2197.9\n",
      "- factor(Gender)                  1   2155.6 2199.6\n",
      "- PC3                             1   2155.8 2199.8\n",
      "- Start.age                       1   2156.6 2200.6\n",
      "<none>                                2155.6 2201.6\n",
      "- Net.Cost.After.Any.Funding      1   2162.3 2206.3\n",
      "- Slope                           1   2168.7 2212.7\n",
      "- PC1                             1   2170.6 2214.6\n",
      "- factor(Gap)                     1   2173.0 2217.0\n",
      "- factor(Grad.Funding.Indicator)  1   2185.8 2229.8\n",
      "- PC2                             1   2271.8 2315.8\n",
      "\n",
      "Step:  AIC=2197.88\n",
      "Y ~ Start.age + factor(Gender) + factor(Grad.Funding.Indicator) + \n",
      "    Net.Cost.After.Any.Funding + PC1 + PC2 + PC3 + factor(Gap) + \n",
      "    Slope\n",
      "\n",
      "                                 Df Deviance    AIC\n",
      "- PC3                             1   2177.9 2195.9\n",
      "- factor(Gender)                  1   2177.9 2195.9\n",
      "- Start.age                       1   2179.1 2197.1\n",
      "<none>                                2177.9 2197.9\n",
      "- Net.Cost.After.Any.Funding      1   2183.0 2201.0\n",
      "- Slope                           1   2192.3 2210.3\n",
      "- factor(Gap)                     1   2193.2 2211.2\n",
      "- PC1                             1   2193.5 2211.5\n",
      "- factor(Grad.Funding.Indicator)  1   2210.5 2228.5\n",
      "- PC2                             1   2296.5 2314.5\n",
      "\n",
      "Step:  AIC=2195.88\n",
      "Y ~ Start.age + factor(Gender) + factor(Grad.Funding.Indicator) + \n",
      "    Net.Cost.After.Any.Funding + PC1 + PC2 + factor(Gap) + Slope\n",
      "\n",
      "                                 Df Deviance    AIC\n",
      "- factor(Gender)                  1   2177.9 2193.9\n",
      "- Start.age                       1   2179.1 2195.1\n",
      "<none>                                2177.9 2195.9\n",
      "- Net.Cost.After.Any.Funding      1   2183.0 2199.0\n",
      "- Slope                           1   2192.3 2208.3\n",
      "- factor(Gap)                     1   2193.2 2209.2\n",
      "- PC1                             1   2193.5 2209.5\n",
      "- factor(Grad.Funding.Indicator)  1   2210.5 2226.5\n",
      "- PC2                             1   2310.3 2326.3\n",
      "\n",
      "Step:  AIC=2193.9\n",
      "Y ~ Start.age + factor(Grad.Funding.Indicator) + Net.Cost.After.Any.Funding + \n",
      "    PC1 + PC2 + factor(Gap) + Slope\n",
      "\n",
      "                                 Df Deviance    AIC\n",
      "- Start.age                       1   2179.1 2193.1\n",
      "<none>                                2177.9 2193.9\n",
      "- Net.Cost.After.Any.Funding      1   2183.0 2197.0\n",
      "- Slope                           1   2192.3 2206.3\n",
      "- factor(Gap)                     1   2193.2 2207.2\n",
      "- PC1                             1   2193.5 2207.5\n",
      "- factor(Grad.Funding.Indicator)  1   2210.8 2224.8\n",
      "- PC2                             1   2310.4 2324.4\n",
      "\n",
      "Step:  AIC=2193.14\n",
      "Y ~ factor(Grad.Funding.Indicator) + Net.Cost.After.Any.Funding + \n",
      "    PC1 + PC2 + factor(Gap) + Slope\n",
      "\n",
      "                                 Df Deviance    AIC\n",
      "<none>                                2179.1 2193.1\n",
      "- Net.Cost.After.Any.Funding      1   2184.2 2196.2\n",
      "- Slope                           1   2193.9 2205.9\n",
      "- PC1                             1   2194.8 2206.8\n",
      "- factor(Gap)                     1   2194.9 2206.9\n",
      "- factor(Grad.Funding.Indicator)  1   2217.3 2229.3\n",
      "- PC2                             1   2310.4 2322.4\n"
     ]
    }
   ],
   "source": [
    "library('MASS')\n",
    "log_mod_h_aic_b = stepAIC(log_mod_h, direction = 'backward')"
   ]
  },
  {
   "cell_type": "markdown",
   "metadata": {},
   "source": [
    "<b> Variables backward AIC selects: Net cost, PC1, PC2, slope, gap, funding indicator."
   ]
  },
  {
   "cell_type": "code",
   "execution_count": 12,
   "metadata": {
    "collapsed": true
   },
   "outputs": [
    {
     "data": {
      "text/plain": [
       "\n",
       "Call:\n",
       "glm(formula = Y ~ factor(Grad.Funding.Indicator) + Net.Cost.After.Any.Funding + \n",
       "    PC1 + PC2 + factor(Gap) + Slope, family = \"binomial\", data = Harpuer_df)\n",
       "\n",
       "Deviance Residuals: \n",
       "    Min       1Q   Median       3Q      Max  \n",
       "-2.7527  -1.1523   0.6932   0.9910   2.4224  \n",
       "\n",
       "Coefficients:\n",
       "                                  Estimate Std. Error z value Pr(>|z|)    \n",
       "(Intercept)                     -2.868e-01  1.132e-01  -2.533 0.011312 *  \n",
       "factor(Grad.Funding.Indicator)1  7.757e-01  1.272e-01   6.099 1.06e-09 ***\n",
       "Net.Cost.After.Any.Funding       4.835e-06  2.187e-06   2.211 0.027046 *  \n",
       "PC1                             -1.010e-01  2.576e-02  -3.923 8.76e-05 ***\n",
       "PC2                             -3.784e-01  3.487e-02 -10.851  < 2e-16 ***\n",
       "factor(Gap)1                     8.268e-01  2.199e-01   3.760 0.000170 ***\n",
       "Slope                            2.370e+00  6.364e-01   3.723 0.000197 ***\n",
       "---\n",
       "Signif. codes:  0 '***' 0.001 '**' 0.01 '*' 0.05 '.' 0.1 ' ' 1\n",
       "\n",
       "(Dispersion parameter for binomial family taken to be 1)\n",
       "\n",
       "    Null deviance: 2388.4  on 1779  degrees of freedom\n",
       "Residual deviance: 2179.1  on 1773  degrees of freedom\n",
       "AIC: 2193.1\n",
       "\n",
       "Number of Fisher Scoring iterations: 4\n"
      ]
     },
     "metadata": {},
     "output_type": "display_data"
    }
   ],
   "source": [
    "log_mod_h_f = glm(Y ~ factor(Grad.Funding.Indicator) + Net.Cost.After.Any.Funding + PC1 + PC2 + factor(Gap) + Slope,\n",
    "                 data=Harpuer_df,family=\"binomial\")\n",
    "summary(log_mod_h_f)"
   ]
  },
  {
   "cell_type": "code",
   "execution_count": 13,
   "metadata": {
    "collapsed": true
   },
   "outputs": [
    {
     "data": {
      "text/html": [
       "<table>\n",
       "<thead><tr><th></th><th scope=col>Estimate</th><th scope=col>Pr(&gt;|z|)</th></tr></thead>\n",
       "<tbody>\n",
       "\t<tr><th scope=row>(Intercept)</th><td>-0.28680</td><td>0.01131 </td></tr>\n",
       "\t<tr><th scope=row>factor(Grad.Funding.Indicator)1</th><td> 0.77573</td><td>0.00000 </td></tr>\n",
       "\t<tr><th scope=row>Net.Cost.After.Any.Funding</th><td> 0.00000</td><td>0.02705 </td></tr>\n",
       "\t<tr><th scope=row>PC1</th><td>-0.10103</td><td>0.00009 </td></tr>\n",
       "\t<tr><th scope=row>PC2</th><td>-0.37838</td><td>0.00000 </td></tr>\n",
       "\t<tr><th scope=row>factor(Gap)1</th><td> 0.82677</td><td>0.00017 </td></tr>\n",
       "\t<tr><th scope=row>Slope</th><td> 2.36958</td><td>0.00020 </td></tr>\n",
       "</tbody>\n",
       "</table>\n"
      ],
      "text/latex": [
       "\\begin{tabular}{r|ll}\n",
       "  & Estimate & Pr(>\\textbar{}z\\textbar{})\\\\\n",
       "\\hline\n",
       "\t(Intercept) & -0.28680 & 0.01131 \\\\\n",
       "\tfactor(Grad.Funding.Indicator)1 &  0.77573 & 0.00000 \\\\\n",
       "\tNet.Cost.After.Any.Funding &  0.00000 & 0.02705 \\\\\n",
       "\tPC1 & -0.10103 & 0.00009 \\\\\n",
       "\tPC2 & -0.37838 & 0.00000 \\\\\n",
       "\tfactor(Gap)1 &  0.82677 & 0.00017 \\\\\n",
       "\tSlope &  2.36958 & 0.00020 \\\\\n",
       "\\end{tabular}\n"
      ],
      "text/markdown": [
       "\n",
       "| <!--/--> | Estimate | Pr(>|z|) |\n",
       "|---|---|---|\n",
       "| (Intercept) | -0.28680 | 0.01131  |\n",
       "| factor(Grad.Funding.Indicator)1 |  0.77573 | 0.00000  |\n",
       "| Net.Cost.After.Any.Funding |  0.00000 | 0.02705  |\n",
       "| PC1 | -0.10103 | 0.00009  |\n",
       "| PC2 | -0.37838 | 0.00000  |\n",
       "| factor(Gap)1 |  0.82677 | 0.00017  |\n",
       "| Slope |  2.36958 | 0.00020  |\n",
       "\n"
      ],
      "text/plain": [
       "                                Estimate Pr(>|z|)\n",
       "(Intercept)                     -0.28680 0.01131 \n",
       "factor(Grad.Funding.Indicator)1  0.77573 0.00000 \n",
       "Net.Cost.After.Any.Funding       0.00000 0.02705 \n",
       "PC1                             -0.10103 0.00009 \n",
       "PC2                             -0.37838 0.00000 \n",
       "factor(Gap)1                     0.82677 0.00017 \n",
       "Slope                            2.36958 0.00020 "
      ]
     },
     "metadata": {},
     "output_type": "display_data"
    }
   ],
   "source": [
    "round(summary(log_mod_h_f)$coeff[,c(1,4)],5)"
   ]
  },
  {
   "cell_type": "markdown",
   "metadata": {},
   "source": [
    "<b> Significant Variables after fitting the model again: Net cost, PC1, PC2, slope, gap, funding indicator."
   ]
  },
  {
   "cell_type": "markdown",
   "metadata": {},
   "source": [
    "# Management Analysis"
   ]
  },
  {
   "cell_type": "code",
   "execution_count": 19,
   "metadata": {
    "collapsed": true
   },
   "outputs": [
    {
     "data": {
      "text/plain": [
       "\n",
       "Call:\n",
       "glm(formula = Y ~ Start.age + factor(Gender) + Net.Cost.After.Any.Funding + \n",
       "    PC1 + PC2 + PC3 + factor(Gap) + Slope, family = \"binomial\", \n",
       "    data = Management_df)\n",
       "\n",
       "Deviance Residuals: \n",
       "    Min       1Q   Median       3Q      Max  \n",
       "-2.0067  -0.5098   0.1893   0.6294   1.8714  \n",
       "\n",
       "Coefficients:\n",
       "                             Estimate Std. Error z value Pr(>|z|)   \n",
       "(Intercept)                 8.763e-01  2.516e+00   0.348   0.7277   \n",
       "Start.age                  -1.136e-01  9.137e-02  -1.243   0.2139   \n",
       "factor(Gender)Male         -1.295e+00  8.219e-01  -1.575   0.1152   \n",
       "Net.Cost.After.Any.Funding  2.000e-04  7.188e-05   2.782   0.0054 **\n",
       "PC1                        -1.171e+00  1.097e+00  -1.067   0.2859   \n",
       "PC2                        -1.352e+00  1.082e+00  -1.250   0.2114   \n",
       "PC3                         4.252e-02  8.557e-02   0.497   0.6193   \n",
       "factor(Gap)1                1.568e+01  1.748e+03   0.009   0.9928   \n",
       "Slope                       1.621e+01  8.749e+00   1.852   0.0640 . \n",
       "---\n",
       "Signif. codes:  0 '***' 0.001 '**' 0.01 '*' 0.05 '.' 0.1 ' ' 1\n",
       "\n",
       "(Dispersion parameter for binomial family taken to be 1)\n",
       "\n",
       "    Null deviance: 74.726  on 57  degrees of freedom\n",
       "Residual deviance: 46.121  on 49  degrees of freedom\n",
       "AIC: 64.121\n",
       "\n",
       "Number of Fisher Scoring iterations: 16\n"
      ]
     },
     "metadata": {},
     "output_type": "display_data"
    }
   ],
   "source": [
    "log_mod_m = glm(Y~Start.age+factor(Gender)+\n",
    "                Net.Cost.After.Any.Funding+PC1+PC2+PC3+factor(Gap)+Slope,\n",
    "                data=Management_df,family=\"binomial\")\n",
    "summary(log_mod_m)"
   ]
  },
  {
   "cell_type": "code",
   "execution_count": 20,
   "metadata": {
    "collapsed": true
   },
   "outputs": [
    {
     "data": {
      "text/html": [
       "<table>\n",
       "<thead><tr><th></th><th scope=col>Estimate</th><th scope=col>Pr(&gt;|z|)</th></tr></thead>\n",
       "<tbody>\n",
       "\t<tr><th scope=row>(Intercept)</th><td> 0.87631</td><td>0.72766 </td></tr>\n",
       "\t<tr><th scope=row>Start.age</th><td>-0.11355</td><td>0.21395 </td></tr>\n",
       "\t<tr><th scope=row>factor(Gender)Male</th><td>-1.29453</td><td>0.11525 </td></tr>\n",
       "\t<tr><th scope=row>Net.Cost.After.Any.Funding</th><td> 0.00020</td><td>0.00540 </td></tr>\n",
       "\t<tr><th scope=row>PC1</th><td>-1.17073</td><td>0.28591 </td></tr>\n",
       "\t<tr><th scope=row>PC2</th><td>-1.35173</td><td>0.21140 </td></tr>\n",
       "\t<tr><th scope=row>PC3</th><td> 0.04252</td><td>0.61925 </td></tr>\n",
       "\t<tr><th scope=row>factor(Gap)1</th><td>15.67937</td><td>0.99284 </td></tr>\n",
       "\t<tr><th scope=row>Slope</th><td>16.20614</td><td>0.06397 </td></tr>\n",
       "</tbody>\n",
       "</table>\n"
      ],
      "text/latex": [
       "\\begin{tabular}{r|ll}\n",
       "  & Estimate & Pr(>\\textbar{}z\\textbar{})\\\\\n",
       "\\hline\n",
       "\t(Intercept) &  0.87631 & 0.72766 \\\\\n",
       "\tStart.age & -0.11355 & 0.21395 \\\\\n",
       "\tfactor(Gender)Male & -1.29453 & 0.11525 \\\\\n",
       "\tNet.Cost.After.Any.Funding &  0.00020 & 0.00540 \\\\\n",
       "\tPC1 & -1.17073 & 0.28591 \\\\\n",
       "\tPC2 & -1.35173 & 0.21140 \\\\\n",
       "\tPC3 &  0.04252 & 0.61925 \\\\\n",
       "\tfactor(Gap)1 & 15.67937 & 0.99284 \\\\\n",
       "\tSlope & 16.20614 & 0.06397 \\\\\n",
       "\\end{tabular}\n"
      ],
      "text/markdown": [
       "\n",
       "| <!--/--> | Estimate | Pr(>|z|) |\n",
       "|---|---|---|\n",
       "| (Intercept) |  0.87631 | 0.72766  |\n",
       "| Start.age | -0.11355 | 0.21395  |\n",
       "| factor(Gender)Male | -1.29453 | 0.11525  |\n",
       "| Net.Cost.After.Any.Funding |  0.00020 | 0.00540  |\n",
       "| PC1 | -1.17073 | 0.28591  |\n",
       "| PC2 | -1.35173 | 0.21140  |\n",
       "| PC3 |  0.04252 | 0.61925  |\n",
       "| factor(Gap)1 | 15.67937 | 0.99284  |\n",
       "| Slope | 16.20614 | 0.06397  |\n",
       "\n"
      ],
      "text/plain": [
       "                           Estimate Pr(>|z|)\n",
       "(Intercept)                 0.87631 0.72766 \n",
       "Start.age                  -0.11355 0.21395 \n",
       "factor(Gender)Male         -1.29453 0.11525 \n",
       "Net.Cost.After.Any.Funding  0.00020 0.00540 \n",
       "PC1                        -1.17073 0.28591 \n",
       "PC2                        -1.35173 0.21140 \n",
       "PC3                         0.04252 0.61925 \n",
       "factor(Gap)1               15.67937 0.99284 \n",
       "Slope                      16.20614 0.06397 "
      ]
     },
     "metadata": {},
     "output_type": "display_data"
    }
   ],
   "source": [
    "round(summary(log_mod_m)$coeff[,c(1,4)],5)"
   ]
  },
  {
   "cell_type": "markdown",
   "metadata": {},
   "source": [
    "<b> Significant Variables: Net cost, slope."
   ]
  },
  {
   "cell_type": "code",
   "execution_count": 22,
   "metadata": {},
   "outputs": [
    {
     "name": "stdout",
     "output_type": "stream",
     "text": [
      "Start:  AIC=64.12\n",
      "Y ~ Start.age + factor(Gender) + Net.Cost.After.Any.Funding + \n",
      "    PC1 + PC2 + PC3 + factor(Gap) + Slope\n",
      "\n",
      "                             Df Deviance    AIC\n",
      "- PC3                         1   46.370 62.370\n",
      "- factor(Gap)                 1   47.193 63.193\n",
      "- Start.age                   1   47.735 63.735\n",
      "<none>                            46.121 64.121\n",
      "- PC1                         1   48.812 64.812\n",
      "- factor(Gender)              1   48.865 64.865\n",
      "- PC2                         1   50.095 66.095\n",
      "- Slope                       1   50.894 66.894\n",
      "- Net.Cost.After.Any.Funding  1   58.239 74.239\n",
      "\n",
      "Step:  AIC=62.37\n",
      "Y ~ Start.age + factor(Gender) + Net.Cost.After.Any.Funding + \n",
      "    PC1 + PC2 + factor(Gap) + Slope\n",
      "\n",
      "                             Df Deviance    AIC\n",
      "- factor(Gap)                 1   47.351 61.351\n",
      "- Start.age                   1   47.829 61.829\n",
      "<none>                            46.370 62.370\n",
      "- factor(Gender)              1   48.986 62.986\n",
      "- PC1                         1   49.246 63.246\n",
      "- Slope                       1   51.635 65.635\n",
      "- PC2                         1   52.693 66.693\n",
      "- Net.Cost.After.Any.Funding  1   58.349 72.349\n",
      "\n",
      "Step:  AIC=61.35\n",
      "Y ~ Start.age + factor(Gender) + Net.Cost.After.Any.Funding + \n",
      "    PC1 + PC2 + Slope\n",
      "\n",
      "                             Df Deviance    AIC\n",
      "- Start.age                   1   48.982 60.982\n",
      "<none>                            47.351 61.351\n",
      "- factor(Gender)              1   49.795 61.795\n",
      "- PC1                         1   51.408 63.408\n",
      "- Slope                       1   52.715 64.715\n",
      "- PC2                         1   53.755 65.755\n",
      "- Net.Cost.After.Any.Funding  1   61.934 73.934\n",
      "\n",
      "Step:  AIC=60.98\n",
      "Y ~ factor(Gender) + Net.Cost.After.Any.Funding + PC1 + PC2 + \n",
      "    Slope\n",
      "\n",
      "                             Df Deviance    AIC\n",
      "<none>                            48.982 60.982\n",
      "- factor(Gender)              1   51.535 61.535\n",
      "- PC1                         1   52.331 62.331\n",
      "- Slope                       1   53.924 63.924\n",
      "- PC2                         1   54.461 64.461\n",
      "- Net.Cost.After.Any.Funding  1   62.655 72.655\n"
     ]
    }
   ],
   "source": [
    "log_mod_m_aic_b = stepAIC(log_mod_m, direction = 'backward')"
   ]
  },
  {
   "cell_type": "markdown",
   "metadata": {},
   "source": [
    "<b> Variables backward AIC selects: Net cost, PC1, PC2, slope, gender."
   ]
  },
  {
   "cell_type": "code",
   "execution_count": 23,
   "metadata": {},
   "outputs": [
    {
     "data": {
      "text/plain": [
       "\n",
       "Call:\n",
       "glm(formula = Y ~ factor(Gender) + Net.Cost.After.Any.Funding + \n",
       "    PC1 + PC2 + Slope, family = \"binomial\", data = Management_df)\n",
       "\n",
       "Deviance Residuals: \n",
       "    Min       1Q   Median       3Q      Max  \n",
       "-2.3779  -0.6118   0.2405   0.6805   1.4678  \n",
       "\n",
       "Coefficients:\n",
       "                             Estimate Std. Error z value Pr(>|z|)   \n",
       "(Intercept)                -2.120e+00  1.248e+00  -1.699  0.08936 . \n",
       "factor(Gender)Male         -1.236e+00  8.128e-01  -1.520  0.12846   \n",
       "Net.Cost.After.Any.Funding  1.916e-04  6.509e-05   2.944  0.00324 **\n",
       "PC1                        -1.275e+00  1.004e+00  -1.270  0.20416   \n",
       "PC2                        -1.444e+00  9.706e-01  -1.488  0.13672   \n",
       "Slope                       1.742e+01  9.092e+00   1.916  0.05531 . \n",
       "---\n",
       "Signif. codes:  0 '***' 0.001 '**' 0.01 '*' 0.05 '.' 0.1 ' ' 1\n",
       "\n",
       "(Dispersion parameter for binomial family taken to be 1)\n",
       "\n",
       "    Null deviance: 74.726  on 57  degrees of freedom\n",
       "Residual deviance: 48.982  on 52  degrees of freedom\n",
       "AIC: 60.982\n",
       "\n",
       "Number of Fisher Scoring iterations: 6\n"
      ]
     },
     "metadata": {},
     "output_type": "display_data"
    }
   ],
   "source": [
    "log_mod_m_f = glm(Y ~ factor(Gender) + Net.Cost.After.Any.Funding + PC1 + PC2 + Slope,\n",
    "                 data=Management_df,family=\"binomial\")\n",
    "summary(log_mod_m_f)"
   ]
  },
  {
   "cell_type": "code",
   "execution_count": 15,
   "metadata": {},
   "outputs": [
    {
     "data": {
      "text/html": [
       "<table>\n",
       "<thead><tr><th></th><th scope=col>Estimate</th><th scope=col>Pr(&gt;|z|)</th></tr></thead>\n",
       "<tbody>\n",
       "\t<tr><th scope=row>(Intercept)</th><td>-2.12045</td><td>0.08936 </td></tr>\n",
       "\t<tr><th scope=row>factor(Gender)Male</th><td>-1.23559</td><td>0.12846 </td></tr>\n",
       "\t<tr><th scope=row>Net.Cost.After.Any.Funding</th><td> 0.00019</td><td>0.00324 </td></tr>\n",
       "\t<tr><th scope=row>PC1</th><td>-1.27537</td><td>0.20416 </td></tr>\n",
       "\t<tr><th scope=row>PC2</th><td>-1.44430</td><td>0.13672 </td></tr>\n",
       "\t<tr><th scope=row>Slope</th><td>17.42356</td><td>0.05531 </td></tr>\n",
       "</tbody>\n",
       "</table>\n"
      ],
      "text/latex": [
       "\\begin{tabular}{r|ll}\n",
       "  & Estimate & Pr(>\\textbar{}z\\textbar{})\\\\\n",
       "\\hline\n",
       "\t(Intercept) & -2.12045 & 0.08936 \\\\\n",
       "\tfactor(Gender)Male & -1.23559 & 0.12846 \\\\\n",
       "\tNet.Cost.After.Any.Funding &  0.00019 & 0.00324 \\\\\n",
       "\tPC1 & -1.27537 & 0.20416 \\\\\n",
       "\tPC2 & -1.44430 & 0.13672 \\\\\n",
       "\tSlope & 17.42356 & 0.05531 \\\\\n",
       "\\end{tabular}\n"
      ],
      "text/markdown": [
       "\n",
       "| <!--/--> | Estimate | Pr(>|z|) |\n",
       "|---|---|---|\n",
       "| (Intercept) | -2.12045 | 0.08936  |\n",
       "| factor(Gender)Male | -1.23559 | 0.12846  |\n",
       "| Net.Cost.After.Any.Funding |  0.00019 | 0.00324  |\n",
       "| PC1 | -1.27537 | 0.20416  |\n",
       "| PC2 | -1.44430 | 0.13672  |\n",
       "| Slope | 17.42356 | 0.05531  |\n",
       "\n"
      ],
      "text/plain": [
       "                           Estimate Pr(>|z|)\n",
       "(Intercept)                -2.12045 0.08936 \n",
       "factor(Gender)Male         -1.23559 0.12846 \n",
       "Net.Cost.After.Any.Funding  0.00019 0.00324 \n",
       "PC1                        -1.27537 0.20416 \n",
       "PC2                        -1.44430 0.13672 \n",
       "Slope                      17.42356 0.05531 "
      ]
     },
     "metadata": {},
     "output_type": "display_data"
    }
   ],
   "source": [
    "round(summary(log_mod_m_f)$coeff[,c(1,4)],5)"
   ]
  },
  {
   "cell_type": "markdown",
   "metadata": {},
   "source": [
    "<b> Significant Variables after backward AIC selection: Net cost."
   ]
  },
  {
   "cell_type": "markdown",
   "metadata": {},
   "source": [
    "# Nursing Analysis"
   ]
  },
  {
   "cell_type": "code",
   "execution_count": 51,
   "metadata": {},
   "outputs": [
    {
     "data": {
      "text/plain": [
       "\n",
       "Call:\n",
       "glm(formula = Y ~ Start.age + factor(Gender) + factor(Grad.Funding.Indicator) + \n",
       "    Net.Cost.After.Any.Funding + PC1 + PC2 + PC3 + factor(Gap) + \n",
       "    Slope, family = \"binomial\", data = Nursing_df)\n",
       "\n",
       "Deviance Residuals: \n",
       "    Min       1Q   Median       3Q      Max  \n",
       "-2.5244  -1.0121   0.3747   0.9610   1.4857  \n",
       "\n",
       "Coefficients:\n",
       "                                  Estimate Std. Error z value Pr(>|z|)   \n",
       "(Intercept)                      6.437e+00  4.889e+02   0.013  0.98950   \n",
       "Start.age                       -2.114e-04  1.962e-02  -0.011  0.99140   \n",
       "factor(Gender)Male              -2.864e-01  6.295e-01  -0.455  0.64912   \n",
       "factor(Grad.Funding.Indicator)1  6.651e-01  4.773e-01   1.393  0.16348   \n",
       "Net.Cost.After.Any.Funding       4.082e-05  1.501e-05   2.720  0.00654 **\n",
       "PC1                             -5.019e-01  4.325e+02  -0.001  0.99907   \n",
       "PC2                              6.240e+00  4.280e+02   0.015  0.98837   \n",
       "PC3                             -1.313e+01  7.327e+02  -0.018  0.98570   \n",
       "factor(Gap)1                    -6.133e-01  9.448e-01  -0.649  0.51621   \n",
       "Slope                           -2.204e+00  5.162e+00  -0.427  0.66939   \n",
       "---\n",
       "Signif. codes:  0 '***' 0.001 '**' 0.01 '*' 0.05 '.' 0.1 ' ' 1\n",
       "\n",
       "(Dispersion parameter for binomial family taken to be 1)\n",
       "\n",
       "    Null deviance: 155.91  on 116  degrees of freedom\n",
       "Residual deviance: 126.20  on 107  degrees of freedom\n",
       "AIC: 146.2\n",
       "\n",
       "Number of Fisher Scoring iterations: 16\n"
      ]
     },
     "metadata": {},
     "output_type": "display_data"
    }
   ],
   "source": [
    "log_mod_n = glm(Y~Start.age+factor(Gender)+factor(Grad.Funding.Indicator)+\n",
    "                Net.Cost.After.Any.Funding+PC1+PC2+PC3+factor(Gap)+Slope,\n",
    "                data=Nursing_df,family=\"binomial\")\n",
    "summary(log_mod_n)"
   ]
  },
  {
   "cell_type": "code",
   "execution_count": 52,
   "metadata": {},
   "outputs": [
    {
     "data": {
      "text/html": [
       "<table>\n",
       "<thead><tr><th></th><th scope=col>Estimate</th><th scope=col>Pr(&gt;|z|)</th></tr></thead>\n",
       "<tbody>\n",
       "\t<tr><th scope=row>(Intercept)</th><td>  6.43660</td><td>0.98950  </td></tr>\n",
       "\t<tr><th scope=row>Start.age</th><td> -0.00021</td><td>0.99140  </td></tr>\n",
       "\t<tr><th scope=row>factor(Gender)Male</th><td> -0.28641</td><td>0.64912  </td></tr>\n",
       "\t<tr><th scope=row>factor(Grad.Funding.Indicator)1</th><td>  0.66514</td><td>0.16348  </td></tr>\n",
       "\t<tr><th scope=row>Net.Cost.After.Any.Funding</th><td>  0.00004</td><td>0.00654  </td></tr>\n",
       "\t<tr><th scope=row>PC1</th><td> -0.50195</td><td>0.99907  </td></tr>\n",
       "\t<tr><th scope=row>PC2</th><td>  6.23961</td><td>0.98837  </td></tr>\n",
       "\t<tr><th scope=row>PC3</th><td>-13.12930</td><td>0.98570  </td></tr>\n",
       "\t<tr><th scope=row>factor(Gap)1</th><td> -0.61335</td><td>0.51621  </td></tr>\n",
       "\t<tr><th scope=row>Slope</th><td> -2.20414</td><td>0.66939  </td></tr>\n",
       "</tbody>\n",
       "</table>\n"
      ],
      "text/latex": [
       "\\begin{tabular}{r|ll}\n",
       "  & Estimate & Pr(>\\textbar{}z\\textbar{})\\\\\n",
       "\\hline\n",
       "\t(Intercept) &   6.43660 & 0.98950  \\\\\n",
       "\tStart.age &  -0.00021 & 0.99140  \\\\\n",
       "\tfactor(Gender)Male &  -0.28641 & 0.64912  \\\\\n",
       "\tfactor(Grad.Funding.Indicator)1 &   0.66514 & 0.16348  \\\\\n",
       "\tNet.Cost.After.Any.Funding &   0.00004 & 0.00654  \\\\\n",
       "\tPC1 &  -0.50195 & 0.99907  \\\\\n",
       "\tPC2 &   6.23961 & 0.98837  \\\\\n",
       "\tPC3 & -13.12930 & 0.98570  \\\\\n",
       "\tfactor(Gap)1 &  -0.61335 & 0.51621  \\\\\n",
       "\tSlope &  -2.20414 & 0.66939  \\\\\n",
       "\\end{tabular}\n"
      ],
      "text/markdown": [
       "\n",
       "| <!--/--> | Estimate | Pr(>|z|) |\n",
       "|---|---|---|\n",
       "| (Intercept) |   6.43660 | 0.98950   |\n",
       "| Start.age |  -0.00021 | 0.99140   |\n",
       "| factor(Gender)Male |  -0.28641 | 0.64912   |\n",
       "| factor(Grad.Funding.Indicator)1 |   0.66514 | 0.16348   |\n",
       "| Net.Cost.After.Any.Funding |   0.00004 | 0.00654   |\n",
       "| PC1 |  -0.50195 | 0.99907   |\n",
       "| PC2 |   6.23961 | 0.98837   |\n",
       "| PC3 | -13.12930 | 0.98570   |\n",
       "| factor(Gap)1 |  -0.61335 | 0.51621   |\n",
       "| Slope |  -2.20414 | 0.66939   |\n",
       "\n"
      ],
      "text/plain": [
       "                                Estimate  Pr(>|z|)\n",
       "(Intercept)                       6.43660 0.98950 \n",
       "Start.age                        -0.00021 0.99140 \n",
       "factor(Gender)Male               -0.28641 0.64912 \n",
       "factor(Grad.Funding.Indicator)1   0.66514 0.16348 \n",
       "Net.Cost.After.Any.Funding        0.00004 0.00654 \n",
       "PC1                              -0.50195 0.99907 \n",
       "PC2                               6.23961 0.98837 \n",
       "PC3                             -13.12930 0.98570 \n",
       "factor(Gap)1                     -0.61335 0.51621 \n",
       "Slope                            -2.20414 0.66939 "
      ]
     },
     "metadata": {},
     "output_type": "display_data"
    }
   ],
   "source": [
    "round(summary(log_mod_n)$coeff[,c(1,4)],5)"
   ]
  },
  {
   "cell_type": "markdown",
   "metadata": {},
   "source": [
    "<b> Significant Variables: Net cost."
   ]
  },
  {
   "cell_type": "code",
   "execution_count": 53,
   "metadata": {
    "scrolled": true
   },
   "outputs": [
    {
     "name": "stdout",
     "output_type": "stream",
     "text": [
      "Start:  AIC=146.2\n",
      "Y ~ Start.age + factor(Gender) + factor(Grad.Funding.Indicator) + \n",
      "    Net.Cost.After.Any.Funding + PC1 + PC2 + PC3 + factor(Gap) + \n",
      "    Slope\n",
      "\n",
      "                                 Df Deviance    AIC\n",
      "- PC1                             1   126.20 144.20\n",
      "- Start.age                       1   126.20 144.20\n",
      "- Slope                           1   126.38 144.38\n",
      "- factor(Gender)                  1   126.41 144.41\n",
      "- factor(Gap)                     1   126.62 144.62\n",
      "- factor(Grad.Funding.Indicator)  1   128.19 146.19\n",
      "<none>                                126.20 146.20\n",
      "- PC2                             1   135.10 153.10\n",
      "- Net.Cost.After.Any.Funding      1   135.56 153.56\n",
      "- PC3                             1   138.87 156.87\n",
      "\n",
      "Step:  AIC=144.2\n",
      "Y ~ Start.age + factor(Gender) + factor(Grad.Funding.Indicator) + \n",
      "    Net.Cost.After.Any.Funding + PC2 + PC3 + factor(Gap) + Slope\n",
      "\n",
      "                                 Df Deviance    AIC\n",
      "- Start.age                       1   126.20 142.20\n",
      "- Slope                           1   126.38 142.38\n",
      "- factor(Gender)                  1   126.41 142.41\n",
      "- factor(Gap)                     1   126.62 142.62\n",
      "- factor(Grad.Funding.Indicator)  1   128.19 144.19\n",
      "<none>                                126.20 144.20\n",
      "- PC2                             1   135.13 151.13\n",
      "- Net.Cost.After.Any.Funding      1   135.56 151.56\n",
      "- PC3                             1   138.93 154.93\n",
      "\n",
      "Step:  AIC=142.2\n",
      "Y ~ factor(Gender) + factor(Grad.Funding.Indicator) + Net.Cost.After.Any.Funding + \n",
      "    PC2 + PC3 + factor(Gap) + Slope\n",
      "\n",
      "                                 Df Deviance    AIC\n",
      "- Slope                           1   126.38 140.38\n",
      "- factor(Gender)                  1   126.41 140.41\n",
      "- factor(Gap)                     1   126.63 140.63\n",
      "<none>                                126.20 142.20\n",
      "- factor(Grad.Funding.Indicator)  1   128.39 142.39\n",
      "- PC2                             1   135.59 149.59\n",
      "- Net.Cost.After.Any.Funding      1   135.60 149.60\n",
      "- PC3                             1   138.98 152.98\n",
      "\n",
      "Step:  AIC=140.38\n",
      "Y ~ factor(Gender) + factor(Grad.Funding.Indicator) + Net.Cost.After.Any.Funding + \n",
      "    PC2 + PC3 + factor(Gap)\n",
      "\n",
      "                                 Df Deviance    AIC\n",
      "- factor(Gender)                  1   126.58 138.58\n",
      "- factor(Gap)                     1   126.72 138.72\n",
      "<none>                                126.38 140.38\n",
      "- factor(Grad.Funding.Indicator)  1   128.48 140.48\n",
      "- Net.Cost.After.Any.Funding      1   135.60 147.60\n",
      "- PC2                             1   135.95 147.95\n",
      "- PC3                             1   139.14 151.14\n",
      "\n",
      "Step:  AIC=138.58\n",
      "Y ~ factor(Grad.Funding.Indicator) + Net.Cost.After.Any.Funding + \n",
      "    PC2 + PC3 + factor(Gap)\n",
      "\n",
      "                                 Df Deviance    AIC\n",
      "- factor(Gap)                     1   126.87 136.87\n",
      "<none>                                126.58 138.58\n",
      "- factor(Grad.Funding.Indicator)  1   128.64 138.64\n",
      "- Net.Cost.After.Any.Funding      1   135.71 145.71\n",
      "- PC2                             1   135.99 145.99\n",
      "- PC3                             1   139.59 149.59\n",
      "\n",
      "Step:  AIC=136.87\n",
      "Y ~ factor(Grad.Funding.Indicator) + Net.Cost.After.Any.Funding + \n",
      "    PC2 + PC3\n",
      "\n",
      "                                 Df Deviance    AIC\n",
      "<none>                                126.87 136.87\n",
      "- factor(Grad.Funding.Indicator)  1   129.13 137.13\n",
      "- Net.Cost.After.Any.Funding      1   135.71 143.71\n",
      "- PC2                             1   136.09 144.09\n",
      "- PC3                             1   140.03 148.03\n"
     ]
    }
   ],
   "source": [
    "log_mod_n_aic_b = stepAIC(log_mod_n, direction = 'backward')"
   ]
  },
  {
   "cell_type": "markdown",
   "metadata": {},
   "source": [
    "<b> Variables backward AIC selects: Net cost, PC2, PC3, funding indicator."
   ]
  },
  {
   "cell_type": "code",
   "execution_count": 25,
   "metadata": {
    "collapsed": true
   },
   "outputs": [
    {
     "data": {
      "text/plain": [
       "\n",
       "Call:\n",
       "glm(formula = Y ~ factor(Gender) + Net.Cost.After.Any.Funding + \n",
       "    PC2 + PC3 + factor(Grad.Funding.Indicator), family = \"binomial\", \n",
       "    data = Nursing_df)\n",
       "\n",
       "Deviance Residuals: \n",
       "    Min       1Q   Median       3Q      Max  \n",
       "-2.5308  -0.9955   0.3976   0.9511   1.5144  \n",
       "\n",
       "Coefficients:\n",
       "                                  Estimate Std. Error z value Pr(>|z|)   \n",
       "(Intercept)                      6.519e+00  4.692e+02   0.014  0.98892   \n",
       "factor(Gender)Male              -2.396e-01  6.161e-01  -0.389  0.69738   \n",
       "Net.Cost.After.Any.Funding       3.868e-05  1.444e-05   2.679  0.00738 **\n",
       "PC2                              6.398e+00  4.222e+02   0.015  0.98791   \n",
       "PC3                             -1.345e+01  7.294e+02  -0.018  0.98529   \n",
       "factor(Grad.Funding.Indicator)1  6.746e-01  4.507e-01   1.497  0.13444   \n",
       "---\n",
       "Signif. codes:  0 '***' 0.001 '**' 0.01 '*' 0.05 '.' 0.1 ' ' 1\n",
       "\n",
       "(Dispersion parameter for binomial family taken to be 1)\n",
       "\n",
       "    Null deviance: 155.91  on 116  degrees of freedom\n",
       "Residual deviance: 126.72  on 111  degrees of freedom\n",
       "AIC: 138.72\n",
       "\n",
       "Number of Fisher Scoring iterations: 16\n"
      ]
     },
     "metadata": {},
     "output_type": "display_data"
    }
   ],
   "source": [
    "log_mod_n_f = glm(Y ~ factor(Gender) + Net.Cost.After.Any.Funding + PC2 + PC3 + factor(Grad.Funding.Indicator),\n",
    "                 data=Nursing_df,family=\"binomial\")\n",
    "summary(log_mod_n_f)"
   ]
  },
  {
   "cell_type": "code",
   "execution_count": 26,
   "metadata": {
    "collapsed": true
   },
   "outputs": [
    {
     "data": {
      "text/html": [
       "<table>\n",
       "<thead><tr><th></th><th scope=col>Estimate</th><th scope=col>Pr(&gt;|z|)</th></tr></thead>\n",
       "<tbody>\n",
       "\t<tr><th scope=row>(Intercept)</th><td>  6.51917</td><td>0.98892  </td></tr>\n",
       "\t<tr><th scope=row>factor(Gender)Male</th><td> -0.23956</td><td>0.69738  </td></tr>\n",
       "\t<tr><th scope=row>Net.Cost.After.Any.Funding</th><td>  0.00004</td><td>0.00738  </td></tr>\n",
       "\t<tr><th scope=row>PC2</th><td>  6.39775</td><td>0.98791  </td></tr>\n",
       "\t<tr><th scope=row>PC3</th><td>-13.44851</td><td>0.98529  </td></tr>\n",
       "\t<tr><th scope=row>factor(Grad.Funding.Indicator)1</th><td>  0.67461</td><td>0.13444  </td></tr>\n",
       "</tbody>\n",
       "</table>\n"
      ],
      "text/latex": [
       "\\begin{tabular}{r|ll}\n",
       "  & Estimate & Pr(>\\textbar{}z\\textbar{})\\\\\n",
       "\\hline\n",
       "\t(Intercept) &   6.51917 & 0.98892  \\\\\n",
       "\tfactor(Gender)Male &  -0.23956 & 0.69738  \\\\\n",
       "\tNet.Cost.After.Any.Funding &   0.00004 & 0.00738  \\\\\n",
       "\tPC2 &   6.39775 & 0.98791  \\\\\n",
       "\tPC3 & -13.44851 & 0.98529  \\\\\n",
       "\tfactor(Grad.Funding.Indicator)1 &   0.67461 & 0.13444  \\\\\n",
       "\\end{tabular}\n"
      ],
      "text/markdown": [
       "\n",
       "| <!--/--> | Estimate | Pr(>|z|) |\n",
       "|---|---|---|\n",
       "| (Intercept) |   6.51917 | 0.98892   |\n",
       "| factor(Gender)Male |  -0.23956 | 0.69738   |\n",
       "| Net.Cost.After.Any.Funding |   0.00004 | 0.00738   |\n",
       "| PC2 |   6.39775 | 0.98791   |\n",
       "| PC3 | -13.44851 | 0.98529   |\n",
       "| factor(Grad.Funding.Indicator)1 |   0.67461 | 0.13444   |\n",
       "\n"
      ],
      "text/plain": [
       "                                Estimate  Pr(>|z|)\n",
       "(Intercept)                       6.51917 0.98892 \n",
       "factor(Gender)Male               -0.23956 0.69738 \n",
       "Net.Cost.After.Any.Funding        0.00004 0.00738 \n",
       "PC2                               6.39775 0.98791 \n",
       "PC3                             -13.44851 0.98529 \n",
       "factor(Grad.Funding.Indicator)1   0.67461 0.13444 "
      ]
     },
     "metadata": {},
     "output_type": "display_data"
    }
   ],
   "source": [
    "round(summary(log_mod_n_f)$coeff[,c(1,4)],5)"
   ]
  },
  {
   "cell_type": "markdown",
   "metadata": {},
   "source": [
    "<b> Significant Variables after backward AIC selection: Net cost."
   ]
  },
  {
   "cell_type": "markdown",
   "metadata": {},
   "source": [
    "# Watson Analysis "
   ]
  },
  {
   "cell_type": "code",
   "execution_count": 54,
   "metadata": {
    "collapsed": true
   },
   "outputs": [
    {
     "data": {
      "text/plain": [
       "\n",
       "Call:\n",
       "glm(formula = Y ~ Start.age + factor(Gender) + factor(Grad.Funding.Indicator) + \n",
       "    Citizenship + Net.Cost.After.Any.Funding + PC1 + PC2 + PC3 + \n",
       "    factor(Gap) + Slope, family = \"binomial\", data = Watson_df)\n",
       "\n",
       "Deviance Residuals: \n",
       "    Min       1Q   Median       3Q      Max  \n",
       "-2.6172  -0.9174   0.4931   0.8008   1.7480  \n",
       "\n",
       "Coefficients:\n",
       "                                       Estimate Std. Error z value Pr(>|z|)    \n",
       "(Intercept)                           1.317e+01  1.455e+03   0.009  0.99278    \n",
       "Start.age                            -1.843e-02  1.792e-02  -1.029  0.30370    \n",
       "factor(Gender)Male                    3.620e-01  2.729e-01   1.327  0.18467    \n",
       "factor(Grad.Funding.Indicator)1       1.639e+00  2.817e-01   5.820 5.89e-09 ***\n",
       "CitizenshipAfrica                     6.043e-01  1.572e+03   0.000  0.99969    \n",
       "CitizenshipAsia                      -1.372e+01  1.455e+03  -0.009  0.99248    \n",
       "CitizenshipAsian                     -1.446e+01  1.455e+03  -0.010  0.99207    \n",
       "CitizenshipBlack or African American -1.455e+01  1.455e+03  -0.010  0.99202    \n",
       "CitizenshipChina                     -1.427e+01  1.455e+03  -0.010  0.99218    \n",
       "CitizenshipEurope                    -1.465e+01  1.455e+03  -0.010  0.99197    \n",
       "CitizenshipHispanic or Latino        -1.256e+01  1.455e+03  -0.009  0.99311    \n",
       "CitizenshipIndia                     -1.443e+01  1.455e+03  -0.010  0.99209    \n",
       "CitizenshipNorth America             -6.881e-02  2.058e+03   0.000  0.99997    \n",
       "CitizenshipSouth America             -1.572e+01  1.455e+03  -0.011  0.99138    \n",
       "CitizenshipUnknown                   -1.472e+01  1.455e+03  -0.010  0.99193    \n",
       "CitizenshipWhite                     -1.443e+01  1.455e+03  -0.010  0.99209    \n",
       "Net.Cost.After.Any.Funding            4.034e-05  1.001e-05   4.032 5.53e-05 ***\n",
       "PC1                                  -2.663e-01  6.096e-02  -4.369 1.25e-05 ***\n",
       "PC2                                  -2.058e-01  8.570e-02  -2.402  0.01631 *  \n",
       "PC3                                  -9.542e-01  5.374e-01  -1.776  0.07582 .  \n",
       "factor(Gap)1                          1.145e+00  3.819e-01   2.999  0.00271 ** \n",
       "Slope                                 1.898e+00  1.174e+00   1.617  0.10584    \n",
       "---\n",
       "Signif. codes:  0 '***' 0.001 '**' 0.01 '*' 0.05 '.' 0.1 ' ' 1\n",
       "\n",
       "(Dispersion parameter for binomial family taken to be 1)\n",
       "\n",
       "    Null deviance: 656.07  on 514  degrees of freedom\n",
       "Residual deviance: 528.53  on 493  degrees of freedom\n",
       "AIC: 572.53\n",
       "\n",
       "Number of Fisher Scoring iterations: 14\n"
      ]
     },
     "metadata": {},
     "output_type": "display_data"
    }
   ],
   "source": [
    "log_mod_w = glm(Y~Start.age+factor(Gender)+factor(Grad.Funding.Indicator)+Citizenship+\n",
    "                Net.Cost.After.Any.Funding+PC1+PC2+PC3+factor(Gap)+Slope,\n",
    "                data=Watson_df,family=\"binomial\")\n",
    "summary(log_mod_w)"
   ]
  },
  {
   "cell_type": "code",
   "execution_count": 55,
   "metadata": {
    "collapsed": true
   },
   "outputs": [
    {
     "data": {
      "text/html": [
       "<table>\n",
       "<thead><tr><th></th><th scope=col>Estimate</th><th scope=col>Pr(&gt;|z|)</th></tr></thead>\n",
       "<tbody>\n",
       "\t<tr><th scope=row>(Intercept)</th><td> 13.17397</td><td>0.99278  </td></tr>\n",
       "\t<tr><th scope=row>Start.age</th><td> -0.01843</td><td>0.30370  </td></tr>\n",
       "\t<tr><th scope=row>factor(Gender)Male</th><td>  0.36203</td><td>0.18467  </td></tr>\n",
       "\t<tr><th scope=row>factor(Grad.Funding.Indicator)1</th><td>  1.63919</td><td>0.00000  </td></tr>\n",
       "\t<tr><th scope=row>CitizenshipAfrica</th><td>  0.60430</td><td>0.99969  </td></tr>\n",
       "\t<tr><th scope=row>CitizenshipAsia</th><td>-13.72175</td><td>0.99248  </td></tr>\n",
       "\t<tr><th scope=row>CitizenshipAsian</th><td>-14.46061</td><td>0.99207  </td></tr>\n",
       "\t<tr><th scope=row>CitizenshipBlack or African American</th><td>-14.54767</td><td>0.99202  </td></tr>\n",
       "\t<tr><th scope=row>CitizenshipChina</th><td>-14.26875</td><td>0.99218  </td></tr>\n",
       "\t<tr><th scope=row>CitizenshipEurope</th><td>-14.65364</td><td>0.99197  </td></tr>\n",
       "\t<tr><th scope=row>CitizenshipHispanic or Latino</th><td>-12.55925</td><td>0.99311  </td></tr>\n",
       "\t<tr><th scope=row>CitizenshipIndia</th><td>-14.43167</td><td>0.99209  </td></tr>\n",
       "\t<tr><th scope=row>CitizenshipNorth America</th><td> -0.06881</td><td>0.99997  </td></tr>\n",
       "\t<tr><th scope=row>CitizenshipSouth America</th><td>-15.71595</td><td>0.99138  </td></tr>\n",
       "\t<tr><th scope=row>CitizenshipUnknown</th><td>-14.72422</td><td>0.99193  </td></tr>\n",
       "\t<tr><th scope=row>CitizenshipWhite</th><td>-14.42600</td><td>0.99209  </td></tr>\n",
       "\t<tr><th scope=row>Net.Cost.After.Any.Funding</th><td>  0.00004</td><td>0.00006  </td></tr>\n",
       "\t<tr><th scope=row>PC1</th><td> -0.26634</td><td>0.00001  </td></tr>\n",
       "\t<tr><th scope=row>PC2</th><td> -0.20585</td><td>0.01631  </td></tr>\n",
       "\t<tr><th scope=row>PC3</th><td> -0.95416</td><td>0.07582  </td></tr>\n",
       "\t<tr><th scope=row>factor(Gap)1</th><td>  1.14523</td><td>0.00271  </td></tr>\n",
       "\t<tr><th scope=row>Slope</th><td>  1.89789</td><td>0.10584  </td></tr>\n",
       "</tbody>\n",
       "</table>\n"
      ],
      "text/latex": [
       "\\begin{tabular}{r|ll}\n",
       "  & Estimate & Pr(>\\textbar{}z\\textbar{})\\\\\n",
       "\\hline\n",
       "\t(Intercept) &  13.17397 & 0.99278  \\\\\n",
       "\tStart.age &  -0.01843 & 0.30370  \\\\\n",
       "\tfactor(Gender)Male &   0.36203 & 0.18467  \\\\\n",
       "\tfactor(Grad.Funding.Indicator)1 &   1.63919 & 0.00000  \\\\\n",
       "\tCitizenshipAfrica &   0.60430 & 0.99969  \\\\\n",
       "\tCitizenshipAsia & -13.72175 & 0.99248  \\\\\n",
       "\tCitizenshipAsian & -14.46061 & 0.99207  \\\\\n",
       "\tCitizenshipBlack or African American & -14.54767 & 0.99202  \\\\\n",
       "\tCitizenshipChina & -14.26875 & 0.99218  \\\\\n",
       "\tCitizenshipEurope & -14.65364 & 0.99197  \\\\\n",
       "\tCitizenshipHispanic or Latino & -12.55925 & 0.99311  \\\\\n",
       "\tCitizenshipIndia & -14.43167 & 0.99209  \\\\\n",
       "\tCitizenshipNorth America &  -0.06881 & 0.99997  \\\\\n",
       "\tCitizenshipSouth America & -15.71595 & 0.99138  \\\\\n",
       "\tCitizenshipUnknown & -14.72422 & 0.99193  \\\\\n",
       "\tCitizenshipWhite & -14.42600 & 0.99209  \\\\\n",
       "\tNet.Cost.After.Any.Funding &   0.00004 & 0.00006  \\\\\n",
       "\tPC1 &  -0.26634 & 0.00001  \\\\\n",
       "\tPC2 &  -0.20585 & 0.01631  \\\\\n",
       "\tPC3 &  -0.95416 & 0.07582  \\\\\n",
       "\tfactor(Gap)1 &   1.14523 & 0.00271  \\\\\n",
       "\tSlope &   1.89789 & 0.10584  \\\\\n",
       "\\end{tabular}\n"
      ],
      "text/markdown": [
       "\n",
       "| <!--/--> | Estimate | Pr(>|z|) |\n",
       "|---|---|---|\n",
       "| (Intercept) |  13.17397 | 0.99278   |\n",
       "| Start.age |  -0.01843 | 0.30370   |\n",
       "| factor(Gender)Male |   0.36203 | 0.18467   |\n",
       "| factor(Grad.Funding.Indicator)1 |   1.63919 | 0.00000   |\n",
       "| CitizenshipAfrica |   0.60430 | 0.99969   |\n",
       "| CitizenshipAsia | -13.72175 | 0.99248   |\n",
       "| CitizenshipAsian | -14.46061 | 0.99207   |\n",
       "| CitizenshipBlack or African American | -14.54767 | 0.99202   |\n",
       "| CitizenshipChina | -14.26875 | 0.99218   |\n",
       "| CitizenshipEurope | -14.65364 | 0.99197   |\n",
       "| CitizenshipHispanic or Latino | -12.55925 | 0.99311   |\n",
       "| CitizenshipIndia | -14.43167 | 0.99209   |\n",
       "| CitizenshipNorth America |  -0.06881 | 0.99997   |\n",
       "| CitizenshipSouth America | -15.71595 | 0.99138   |\n",
       "| CitizenshipUnknown | -14.72422 | 0.99193   |\n",
       "| CitizenshipWhite | -14.42600 | 0.99209   |\n",
       "| Net.Cost.After.Any.Funding |   0.00004 | 0.00006   |\n",
       "| PC1 |  -0.26634 | 0.00001   |\n",
       "| PC2 |  -0.20585 | 0.01631   |\n",
       "| PC3 |  -0.95416 | 0.07582   |\n",
       "| factor(Gap)1 |   1.14523 | 0.00271   |\n",
       "| Slope |   1.89789 | 0.10584   |\n",
       "\n"
      ],
      "text/plain": [
       "                                     Estimate  Pr(>|z|)\n",
       "(Intercept)                           13.17397 0.99278 \n",
       "Start.age                             -0.01843 0.30370 \n",
       "factor(Gender)Male                     0.36203 0.18467 \n",
       "factor(Grad.Funding.Indicator)1        1.63919 0.00000 \n",
       "CitizenshipAfrica                      0.60430 0.99969 \n",
       "CitizenshipAsia                      -13.72175 0.99248 \n",
       "CitizenshipAsian                     -14.46061 0.99207 \n",
       "CitizenshipBlack or African American -14.54767 0.99202 \n",
       "CitizenshipChina                     -14.26875 0.99218 \n",
       "CitizenshipEurope                    -14.65364 0.99197 \n",
       "CitizenshipHispanic or Latino        -12.55925 0.99311 \n",
       "CitizenshipIndia                     -14.43167 0.99209 \n",
       "CitizenshipNorth America              -0.06881 0.99997 \n",
       "CitizenshipSouth America             -15.71595 0.99138 \n",
       "CitizenshipUnknown                   -14.72422 0.99193 \n",
       "CitizenshipWhite                     -14.42600 0.99209 \n",
       "Net.Cost.After.Any.Funding             0.00004 0.00006 \n",
       "PC1                                   -0.26634 0.00001 \n",
       "PC2                                   -0.20585 0.01631 \n",
       "PC3                                   -0.95416 0.07582 \n",
       "factor(Gap)1                           1.14523 0.00271 \n",
       "Slope                                  1.89789 0.10584 "
      ]
     },
     "metadata": {},
     "output_type": "display_data"
    }
   ],
   "source": [
    "round(summary(log_mod_w)$coeff[,c(1,4)],5)"
   ]
  },
  {
   "cell_type": "markdown",
   "metadata": {},
   "source": [
    "<b> Significant Variables: Funding indicator, net cost, PC1, PC2, gap."
   ]
  },
  {
   "cell_type": "code",
   "execution_count": 56,
   "metadata": {},
   "outputs": [
    {
     "name": "stdout",
     "output_type": "stream",
     "text": [
      "Start:  AIC=572.53\n",
      "Y ~ Start.age + factor(Gender) + factor(Grad.Funding.Indicator) + \n",
      "    Citizenship + Net.Cost.After.Any.Funding + PC1 + PC2 + PC3 + \n",
      "    factor(Gap) + Slope\n",
      "\n",
      "                                 Df Deviance    AIC\n",
      "- Citizenship                    12   544.67 564.67\n",
      "- Start.age                       1   529.60 571.60\n",
      "- factor(Gender)                  1   530.27 572.27\n",
      "<none>                                528.53 572.53\n",
      "- Slope                           1   531.22 573.22\n",
      "- PC3                             1   531.70 573.70\n",
      "- PC2                             1   534.39 576.39\n",
      "- factor(Gap)                     1   538.67 580.67\n",
      "- Net.Cost.After.Any.Funding      1   547.78 589.78\n",
      "- PC1                             1   549.04 591.04\n",
      "- factor(Grad.Funding.Indicator)  1   564.72 606.72\n",
      "\n",
      "Step:  AIC=564.67\n",
      "Y ~ Start.age + factor(Gender) + factor(Grad.Funding.Indicator) + \n",
      "    Net.Cost.After.Any.Funding + PC1 + PC2 + PC3 + factor(Gap) + \n",
      "    Slope\n",
      "\n",
      "                                 Df Deviance    AIC\n",
      "- Start.age                       1   545.40 563.40\n",
      "- factor(Gender)                  1   545.56 563.56\n",
      "<none>                                544.67 564.67\n",
      "- Slope                           1   546.78 564.78\n",
      "- PC2                             1   548.65 566.65\n",
      "- PC3                             1   548.70 566.70\n",
      "- factor(Gap)                     1   552.88 570.88\n",
      "- PC1                             1   563.52 581.52\n",
      "- Net.Cost.After.Any.Funding      1   566.69 584.69\n",
      "- factor(Grad.Funding.Indicator)  1   586.71 604.71\n",
      "\n",
      "Step:  AIC=563.4\n",
      "Y ~ factor(Gender) + factor(Grad.Funding.Indicator) + Net.Cost.After.Any.Funding + \n",
      "    PC1 + PC2 + PC3 + factor(Gap) + Slope\n",
      "\n",
      "                                 Df Deviance    AIC\n",
      "- factor(Gender)                  1   546.20 562.20\n",
      "<none>                                545.40 563.40\n",
      "- Slope                           1   547.69 563.69\n",
      "- PC2                             1   549.44 565.44\n",
      "- PC3                             1   549.84 565.84\n",
      "- factor(Gap)                     1   553.67 569.67\n",
      "- PC1                             1   564.15 580.15\n",
      "- Net.Cost.After.Any.Funding      1   567.70 583.70\n",
      "- factor(Grad.Funding.Indicator)  1   596.63 612.63\n",
      "\n",
      "Step:  AIC=562.2\n",
      "Y ~ factor(Grad.Funding.Indicator) + Net.Cost.After.Any.Funding + \n",
      "    PC1 + PC2 + PC3 + factor(Gap) + Slope\n",
      "\n",
      "                                 Df Deviance    AIC\n",
      "<none>                                546.20 562.20\n",
      "- Slope                           1   548.42 562.42\n",
      "- PC2                             1   550.37 564.37\n",
      "- PC3                             1   550.72 564.72\n",
      "- factor(Gap)                     1   554.41 568.41\n",
      "- PC1                             1   565.24 579.24\n",
      "- Net.Cost.After.Any.Funding      1   568.96 582.96\n",
      "- factor(Grad.Funding.Indicator)  1   597.03 611.03\n"
     ]
    }
   ],
   "source": [
    "log_mod_w_aic_b = stepAIC(log_mod_w, direction = 'backward')"
   ]
  },
  {
   "cell_type": "markdown",
   "metadata": {},
   "source": [
    "<b>Variables backward AIC selects: Funding indicator, net cost, PC1, PC2, PC3, gap, slope."
   ]
  },
  {
   "cell_type": "code",
   "execution_count": 27,
   "metadata": {
    "scrolled": true
   },
   "outputs": [
    {
     "data": {
      "text/plain": [
       "\n",
       "Call:\n",
       "glm(formula = Y ~ factor(Grad.Funding.Indicator) + Net.Cost.After.Any.Funding + \n",
       "    PC1 + PC2 + PC3 + factor(Gap) + Slope, family = \"binomial\", \n",
       "    data = Watson_df)\n",
       "\n",
       "Deviance Residuals: \n",
       "    Min       1Q   Median       3Q      Max  \n",
       "-2.7433  -0.9562   0.5226   0.7878   1.6898  \n",
       "\n",
       "Coefficients:\n",
       "                                  Estimate Std. Error z value Pr(>|z|)    \n",
       "(Intercept)                     -1.379e+00  2.713e-01  -5.083 3.71e-07 ***\n",
       "factor(Grad.Funding.Indicator)1  1.747e+00  2.564e-01   6.812 9.65e-12 ***\n",
       "Net.Cost.After.Any.Funding       4.348e-05  9.976e-06   4.358 1.31e-05 ***\n",
       "PC1                             -2.521e-01  5.984e-02  -4.213 2.52e-05 ***\n",
       "PC2                             -1.640e-01  8.056e-02  -2.035  0.04181 *  \n",
       "PC3                             -1.060e+00  5.008e-01  -2.116  0.03437 *  \n",
       "factor(Gap)1                     1.001e+00  3.692e-01   2.711  0.00671 ** \n",
       "Slope                            1.653e+00  1.122e+00   1.473  0.14075    \n",
       "---\n",
       "Signif. codes:  0 '***' 0.001 '**' 0.01 '*' 0.05 '.' 0.1 ' ' 1\n",
       "\n",
       "(Dispersion parameter for binomial family taken to be 1)\n",
       "\n",
       "    Null deviance: 656.07  on 514  degrees of freedom\n",
       "Residual deviance: 546.20  on 507  degrees of freedom\n",
       "AIC: 562.2\n",
       "\n",
       "Number of Fisher Scoring iterations: 4\n"
      ]
     },
     "metadata": {},
     "output_type": "display_data"
    }
   ],
   "source": [
    "log_mod_w_f = glm(Y ~ factor(Grad.Funding.Indicator) + Net.Cost.After.Any.Funding + PC1 + PC2 + PC3 + factor(Gap) + Slope,\n",
    "                 data=Watson_df,family=\"binomial\")\n",
    "summary(log_mod_w_f)"
   ]
  },
  {
   "cell_type": "code",
   "execution_count": 28,
   "metadata": {},
   "outputs": [
    {
     "data": {
      "text/html": [
       "<table>\n",
       "<thead><tr><th></th><th scope=col>Estimate</th><th scope=col>Pr(&gt;|z|)</th></tr></thead>\n",
       "<tbody>\n",
       "\t<tr><th scope=row>(Intercept)</th><td>-1.37886</td><td>0.00000 </td></tr>\n",
       "\t<tr><th scope=row>factor(Grad.Funding.Indicator)1</th><td> 1.74657</td><td>0.00000 </td></tr>\n",
       "\t<tr><th scope=row>Net.Cost.After.Any.Funding</th><td> 0.00004</td><td>0.00001 </td></tr>\n",
       "\t<tr><th scope=row>PC1</th><td>-0.25209</td><td>0.00003 </td></tr>\n",
       "\t<tr><th scope=row>PC2</th><td>-0.16398</td><td>0.04181 </td></tr>\n",
       "\t<tr><th scope=row>PC3</th><td>-1.05955</td><td>0.03437 </td></tr>\n",
       "\t<tr><th scope=row>factor(Gap)1</th><td> 1.00082</td><td>0.00671 </td></tr>\n",
       "\t<tr><th scope=row>Slope</th><td> 1.65303</td><td>0.14075 </td></tr>\n",
       "</tbody>\n",
       "</table>\n"
      ],
      "text/latex": [
       "\\begin{tabular}{r|ll}\n",
       "  & Estimate & Pr(>\\textbar{}z\\textbar{})\\\\\n",
       "\\hline\n",
       "\t(Intercept) & -1.37886 & 0.00000 \\\\\n",
       "\tfactor(Grad.Funding.Indicator)1 &  1.74657 & 0.00000 \\\\\n",
       "\tNet.Cost.After.Any.Funding &  0.00004 & 0.00001 \\\\\n",
       "\tPC1 & -0.25209 & 0.00003 \\\\\n",
       "\tPC2 & -0.16398 & 0.04181 \\\\\n",
       "\tPC3 & -1.05955 & 0.03437 \\\\\n",
       "\tfactor(Gap)1 &  1.00082 & 0.00671 \\\\\n",
       "\tSlope &  1.65303 & 0.14075 \\\\\n",
       "\\end{tabular}\n"
      ],
      "text/markdown": [
       "\n",
       "| <!--/--> | Estimate | Pr(>|z|) |\n",
       "|---|---|---|\n",
       "| (Intercept) | -1.37886 | 0.00000  |\n",
       "| factor(Grad.Funding.Indicator)1 |  1.74657 | 0.00000  |\n",
       "| Net.Cost.After.Any.Funding |  0.00004 | 0.00001  |\n",
       "| PC1 | -0.25209 | 0.00003  |\n",
       "| PC2 | -0.16398 | 0.04181  |\n",
       "| PC3 | -1.05955 | 0.03437  |\n",
       "| factor(Gap)1 |  1.00082 | 0.00671  |\n",
       "| Slope |  1.65303 | 0.14075  |\n",
       "\n"
      ],
      "text/plain": [
       "                                Estimate Pr(>|z|)\n",
       "(Intercept)                     -1.37886 0.00000 \n",
       "factor(Grad.Funding.Indicator)1  1.74657 0.00000 \n",
       "Net.Cost.After.Any.Funding       0.00004 0.00001 \n",
       "PC1                             -0.25209 0.00003 \n",
       "PC2                             -0.16398 0.04181 \n",
       "PC3                             -1.05955 0.03437 \n",
       "factor(Gap)1                     1.00082 0.00671 \n",
       "Slope                            1.65303 0.14075 "
      ]
     },
     "metadata": {},
     "output_type": "display_data"
    }
   ],
   "source": [
    "round(summary(log_mod_w_f)$coeff[,c(1,4)],5)"
   ]
  },
  {
   "cell_type": "markdown",
   "metadata": {},
   "source": [
    "<b> Significant Variables after backward AIC selection: Funding indicator, net cost, PC1, PC2, PC3, gap."
   ]
  }
 ],
 "metadata": {
  "kernelspec": {
   "display_name": "R",
   "language": "R",
   "name": "ir"
  },
  "language_info": {
   "codemirror_mode": "r",
   "file_extension": ".r",
   "mimetype": "text/x-r-source",
   "name": "R",
   "pygments_lexer": "r",
   "version": "3.6.1"
  }
 },
 "nbformat": 4,
 "nbformat_minor": 2
}
