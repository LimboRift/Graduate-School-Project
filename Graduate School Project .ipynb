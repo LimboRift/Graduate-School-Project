{
 "cells": [
  {
   "cell_type": "markdown",
   "metadata": {},
   "source": [
    "### Graduate School Project Data Cleaning"
   ]
  },
  {
   "cell_type": "code",
   "execution_count": 1,
   "metadata": {},
   "outputs": [],
   "source": [
    "import pandas as pd\n",
    "import numpy as np\n",
    "from CountryMappings import getCountries\n",
    "from sklearn.preprocessing import StandardScaler\n",
    "from sklearn.decomposition import PCA\n",
    "import matplotlib.pyplot as plt\n",
    "import os"
   ]
  },
  {
   "cell_type": "code",
   "execution_count": 2,
   "metadata": {},
   "outputs": [
    {
     "name": "stdout",
     "output_type": "stream",
     "text": [
      "['.ipynb_checkpoints', 'CountryMappings.py', 'doc_successful.xlsx', 'doc_unsuccessful.xlsx', 'Graduate School Project .ipynb', '__pycache__']\n"
     ]
    }
   ],
   "source": [
    "print(os.listdir())\n",
    "df_success = pd.read_excel('doc_successful.xlsx')\n",
    "df_unsuccess = pd.read_excel('doc_unsuccessful.xlsx')"
   ]
  },
  {
   "cell_type": "markdown",
   "metadata": {},
   "source": [
    "## Initial Data Cleaning"
   ]
  },
  {
   "cell_type": "markdown",
   "metadata": {},
   "source": [
    "### Merging Columns\n",
    "The two datasets no not have the same columns"
   ]
  },
  {
   "cell_type": "code",
   "execution_count": 3,
   "metadata": {},
   "outputs": [
    {
     "name": "stdout",
     "output_type": "stream",
     "text": [
      "Successful Data has 47 columns\n",
      "Unsuccessful Data has 45 columns\n",
      "\n",
      "Columns in Successful Data but not in Unsuccessful Data: ['Average Precol GPA', 'AWARD_CATEGORY_DESC', 'Prep Level', 'Time to PhD Degree']\n",
      "\n",
      "Columns in Unsuccessful Data but not in Successful Data: ['Avg Previous College GPA', 'DEGREE_AWARD_CATEGORY_DESC']\n"
     ]
    }
   ],
   "source": [
    "print(\"Successful Data has\", len(df_success.columns), \"columns\")\n",
    "print(\"Unsuccessful Data has\", len(df_unsuccess.columns), \"columns\")\n",
    "\n",
    "print(\"\\nColumns in Successful Data but not in Unsuccessful Data:\", list(set(df_success) - set(df_unsuccess)))\n",
    "\n",
    "print(\"\\nColumns in Unsuccessful Data but not in Successful Data:\", list(set(df_unsuccess) - set(df_success)))"
   ]
  },
  {
   "cell_type": "markdown",
   "metadata": {},
   "source": [
    "Dealing with \"AWARD_CATEGORY_DESC\" and \"DEGREE_AWARD_CATEGORY_DESC\""
   ]
  },
  {
   "cell_type": "code",
   "execution_count": 4,
   "metadata": {
    "scrolled": true
   },
   "outputs": [
    {
     "name": "stdout",
     "output_type": "stream",
     "text": [
      "Number of Unique values in DEGREE_AWARD_CATEGORY_DESC: 1\n",
      "Unique Value:  Doctoral Degree\n",
      "\n",
      "Number of Unique values in AWARD_CATEGORY_DESC: 1\n",
      "Unique Value:  Doctoral Degree\n"
     ]
    }
   ],
   "source": [
    "print(\"Number of Unique values in DEGREE_AWARD_CATEGORY_DESC:\", df_unsuccess[\"DEGREE_AWARD_CATEGORY_DESC\"].nunique())\n",
    "print(\"Unique Value: \", df_unsuccess[\"DEGREE_AWARD_CATEGORY_DESC\"][1])\n",
    "\n",
    "print(\"\\nNumber of Unique values in AWARD_CATEGORY_DESC:\", df_success[\"AWARD_CATEGORY_DESC\"].nunique())\n",
    "print(\"Unique Value: \", df_success[\"AWARD_CATEGORY_DESC\"][1])"
   ]
  },
  {
   "cell_type": "markdown",
   "metadata": {},
   "source": [
    "Since this column provides no information, we delete it."
   ]
  },
  {
   "cell_type": "code",
   "execution_count": 5,
   "metadata": {},
   "outputs": [],
   "source": [
    "df_success = df_success.drop(columns = \"AWARD_CATEGORY_DESC\")\n",
    "df_unsuccess = df_unsuccess.drop(columns = \"DEGREE_AWARD_CATEGORY_DESC\")"
   ]
  },
  {
   "cell_type": "markdown",
   "metadata": {},
   "source": [
    "Dealing with \"Time to PhD Degree\""
   ]
  },
  {
   "cell_type": "code",
   "execution_count": 6,
   "metadata": {},
   "outputs": [
    {
     "data": {
      "text/plain": [
       "0    5.0\n",
       "1    NaN\n",
       "2    6.0\n",
       "3    5.0\n",
       "4    NaN\n",
       "Name: Time to PhD Degree, dtype: float64"
      ]
     },
     "execution_count": 6,
     "metadata": {},
     "output_type": "execute_result"
    }
   ],
   "source": [
    "df_success[\"Time to PhD Degree\"].head()"
   ]
  },
  {
   "cell_type": "code",
   "execution_count": 7,
   "metadata": {},
   "outputs": [],
   "source": [
    "df_unsuccess[\"Time to PhD Degree\"] = np.nan"
   ]
  },
  {
   "cell_type": "markdown",
   "metadata": {},
   "source": [
    "QUESTION: How should we deal with this column? For both the missing cases in the Successful Column and the entire Unsuccessful set. "
   ]
  },
  {
   "cell_type": "markdown",
   "metadata": {},
   "source": [
    "Dealing with Prep Level - We will add NaN and \"absorb it\" when we consoladate all previous information with PCA"
   ]
  },
  {
   "cell_type": "code",
   "execution_count": 8,
   "metadata": {},
   "outputs": [],
   "source": [
    "df_unsuccess[\"Prep Level\"] = np.nan"
   ]
  },
  {
   "cell_type": "markdown",
   "metadata": {},
   "source": [
    "Dealing with \"Average Precol GPA\" and \"Avg Previous College GPA\""
   ]
  },
  {
   "cell_type": "code",
   "execution_count": 9,
   "metadata": {},
   "outputs": [],
   "source": [
    "df_unsuccess.rename(columns = {\"Avg Previous College GPA\" : \"Average Precol GPA\" }, inplace = True)"
   ]
  },
  {
   "cell_type": "markdown",
   "metadata": {},
   "source": [
    "Values are the same, column names are different. "
   ]
  },
  {
   "cell_type": "markdown",
   "metadata": {},
   "source": [
    "Looking at our two datasets again:"
   ]
  },
  {
   "cell_type": "code",
   "execution_count": 10,
   "metadata": {},
   "outputs": [
    {
     "name": "stdout",
     "output_type": "stream",
     "text": [
      "Successful Data has 46 columns\n",
      "Unsuccessful Data has 46 columns\n",
      "\n",
      "Columns in Successful Data but not in Unsuccessful Data: []\n",
      "\n",
      "Columns in Unsuccessful Data but not in Successful Data: []\n"
     ]
    }
   ],
   "source": [
    "print(\"Successful Data has\", len(df_success.columns), \"columns\")\n",
    "print(\"Unsuccessful Data has\", len(df_unsuccess.columns), \"columns\")\n",
    "\n",
    "print(\"\\nColumns in Successful Data but not in Unsuccessful Data:\", list(set(df_success) - set(df_unsuccess)))\n",
    "\n",
    "print(\"\\nColumns in Unsuccessful Data but not in Successful Data:\", list(set(df_unsuccess) - set(df_success)))"
   ]
  },
  {
   "cell_type": "markdown",
   "metadata": {},
   "source": [
    "Adding a response Column Y and Merging the two together: "
   ]
  },
  {
   "cell_type": "code",
   "execution_count": 11,
   "metadata": {},
   "outputs": [],
   "source": [
    "df_success['Y'] = 1\n",
    "df_unsuccess['Y'] = 0\n",
    "df = pd.concat([df_success, df_unsuccess], ignore_index=True, sort=True)"
   ]
  },
  {
   "cell_type": "code",
   "execution_count": 12,
   "metadata": {},
   "outputs": [
    {
     "name": "stdout",
     "output_type": "stream",
     "text": [
      "Data Shape:  (2470, 47)\n",
      "Number of Positives:  1530\n",
      "Number of Negatives:  940\n"
     ]
    }
   ],
   "source": [
    "print(\"Data Shape: \", df.shape)\n",
    "print(\"Number of Positives: \",df[df['Y']==1].shape[0])\n",
    "print(\"Number of Negatives: \", df[df['Y']==0].shape[0])"
   ]
  },
  {
   "cell_type": "markdown",
   "metadata": {},
   "source": [
    "## Consolidating Columns"
   ]
  },
  {
   "cell_type": "markdown",
   "metadata": {},
   "source": [
    "#### Race\n",
    "\n",
    "We will consolidate all information presented in columns CITIZENSHIP_DESC, Intl Nation of Citizenship, American Indian, Asian, Black or African American, White, Hawaiian or Pacific Islander, Hispanic or Latino, Unknown Race Ethnicity together."
   ]
  },
  {
   "cell_type": "code",
   "execution_count": 13,
   "metadata": {},
   "outputs": [
    {
     "name": "stdout",
     "output_type": "stream",
     "text": [
      "Values for Citizenship 78\n"
     ]
    }
   ],
   "source": [
    "print(\"Values for Citizenship\", df[\"Intl Nation of Citizenship\"].nunique())"
   ]
  },
  {
   "cell_type": "code",
   "execution_count": 14,
   "metadata": {},
   "outputs": [
    {
     "name": "stderr",
     "output_type": "stream",
     "text": [
      "C:\\Users\\hzhan\\Miniconda3\\envs\\tf\\lib\\site-packages\\ipykernel_launcher.py:6: SettingWithCopyWarning: \n",
      "A value is trying to be set on a copy of a slice from a DataFrame\n",
      "\n",
      "See the caveats in the documentation: http://pandas.pydata.org/pandas-docs/stable/user_guide/indexing.html#returning-a-view-versus-a-copy\n",
      "  \n"
     ]
    },
    {
     "name": "stdout",
     "output_type": "stream",
     "text": [
      "Values for Citizenship 12\n"
     ]
    }
   ],
   "source": [
    "countries = getCountries()\n",
    "df_temp = df.copy()\n",
    "for country in df[\"Intl Nation of Citizenship\"].unique():\n",
    "    try:\n",
    "        continent = list(filter(lambda c: c['name'] == country, countries))[0][\"continent\"]\n",
    "        df[\"Intl Nation of Citizenship\"][df_temp[\"Intl Nation of Citizenship\"] == country] = continent\n",
    "    except: \n",
    "        pass    \n",
    "print(\"Values for Citizenship\", df[\"Intl Nation of Citizenship\"].nunique())"
   ]
  },
  {
   "cell_type": "code",
   "execution_count": 15,
   "metadata": {
    "scrolled": true
   },
   "outputs": [
    {
     "name": "stdout",
     "output_type": "stream",
     "text": [
      "Values [nan 'Asia' 'China' 'Africa' 'Occupied Palestinian Territory' 'Europe'\n",
      " 'South America' 'Korea Republic Of' 'Cote dIvoire' 'North America'\n",
      " 'Oceania' 'Christmas Island' 'Netherlands']\n",
      "Values for Citizenship 6\n"
     ]
    },
    {
     "name": "stderr",
     "output_type": "stream",
     "text": [
      "C:\\Users\\hzhan\\Miniconda3\\envs\\tf\\lib\\site-packages\\ipykernel_launcher.py:2: SettingWithCopyWarning: \n",
      "A value is trying to be set on a copy of a slice from a DataFrame\n",
      "\n",
      "See the caveats in the documentation: http://pandas.pydata.org/pandas-docs/stable/user_guide/indexing.html#returning-a-view-versus-a-copy\n",
      "  \n",
      "C:\\Users\\hzhan\\Miniconda3\\envs\\tf\\lib\\site-packages\\ipykernel_launcher.py:3: SettingWithCopyWarning: \n",
      "A value is trying to be set on a copy of a slice from a DataFrame\n",
      "\n",
      "See the caveats in the documentation: http://pandas.pydata.org/pandas-docs/stable/user_guide/indexing.html#returning-a-view-versus-a-copy\n",
      "  This is separate from the ipykernel package so we can avoid doing imports until\n",
      "C:\\Users\\hzhan\\Miniconda3\\envs\\tf\\lib\\site-packages\\ipykernel_launcher.py:4: SettingWithCopyWarning: \n",
      "A value is trying to be set on a copy of a slice from a DataFrame\n",
      "\n",
      "See the caveats in the documentation: http://pandas.pydata.org/pandas-docs/stable/user_guide/indexing.html#returning-a-view-versus-a-copy\n",
      "  after removing the cwd from sys.path.\n",
      "C:\\Users\\hzhan\\Miniconda3\\envs\\tf\\lib\\site-packages\\ipykernel_launcher.py:5: SettingWithCopyWarning: \n",
      "A value is trying to be set on a copy of a slice from a DataFrame\n",
      "\n",
      "See the caveats in the documentation: http://pandas.pydata.org/pandas-docs/stable/user_guide/indexing.html#returning-a-view-versus-a-copy\n",
      "  \"\"\"\n",
      "C:\\Users\\hzhan\\Miniconda3\\envs\\tf\\lib\\site-packages\\ipykernel_launcher.py:6: SettingWithCopyWarning: \n",
      "A value is trying to be set on a copy of a slice from a DataFrame\n",
      "\n",
      "See the caveats in the documentation: http://pandas.pydata.org/pandas-docs/stable/user_guide/indexing.html#returning-a-view-versus-a-copy\n",
      "  \n",
      "C:\\Users\\hzhan\\Miniconda3\\envs\\tf\\lib\\site-packages\\ipykernel_launcher.py:7: SettingWithCopyWarning: \n",
      "A value is trying to be set on a copy of a slice from a DataFrame\n",
      "\n",
      "See the caveats in the documentation: http://pandas.pydata.org/pandas-docs/stable/user_guide/indexing.html#returning-a-view-versus-a-copy\n",
      "  import sys\n",
      "C:\\Users\\hzhan\\Miniconda3\\envs\\tf\\lib\\site-packages\\ipykernel_launcher.py:8: SettingWithCopyWarning: \n",
      "A value is trying to be set on a copy of a slice from a DataFrame\n",
      "\n",
      "See the caveats in the documentation: http://pandas.pydata.org/pandas-docs/stable/user_guide/indexing.html#returning-a-view-versus-a-copy\n",
      "  \n",
      "C:\\Users\\hzhan\\Miniconda3\\envs\\tf\\lib\\site-packages\\ipykernel_launcher.py:9: SettingWithCopyWarning: \n",
      "A value is trying to be set on a copy of a slice from a DataFrame\n",
      "\n",
      "See the caveats in the documentation: http://pandas.pydata.org/pandas-docs/stable/user_guide/indexing.html#returning-a-view-versus-a-copy\n",
      "  if __name__ == '__main__':\n"
     ]
    }
   ],
   "source": [
    "print(\"Values\",df[\"Intl Nation of Citizenship\"].unique())\n",
    "df[\"Intl Nation of Citizenship\"][df[\"Intl Nation of Citizenship\"] == \"China\"] = \"Asia\"\n",
    "df[\"Intl Nation of Citizenship\"][df[\"Intl Nation of Citizenship\"] == \"Occupied Palestinian Territory\"] = \"Asia\"\n",
    "df[\"Intl Nation of Citizenship\"][df[\"Intl Nation of Citizenship\"] == \"Korea Republic Of\"] = \"Asia\"\n",
    "df[\"Intl Nation of Citizenship\"][df[\"Intl Nation of Citizenship\"] == \"Cote dIvoire\"] = \"Afria\"\n",
    "df[\"Intl Nation of Citizenship\"][df[\"Intl Nation of Citizenship\"] == \"Oceania\"] = \"Asia\"\n",
    "df[\"Intl Nation of Citizenship\"][df[\"Intl Nation of Citizenship\"] == \"Christmas Island\"] = \"Asia\"\n",
    "df[\"Intl Nation of Citizenship\"][df[\"Intl Nation of Citizenship\"] == \"Netherlands\"] = \"Europe\"\n",
    "df[\"Intl Nation of Citizenship\"][df[\"Intl Nation of Citizenship\"] == \"nan\"] = \"North America\"\n",
    "print(\"Values for Citizenship\", df[\"Intl Nation of Citizenship\"].nunique())"
   ]
  },
  {
   "cell_type": "code",
   "execution_count": 16,
   "metadata": {},
   "outputs": [],
   "source": [
    "df[\"Citizen\"] = df[\"Intl Nation of Citizenship\"].copy()\n",
    "df = df.drop(columns = \"Intl Nation of Citizenship\")\n",
    "df = df.drop(columns = \"CITIZENSHIP_DESC\")"
   ]
  },
  {
   "cell_type": "code",
   "execution_count": 17,
   "metadata": {},
   "outputs": [],
   "source": [
    "df[\"Race\"] = np.nan\n",
    "df.Race.fillna(df.Asian, inplace=True)\n",
    "df.Race.fillna(df[\"Black or African American\"], inplace=True)\n",
    "df.Race.fillna(df[\"American Indian\"], inplace=True)\n",
    "df.Race.fillna(df[\"White\"], inplace=True)\n",
    "df.Race.fillna(df[\"Hawaiian or Pacific Islander\"], inplace=True)\n",
    "df.Race.fillna(df[\"Hispanic or Latino\"], inplace=True)\n",
    "df.Race.fillna(df[\"Unknown Race Ethnicity\"], inplace=True)"
   ]
  },
  {
   "cell_type": "code",
   "execution_count": 18,
   "metadata": {},
   "outputs": [],
   "source": [
    "del df[\"Black or African American\"]\n",
    "del df[\"American Indian\"]\n",
    "del df[\"White\"]\n",
    "del df[\"Hawaiian or Pacific Islander\"]\n",
    "del df[\"Hispanic or Latino\"]\n",
    "del df[\"Unknown Race Ethnicity\"]\n",
    "del df[\"Asian\"]"
   ]
  },
  {
   "cell_type": "code",
   "execution_count": 19,
   "metadata": {},
   "outputs": [
    {
     "name": "stdout",
     "output_type": "stream",
     "text": [
      "(2470, 40)\n"
     ]
    }
   ],
   "source": [
    "print(df.shape)"
   ]
  },
  {
   "cell_type": "markdown",
   "metadata": {},
   "source": [
    "### Replacing Nans"
   ]
  },
  {
   "cell_type": "code",
   "execution_count": 20,
   "metadata": {},
   "outputs": [
    {
     "name": "stdout",
     "output_type": "stream",
     "text": [
      "      1st Term Funding  2nd Term Funding  3rd Term Funding  4th Term Funding\n",
      "0               4685.0            4935.0            4110.0             432.0\n",
      "1                  0.0               0.0               0.0               0.0\n",
      "2               4685.0            4685.0            3699.0            3699.0\n",
      "3               4685.0            4685.0            3699.0            3699.0\n",
      "4              14616.0               0.0               0.0               0.0\n",
      "...                ...               ...               ...               ...\n",
      "2465           11325.0           11325.0               0.0               0.0\n",
      "2466               0.0               0.0               0.0               0.0\n",
      "2467               0.0               0.0               0.0               0.0\n",
      "2468           11325.0           11325.0               0.0               0.0\n",
      "2469               0.0               0.0               0.0               0.0\n",
      "\n",
      "[2470 rows x 4 columns]\n"
     ]
    }
   ],
   "source": [
    "print(df.iloc[:,0:4].fillna(0))"
   ]
  },
  {
   "cell_type": "markdown",
   "metadata": {},
   "source": [
    "### Use PCA for Application Strength"
   ]
  },
  {
   "cell_type": "code",
   "execution_count": 21,
   "metadata": {},
   "outputs": [
    {
     "name": "stdout",
     "output_type": "stream",
     "text": [
      "(2470, 8)\n"
     ]
    },
    {
     "data": {
      "text/plain": [
       "Text(0, 0.5, '% of Variance Explained')"
      ]
     },
     "execution_count": 21,
     "metadata": {},
     "output_type": "execute_result"
    },
    {
     "data": {
      "image/png": "[encoded data removed]",
      "text/plain": [
       "<Figure size 432x288 with 1 Axes>"
      ]
     },
     "metadata": {
      "needs_background": "light"
     },
     "output_type": "display_data"
    }
   ],
   "source": [
    "features = ['GMAT Score',\n",
    "       'GRE Analytical Writing Score', 'GRE Quantitative Score',\n",
    "       'GRE Revised General Quant Score', 'GRE Revised General Verbal Score',\n",
    "       'GRE Revised General Write Score', 'GRE Verbal Score','Average Precol GPA']\n",
    "x = df.loc[:, features].values\n",
    "x = np.nan_to_num(x) \n",
    "x = StandardScaler().fit_transform(x)\n",
    "pca = PCA()\n",
    "principalComponents = pca.fit_transform(x)\n",
    "\n",
    "print(principalComponents.shape)\n",
    "var = pca.explained_variance_ratio_\n",
    "plt.plot(range(1,9),var)\n",
    "plt.xlabel('Principal Component')\n",
    "plt.ylabel('% of Variance Explained')"
   ]
  },
  {
   "cell_type": "markdown",
   "metadata": {},
   "source": [
    "We will use first three Components"
   ]
  },
  {
   "cell_type": "code",
   "execution_count": 22,
   "metadata": {},
   "outputs": [],
   "source": [
    "df[\"PC1\"] = principalComponents[:,0]\n",
    "df[\"PC2\"] = principalComponents[:,1]\n",
    "df[\"PC3\"] = principalComponents[:,2]\n",
    "df = df.drop(columns=features)"
   ]
  },
  {
   "cell_type": "code",
   "execution_count": 23,
   "metadata": {},
   "outputs": [
    {
     "name": "stdout",
     "output_type": "stream",
     "text": [
      "(2470, 35)\n"
     ]
    }
   ],
   "source": [
    "print(df.shape)"
   ]
  },
  {
   "cell_type": "markdown",
   "metadata": {},
   "source": [
    "# Summary\n",
    "-  Started with two data sets with different colummns\n",
    "-  To make columns same, deleted \"Degree\" since it only contained a single value, changed the name of 2 columns and added zeros to a column\n",
    "    -  QUESTION: How to deal with \"years to degree\" for unsuccessful students? - make it 0 or a large value?\n",
    "-  Merged the Citizenship column together into a \"Regions\" field, indicating which continent the student is from.\n",
    "-  Merged the multiple Race fields into a single column\n",
    "-  Subbed out NaN's with zeros in columns that made sense. \n",
    "-  QUESTION: There is 8 different GPA fields, for up to 8 years of GPA but not all fields are filled. Furthermore, some observations go from GPA -> 0 -> GPA. How to handle.\n",
    "-  Used PCA to summarize each student's application strength. From Skree Plot, decided to use first three PCs"
   ]
  },
  {
   "cell_type": "code",
   "execution_count": 29,
   "metadata": {},
   "outputs": [
    {
     "data": {
      "text/plain": [
       "0        NaN\n",
       "1        NaN\n",
       "2        NaN\n",
       "3        NaN\n",
       "4       Asia\n",
       "        ... \n",
       "2465     NaN\n",
       "2466     NaN\n",
       "2467     NaN\n",
       "2468    Asia\n",
       "2469     NaN\n",
       "Name: Citizen, Length: 2470, dtype: object"
      ]
     },
     "execution_count": 29,
     "metadata": {},
     "output_type": "execute_result"
    }
   ],
   "source": [
    "df[\"Citizen\"]"
   ]
  }
 ],
 "metadata": {
  "kernelspec": {
   "display_name": "Tensorflow 2.0",
   "language": "python",
   "name": "tensorflow"
  },
  "language_info": {
   "codemirror_mode": {
    "name": "ipython",
    "version": 3
   },
   "file_extension": ".py",
   "mimetype": "text/x-python",
   "name": "python",
   "nbconvert_exporter": "python",
   "pygments_lexer": "ipython3",
   "version": "3.7.4"
  }
 },
 "nbformat": 4,
 "nbformat_minor": 2
}
